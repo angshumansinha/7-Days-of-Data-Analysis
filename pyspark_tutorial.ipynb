{
  "nbformat": 4,
  "nbformat_minor": 0,
  "metadata": {
    "colab": {
      "name": "pyspark_tutorial.ipynb",
      "provenance": [],
      "authorship_tag": "ABX9TyNG5Mjdl0PgSFOuoT42i1RY",
      "include_colab_link": true
    },
    "kernelspec": {
      "name": "python3",
      "display_name": "Python 3"
    },
    "language_info": {
      "name": "python"
    }
  },
  "cells": [
    {
      "cell_type": "markdown",
      "metadata": {
        "id": "view-in-github",
        "colab_type": "text"
      },
      "source": [
        "<a href=\"https://colab.research.google.com/github/angshumansinha/7-Days-of-Data-Analysis/blob/main/pyspark_tutorial.ipynb\" target=\"_parent\"><img src=\"https://colab.research.google.com/assets/colab-badge.svg\" alt=\"Open In Colab\"/></a>"
      ]
    },
    {
      "cell_type": "code",
      "execution_count": 1,
      "metadata": {
        "colab": {
          "base_uri": "https://localhost:8080/"
        },
        "id": "hmwIpoI779Jz",
        "outputId": "b774a910-35d2-4cf0-a92d-86b88052dfe6"
      },
      "outputs": [
        {
          "output_type": "stream",
          "name": "stdout",
          "text": [
            "Looking in indexes: https://pypi.org/simple, https://us-python.pkg.dev/colab-wheels/public/simple/\n",
            "Collecting pyspark\n",
            "  Downloading pyspark-3.3.0.tar.gz (281.3 MB)\n",
            "\u001b[K     |████████████████████████████████| 281.3 MB 35 kB/s \n",
            "\u001b[?25hCollecting py4j==0.10.9.5\n",
            "  Downloading py4j-0.10.9.5-py2.py3-none-any.whl (199 kB)\n",
            "\u001b[K     |████████████████████████████████| 199 kB 44.2 MB/s \n",
            "\u001b[?25hBuilding wheels for collected packages: pyspark\n",
            "  Building wheel for pyspark (setup.py) ... \u001b[?25l\u001b[?25hdone\n",
            "  Created wheel for pyspark: filename=pyspark-3.3.0-py2.py3-none-any.whl size=281764026 sha256=44efda46b2c1abcf621371dace6aef21b26830db011a40f12e6d9c029bf1f2ba\n",
            "  Stored in directory: /root/.cache/pip/wheels/7a/8e/1b/f73a52650d2e5f337708d9f6a1750d451a7349a867f928b885\n",
            "Successfully built pyspark\n",
            "Installing collected packages: py4j, pyspark\n",
            "Successfully installed py4j-0.10.9.5 pyspark-3.3.0\n"
          ]
        }
      ],
      "source": [
        "!pip install pyspark"
      ]
    },
    {
      "cell_type": "code",
      "source": [
        "from pyspark.sql import SparkSession"
      ],
      "metadata": {
        "id": "L0ngfeJS8E0o"
      },
      "execution_count": 2,
      "outputs": []
    },
    {
      "cell_type": "code",
      "source": [
        "#create spark Session\n",
        "spark=SparkSession.builder.appName(\"Sample\").getOrCreate()"
      ],
      "metadata": {
        "id": "8hies_Iz8lTG"
      },
      "execution_count": 3,
      "outputs": []
    },
    {
      "cell_type": "code",
      "source": [
        "spark"
      ],
      "metadata": {
        "colab": {
          "base_uri": "https://localhost:8080/",
          "height": 219
        },
        "id": "Uke6Kak980_J",
        "outputId": "99a83ad1-31db-41e5-83a4-9907bf62038b"
      },
      "execution_count": 4,
      "outputs": [
        {
          "output_type": "execute_result",
          "data": {
            "text/plain": [
              "<pyspark.sql.session.SparkSession at 0x7f9979002450>"
            ],
            "text/html": [
              "\n",
              "            <div>\n",
              "                <p><b>SparkSession - in-memory</b></p>\n",
              "                \n",
              "        <div>\n",
              "            <p><b>SparkContext</b></p>\n",
              "\n",
              "            <p><a href=\"http://62d71933053e:4040\">Spark UI</a></p>\n",
              "\n",
              "            <dl>\n",
              "              <dt>Version</dt>\n",
              "                <dd><code>v3.3.0</code></dd>\n",
              "              <dt>Master</dt>\n",
              "                <dd><code>local[*]</code></dd>\n",
              "              <dt>AppName</dt>\n",
              "                <dd><code>Sample</code></dd>\n",
              "            </dl>\n",
              "        </div>\n",
              "        \n",
              "            </div>\n",
              "        "
            ]
          },
          "metadata": {},
          "execution_count": 4
        }
      ]
    },
    {
      "cell_type": "code",
      "source": [
        "df_spark=spark.read.csv(\"/content/data.csv\")"
      ],
      "metadata": {
        "id": "WSdoA44087FI"
      },
      "execution_count": 5,
      "outputs": []
    },
    {
      "cell_type": "code",
      "source": [
        "df_spark"
      ],
      "metadata": {
        "colab": {
          "base_uri": "https://localhost:8080/"
        },
        "id": "ef5VQ1Zk9KQP",
        "outputId": "62fba804-bd8d-4f3f-bbce-785f2d8ebc97"
      },
      "execution_count": 7,
      "outputs": [
        {
          "output_type": "execute_result",
          "data": {
            "text/plain": [
              "DataFrame[_c0: string, _c1: string, _c2: string, _c3: string, _c4: string, _c5: string, _c6: string, _c7: string, _c8: string, _c9: string, _c10: string, _c11: string, _c12: string, _c13: string]"
            ]
          },
          "metadata": {},
          "execution_count": 7
        }
      ]
    },
    {
      "cell_type": "code",
      "source": [
        "df_spark.show()"
      ],
      "metadata": {
        "colab": {
          "base_uri": "https://localhost:8080/"
        },
        "id": "Z6oTLIjG9Nxp",
        "outputId": "be429a12-d833-408c-82e9-b6e53603430c"
      },
      "execution_count": 8,
      "outputs": [
        {
          "output_type": "stream",
          "name": "stdout",
          "text": [
            "+---+----+--------------+--------+-----+--------------+---------------+--------------------+----------------+------------+-----------+------------+------------+--------------+\n",
            "|_c0| _c1|           _c2|     _c3|  _c4|           _c5|            _c6|                 _c7|             _c8|         _c9|       _c10|        _c11|        _c12|          _c13|\n",
            "+---+----+--------------+--------+-----+--------------+---------------+--------------------+----------------+------------+-----------+------------+------------+--------------+\n",
            "| id|year|institute_type|round_no|quota|          pool|institute_short|        program_name|program_duration|degree_short|   category|opening_rank|closing_rank|is_preparatory|\n",
            "|  1|2016|           IIT|       6|   AI|Gender-Neutral|     IIT-Bombay|Aerospace Enginee...|         4 Years|      B.Tech|        GEN|         838|        1841|             0|\n",
            "|  2|2016|           IIT|       6|   AI|Gender-Neutral|     IIT-Bombay|Aerospace Enginee...|         4 Years|      B.Tech|    OBC-NCL|         408|        1098|             0|\n",
            "|  3|2016|           IIT|       6|   AI|Gender-Neutral|     IIT-Bombay|Aerospace Enginee...|         4 Years|      B.Tech|         SC|         297|         468|             0|\n",
            "|  4|2016|           IIT|       6|   AI|Gender-Neutral|     IIT-Bombay|Aerospace Enginee...|         4 Years|      B.Tech|         ST|          79|         145|             0|\n",
            "|  5|2016|           IIT|       6|   AI|Gender-Neutral|     IIT-Bombay|Aerospace Enginee...|         4 Years|      B.Tech|    GEN-PWD|          94|          94|             0|\n",
            "|  6|2016|           IIT|       6|   AI|Gender-Neutral|     IIT-Bombay|Aerospace Enginee...|         4 Years|      B.Tech|OBC-NCL-PWD|          45|          45|             0|\n",
            "|  7|2016|           IIT|       6|   AI|Gender-Neutral|     IIT-Bombay|Chemical Engineering|         4 Years|      B.Tech|        GEN|         422|        1479|             0|\n",
            "|  8|2016|           IIT|       6|   AI|Gender-Neutral|     IIT-Bombay|Chemical Engineering|         4 Years|      B.Tech|    OBC-NCL|         447|         974|             0|\n",
            "|  9|2016|           IIT|       6|   AI|Gender-Neutral|     IIT-Bombay|Chemical Engineering|         4 Years|      B.Tech|         SC|         257|         572|             0|\n",
            "| 10|2016|           IIT|       6|   AI|Gender-Neutral|     IIT-Bombay|Chemical Engineering|         4 Years|      B.Tech|         ST|         161|         335|             0|\n",
            "| 11|2016|           IIT|       6|   AI|Gender-Neutral|     IIT-Bombay|Chemical Engineering|         4 Years|      B.Tech|    GEN-PWD|          51|          75|             0|\n",
            "| 12|2016|           IIT|       6|   AI|Gender-Neutral|     IIT-Bombay|Chemical Engineering|         4 Years|      B.Tech|OBC-NCL-PWD|          40|          40|             0|\n",
            "| 13|2016|           IIT|       6|   AI|Gender-Neutral|     IIT-Bombay|Chemical Engineering|         4 Years|      B.Tech|     SC-PWD|           3|           3|             0|\n",
            "| 14|2016|           IIT|       6|   AI|Gender-Neutral|     IIT-Bombay|           Chemistry|         4 Years|         BSc|        GEN|        3323|        4880|             0|\n",
            "| 15|2016|           IIT|       6|   AI|Gender-Neutral|     IIT-Bombay|           Chemistry|         4 Years|         BSc|    OBC-NCL|        1753|        2596|             0|\n",
            "| 16|2016|           IIT|       6|   AI|Gender-Neutral|     IIT-Bombay|           Chemistry|         4 Years|         BSc|         SC|         261|        1743|             0|\n",
            "| 17|2016|           IIT|       6|   AI|Gender-Neutral|     IIT-Bombay|           Chemistry|         4 Years|         BSc|         ST|         661|         697|             0|\n",
            "| 18|2016|           IIT|       6|   AI|Gender-Neutral|     IIT-Bombay|           Chemistry|         4 Years|         BSc|    GEN-PWD|          49|          49|             0|\n",
            "| 19|2016|           IIT|       6|   AI|Gender-Neutral|     IIT-Bombay|   Civil Engineering|         4 Years|      B.Tech|        GEN|         897|        2251|             0|\n",
            "+---+----+--------------+--------+-----+--------------+---------------+--------------------+----------------+------------+-----------+------------+------------+--------------+\n",
            "only showing top 20 rows\n",
            "\n"
          ]
        }
      ]
    },
    {
      "cell_type": "code",
      "source": [
        "df_spark=spark.read.option('header','true').csv(\"/content/data.csv\")"
      ],
      "metadata": {
        "id": "DoH_BLgr9bCP"
      },
      "execution_count": 9,
      "outputs": []
    },
    {
      "cell_type": "code",
      "source": [
        "df_spark"
      ],
      "metadata": {
        "colab": {
          "base_uri": "https://localhost:8080/"
        },
        "id": "rp8IWAzB9s13",
        "outputId": "4bbc0442-f6f0-4669-c700-b3253cebb8b2"
      },
      "execution_count": 10,
      "outputs": [
        {
          "output_type": "execute_result",
          "data": {
            "text/plain": [
              "DataFrame[id: string, year: string, institute_type: string, round_no: string, quota: string, pool: string, institute_short: string, program_name: string, program_duration: string, degree_short: string, category: string, opening_rank: string, closing_rank: string, is_preparatory: string]"
            ]
          },
          "metadata": {},
          "execution_count": 10
        }
      ]
    },
    {
      "cell_type": "code",
      "source": [
        "df_spark.show()"
      ],
      "metadata": {
        "colab": {
          "base_uri": "https://localhost:8080/"
        },
        "id": "kXbkl3t99uMx",
        "outputId": "097a0985-8410-4f8d-f202-462a97ce237a"
      },
      "execution_count": 11,
      "outputs": [
        {
          "output_type": "stream",
          "name": "stdout",
          "text": [
            "+---+----+--------------+--------+-----+--------------+---------------+--------------------+----------------+------------+-----------+------------+------------+--------------+\n",
            "| id|year|institute_type|round_no|quota|          pool|institute_short|        program_name|program_duration|degree_short|   category|opening_rank|closing_rank|is_preparatory|\n",
            "+---+----+--------------+--------+-----+--------------+---------------+--------------------+----------------+------------+-----------+------------+------------+--------------+\n",
            "|  1|2016|           IIT|       6|   AI|Gender-Neutral|     IIT-Bombay|Aerospace Enginee...|         4 Years|      B.Tech|        GEN|         838|        1841|             0|\n",
            "|  2|2016|           IIT|       6|   AI|Gender-Neutral|     IIT-Bombay|Aerospace Enginee...|         4 Years|      B.Tech|    OBC-NCL|         408|        1098|             0|\n",
            "|  3|2016|           IIT|       6|   AI|Gender-Neutral|     IIT-Bombay|Aerospace Enginee...|         4 Years|      B.Tech|         SC|         297|         468|             0|\n",
            "|  4|2016|           IIT|       6|   AI|Gender-Neutral|     IIT-Bombay|Aerospace Enginee...|         4 Years|      B.Tech|         ST|          79|         145|             0|\n",
            "|  5|2016|           IIT|       6|   AI|Gender-Neutral|     IIT-Bombay|Aerospace Enginee...|         4 Years|      B.Tech|    GEN-PWD|          94|          94|             0|\n",
            "|  6|2016|           IIT|       6|   AI|Gender-Neutral|     IIT-Bombay|Aerospace Enginee...|         4 Years|      B.Tech|OBC-NCL-PWD|          45|          45|             0|\n",
            "|  7|2016|           IIT|       6|   AI|Gender-Neutral|     IIT-Bombay|Chemical Engineering|         4 Years|      B.Tech|        GEN|         422|        1479|             0|\n",
            "|  8|2016|           IIT|       6|   AI|Gender-Neutral|     IIT-Bombay|Chemical Engineering|         4 Years|      B.Tech|    OBC-NCL|         447|         974|             0|\n",
            "|  9|2016|           IIT|       6|   AI|Gender-Neutral|     IIT-Bombay|Chemical Engineering|         4 Years|      B.Tech|         SC|         257|         572|             0|\n",
            "| 10|2016|           IIT|       6|   AI|Gender-Neutral|     IIT-Bombay|Chemical Engineering|         4 Years|      B.Tech|         ST|         161|         335|             0|\n",
            "| 11|2016|           IIT|       6|   AI|Gender-Neutral|     IIT-Bombay|Chemical Engineering|         4 Years|      B.Tech|    GEN-PWD|          51|          75|             0|\n",
            "| 12|2016|           IIT|       6|   AI|Gender-Neutral|     IIT-Bombay|Chemical Engineering|         4 Years|      B.Tech|OBC-NCL-PWD|          40|          40|             0|\n",
            "| 13|2016|           IIT|       6|   AI|Gender-Neutral|     IIT-Bombay|Chemical Engineering|         4 Years|      B.Tech|     SC-PWD|           3|           3|             0|\n",
            "| 14|2016|           IIT|       6|   AI|Gender-Neutral|     IIT-Bombay|           Chemistry|         4 Years|         BSc|        GEN|        3323|        4880|             0|\n",
            "| 15|2016|           IIT|       6|   AI|Gender-Neutral|     IIT-Bombay|           Chemistry|         4 Years|         BSc|    OBC-NCL|        1753|        2596|             0|\n",
            "| 16|2016|           IIT|       6|   AI|Gender-Neutral|     IIT-Bombay|           Chemistry|         4 Years|         BSc|         SC|         261|        1743|             0|\n",
            "| 17|2016|           IIT|       6|   AI|Gender-Neutral|     IIT-Bombay|           Chemistry|         4 Years|         BSc|         ST|         661|         697|             0|\n",
            "| 18|2016|           IIT|       6|   AI|Gender-Neutral|     IIT-Bombay|           Chemistry|         4 Years|         BSc|    GEN-PWD|          49|          49|             0|\n",
            "| 19|2016|           IIT|       6|   AI|Gender-Neutral|     IIT-Bombay|   Civil Engineering|         4 Years|      B.Tech|        GEN|         897|        2251|             0|\n",
            "| 20|2016|           IIT|       6|   AI|Gender-Neutral|     IIT-Bombay|   Civil Engineering|         4 Years|      B.Tech|    OBC-NCL|         356|        1007|             0|\n",
            "+---+----+--------------+--------+-----+--------------+---------------+--------------------+----------------+------------+-----------+------------+------------+--------------+\n",
            "only showing top 20 rows\n",
            "\n"
          ]
        }
      ]
    },
    {
      "cell_type": "code",
      "source": [
        "type(df_spark)"
      ],
      "metadata": {
        "colab": {
          "base_uri": "https://localhost:8080/"
        },
        "id": "k3L_e8vM9xD_",
        "outputId": "274a5a14-3164-40e4-fad3-f02b03fe92a8"
      },
      "execution_count": 12,
      "outputs": [
        {
          "output_type": "execute_result",
          "data": {
            "text/plain": [
              "pyspark.sql.dataframe.DataFrame"
            ]
          },
          "metadata": {},
          "execution_count": 12
        }
      ]
    },
    {
      "cell_type": "code",
      "source": [
        "df_spark.head()"
      ],
      "metadata": {
        "colab": {
          "base_uri": "https://localhost:8080/"
        },
        "id": "Bc2HjL_293G2",
        "outputId": "97bd2fb0-5a3a-4ec0-eaf5-140156f40878"
      },
      "execution_count": 13,
      "outputs": [
        {
          "output_type": "execute_result",
          "data": {
            "text/plain": [
              "Row(id='1', year='2016', institute_type='IIT', round_no='6', quota='AI', pool='Gender-Neutral', institute_short='IIT-Bombay', program_name='Aerospace Engineering', program_duration='4 Years', degree_short='B.Tech', category='GEN', opening_rank='838', closing_rank='1841', is_preparatory='0')"
            ]
          },
          "metadata": {},
          "execution_count": 13
        }
      ]
    },
    {
      "cell_type": "code",
      "source": [
        "df_spark.printSchema()"
      ],
      "metadata": {
        "colab": {
          "base_uri": "https://localhost:8080/"
        },
        "id": "HuVFmv5L95op",
        "outputId": "8792065a-67e4-496d-e6dc-3cda151ac796"
      },
      "execution_count": 14,
      "outputs": [
        {
          "output_type": "stream",
          "name": "stdout",
          "text": [
            "root\n",
            " |-- id: string (nullable = true)\n",
            " |-- year: string (nullable = true)\n",
            " |-- institute_type: string (nullable = true)\n",
            " |-- round_no: string (nullable = true)\n",
            " |-- quota: string (nullable = true)\n",
            " |-- pool: string (nullable = true)\n",
            " |-- institute_short: string (nullable = true)\n",
            " |-- program_name: string (nullable = true)\n",
            " |-- program_duration: string (nullable = true)\n",
            " |-- degree_short: string (nullable = true)\n",
            " |-- category: string (nullable = true)\n",
            " |-- opening_rank: string (nullable = true)\n",
            " |-- closing_rank: string (nullable = true)\n",
            " |-- is_preparatory: string (nullable = true)\n",
            "\n"
          ]
        }
      ]
    },
    {
      "cell_type": "code",
      "source": [
        "#different options to read\n",
        "\"\"\"\n",
        "spark.read.option(\"header\",\"true\").csv('df.csv').show()\n",
        "by default all data types are taken as string\n",
        "\"\"\"\n",
        "df_pyspark=spark.read.option('header','true').csv(\"/content/data.csv\",inferSchema=True).show()"
      ],
      "metadata": {
        "colab": {
          "base_uri": "https://localhost:8080/"
        },
        "id": "sUQ_aouY9-wV",
        "outputId": "a90f7c21-de43-41ca-ef5a-52e493aa3e4a"
      },
      "execution_count": 15,
      "outputs": [
        {
          "output_type": "stream",
          "name": "stdout",
          "text": [
            "+---+----+--------------+--------+-----+--------------+---------------+--------------------+----------------+------------+-----------+------------+------------+--------------+\n",
            "| id|year|institute_type|round_no|quota|          pool|institute_short|        program_name|program_duration|degree_short|   category|opening_rank|closing_rank|is_preparatory|\n",
            "+---+----+--------------+--------+-----+--------------+---------------+--------------------+----------------+------------+-----------+------------+------------+--------------+\n",
            "|  1|2016|           IIT|       6|   AI|Gender-Neutral|     IIT-Bombay|Aerospace Enginee...|         4 Years|      B.Tech|        GEN|         838|        1841|             0|\n",
            "|  2|2016|           IIT|       6|   AI|Gender-Neutral|     IIT-Bombay|Aerospace Enginee...|         4 Years|      B.Tech|    OBC-NCL|         408|        1098|             0|\n",
            "|  3|2016|           IIT|       6|   AI|Gender-Neutral|     IIT-Bombay|Aerospace Enginee...|         4 Years|      B.Tech|         SC|         297|         468|             0|\n",
            "|  4|2016|           IIT|       6|   AI|Gender-Neutral|     IIT-Bombay|Aerospace Enginee...|         4 Years|      B.Tech|         ST|          79|         145|             0|\n",
            "|  5|2016|           IIT|       6|   AI|Gender-Neutral|     IIT-Bombay|Aerospace Enginee...|         4 Years|      B.Tech|    GEN-PWD|          94|          94|             0|\n",
            "|  6|2016|           IIT|       6|   AI|Gender-Neutral|     IIT-Bombay|Aerospace Enginee...|         4 Years|      B.Tech|OBC-NCL-PWD|          45|          45|             0|\n",
            "|  7|2016|           IIT|       6|   AI|Gender-Neutral|     IIT-Bombay|Chemical Engineering|         4 Years|      B.Tech|        GEN|         422|        1479|             0|\n",
            "|  8|2016|           IIT|       6|   AI|Gender-Neutral|     IIT-Bombay|Chemical Engineering|         4 Years|      B.Tech|    OBC-NCL|         447|         974|             0|\n",
            "|  9|2016|           IIT|       6|   AI|Gender-Neutral|     IIT-Bombay|Chemical Engineering|         4 Years|      B.Tech|         SC|         257|         572|             0|\n",
            "| 10|2016|           IIT|       6|   AI|Gender-Neutral|     IIT-Bombay|Chemical Engineering|         4 Years|      B.Tech|         ST|         161|         335|             0|\n",
            "| 11|2016|           IIT|       6|   AI|Gender-Neutral|     IIT-Bombay|Chemical Engineering|         4 Years|      B.Tech|    GEN-PWD|          51|          75|             0|\n",
            "| 12|2016|           IIT|       6|   AI|Gender-Neutral|     IIT-Bombay|Chemical Engineering|         4 Years|      B.Tech|OBC-NCL-PWD|          40|          40|             0|\n",
            "| 13|2016|           IIT|       6|   AI|Gender-Neutral|     IIT-Bombay|Chemical Engineering|         4 Years|      B.Tech|     SC-PWD|           3|           3|             0|\n",
            "| 14|2016|           IIT|       6|   AI|Gender-Neutral|     IIT-Bombay|           Chemistry|         4 Years|         BSc|        GEN|        3323|        4880|             0|\n",
            "| 15|2016|           IIT|       6|   AI|Gender-Neutral|     IIT-Bombay|           Chemistry|         4 Years|         BSc|    OBC-NCL|        1753|        2596|             0|\n",
            "| 16|2016|           IIT|       6|   AI|Gender-Neutral|     IIT-Bombay|           Chemistry|         4 Years|         BSc|         SC|         261|        1743|             0|\n",
            "| 17|2016|           IIT|       6|   AI|Gender-Neutral|     IIT-Bombay|           Chemistry|         4 Years|         BSc|         ST|         661|         697|             0|\n",
            "| 18|2016|           IIT|       6|   AI|Gender-Neutral|     IIT-Bombay|           Chemistry|         4 Years|         BSc|    GEN-PWD|          49|          49|             0|\n",
            "| 19|2016|           IIT|       6|   AI|Gender-Neutral|     IIT-Bombay|   Civil Engineering|         4 Years|      B.Tech|        GEN|         897|        2251|             0|\n",
            "| 20|2016|           IIT|       6|   AI|Gender-Neutral|     IIT-Bombay|   Civil Engineering|         4 Years|      B.Tech|    OBC-NCL|         356|        1007|             0|\n",
            "+---+----+--------------+--------+-----+--------------+---------------+--------------------+----------------+------------+-----------+------------+------------+--------------+\n",
            "only showing top 20 rows\n",
            "\n"
          ]
        }
      ]
    },
    {
      "cell_type": "code",
      "source": [
        "df_spark.printSchema()"
      ],
      "metadata": {
        "colab": {
          "base_uri": "https://localhost:8080/"
        },
        "id": "jeVvqRBaAAPY",
        "outputId": "878eae4b-850d-45b9-e825-32a46fbbc477"
      },
      "execution_count": 16,
      "outputs": [
        {
          "output_type": "stream",
          "name": "stdout",
          "text": [
            "root\n",
            " |-- id: string (nullable = true)\n",
            " |-- year: string (nullable = true)\n",
            " |-- institute_type: string (nullable = true)\n",
            " |-- round_no: string (nullable = true)\n",
            " |-- quota: string (nullable = true)\n",
            " |-- pool: string (nullable = true)\n",
            " |-- institute_short: string (nullable = true)\n",
            " |-- program_name: string (nullable = true)\n",
            " |-- program_duration: string (nullable = true)\n",
            " |-- degree_short: string (nullable = true)\n",
            " |-- category: string (nullable = true)\n",
            " |-- opening_rank: string (nullable = true)\n",
            " |-- closing_rank: string (nullable = true)\n",
            " |-- is_preparatory: string (nullable = true)\n",
            "\n"
          ]
        }
      ]
    },
    {
      "cell_type": "code",
      "source": [
        "#alternative way\n",
        "df_spark=spark.read.csv(\"/content/data.csv\",header=True,inferSchema=True)"
      ],
      "metadata": {
        "id": "vzWRIC0eAEx1"
      },
      "execution_count": 17,
      "outputs": []
    },
    {
      "cell_type": "code",
      "source": [
        "df_spark.head()"
      ],
      "metadata": {
        "colab": {
          "base_uri": "https://localhost:8080/"
        },
        "id": "nT2GO5fmAdrN",
        "outputId": "cc1b8931-eb53-4efc-f0ec-33d9a2cb9fbe"
      },
      "execution_count": 18,
      "outputs": [
        {
          "output_type": "execute_result",
          "data": {
            "text/plain": [
              "Row(id=1, year=2016, institute_type='IIT', round_no=6, quota='AI', pool='Gender-Neutral', institute_short='IIT-Bombay', program_name='Aerospace Engineering', program_duration='4 Years', degree_short='B.Tech', category='GEN', opening_rank=838, closing_rank=1841, is_preparatory=0)"
            ]
          },
          "metadata": {},
          "execution_count": 18
        }
      ]
    },
    {
      "cell_type": "code",
      "source": [
        "#selecting columns and indexing\n",
        "df_spark.columns"
      ],
      "metadata": {
        "colab": {
          "base_uri": "https://localhost:8080/"
        },
        "id": "yUDTglAeAf2I",
        "outputId": "fb2adb9e-9bd4-4d17-aaa7-beebb022e0ce"
      },
      "execution_count": 19,
      "outputs": [
        {
          "output_type": "execute_result",
          "data": {
            "text/plain": [
              "['id',\n",
              " 'year',\n",
              " 'institute_type',\n",
              " 'round_no',\n",
              " 'quota',\n",
              " 'pool',\n",
              " 'institute_short',\n",
              " 'program_name',\n",
              " 'program_duration',\n",
              " 'degree_short',\n",
              " 'category',\n",
              " 'opening_rank',\n",
              " 'closing_rank',\n",
              " 'is_preparatory']"
            ]
          },
          "metadata": {},
          "execution_count": 19
        }
      ]
    },
    {
      "cell_type": "code",
      "source": [
        "#select a particular column\n",
        "df_spark.select(['institute_type','degree_short']).show()"
      ],
      "metadata": {
        "colab": {
          "base_uri": "https://localhost:8080/"
        },
        "id": "XKo85Zx_Aney",
        "outputId": "ed0c3a75-95e1-4f3f-e392-9e61c4a33ff9"
      },
      "execution_count": 35,
      "outputs": [
        {
          "output_type": "stream",
          "name": "stdout",
          "text": [
            "+--------------+------------+\n",
            "|institute_type|degree_short|\n",
            "+--------------+------------+\n",
            "|           IIT|      B.Tech|\n",
            "|           IIT|      B.Tech|\n",
            "|           IIT|      B.Tech|\n",
            "|           IIT|      B.Tech|\n",
            "|           IIT|      B.Tech|\n",
            "|           IIT|      B.Tech|\n",
            "|           IIT|      B.Tech|\n",
            "|           IIT|      B.Tech|\n",
            "|           IIT|      B.Tech|\n",
            "|           IIT|      B.Tech|\n",
            "|           IIT|      B.Tech|\n",
            "|           IIT|      B.Tech|\n",
            "|           IIT|      B.Tech|\n",
            "|           IIT|         BSc|\n",
            "|           IIT|         BSc|\n",
            "|           IIT|         BSc|\n",
            "|           IIT|         BSc|\n",
            "|           IIT|         BSc|\n",
            "|           IIT|      B.Tech|\n",
            "|           IIT|      B.Tech|\n",
            "+--------------+------------+\n",
            "only showing top 20 rows\n",
            "\n"
          ]
        }
      ]
    },
    {
      "cell_type": "code",
      "source": [
        "#summarization in pyspark\n",
        "df_spark.describe().show()"
      ],
      "metadata": {
        "colab": {
          "base_uri": "https://localhost:8080/"
        },
        "id": "tj9TWr8ZAqcr",
        "outputId": "6f12fec0-cc8e-42d9-d215-6bf1c42f558c"
      },
      "execution_count": 36,
      "outputs": [
        {
          "output_type": "stream",
          "name": "stdout",
          "text": [
            "+-------+-----------------+------------------+--------------+------------------+-----+--------------+------------------+--------------------+----------------+------------+--------+------------------+------------------+-------------------+\n",
            "|summary|               id|              year|institute_type|          round_no|quota|          pool|   institute_short|        program_name|program_duration|degree_short|category|      opening_rank|      closing_rank|     is_preparatory|\n",
            "+-------+-----------------+------------------+--------------+------------------+-----+--------------+------------------+--------------------+----------------+------------+--------+------------------+------------------+-------------------+\n",
            "|  count|            64958|             64958|         64958|             64958|64958|         64958|             64958|               64958|           64958|       64958|   64958|             64958|             64958|              64958|\n",
            "|   mean|18171.17338895902|2020.4215800979093|          null|2.6093475784352966| null|          null|              null|                null|            null|        null|    null| 8259.641830105607|10704.971597031928|0.04763077680963084|\n",
            "| stddev|9619.123659212122|  1.14976166727709|          null|2.4225579678576956| null|          null|              null|                null|            null|        null|    null|26794.475747713463| 37881.00984786956|0.21298540853862677|\n",
            "|    min|                1|              2016|           IIT|                 1|   AI|   Female-Only|IIT-(BHU) Varanasi|Aerospace Enginee...|         4 Years|      B.Arch|     GEN|                 0|                 0|                  0|\n",
            "|    max|            31140|              2021|           NIT|                 7|   OS|Gender-Neutral|      NIT-Warangal|  Textile Technology|         5 Years|    Int Msc.|  ST-PWD|           1082601|           1144790|                  1|\n",
            "+-------+-----------------+------------------+--------------+------------------+-----+--------------+------------------+--------------------+----------------+------------+--------+------------------+------------------+-------------------+\n",
            "\n"
          ]
        }
      ]
    },
    {
      "cell_type": "code",
      "source": [
        "#adding columns in dataframe\n",
        "df_spark=df_spark.withColumn('seat_availability',df_spark['closing_rank']-df_spark['opening_rank'])"
      ],
      "metadata": {
        "id": "mAtmaXDiBh6j"
      },
      "execution_count": 39,
      "outputs": []
    },
    {
      "cell_type": "code",
      "source": [
        "df_spark.show()"
      ],
      "metadata": {
        "colab": {
          "base_uri": "https://localhost:8080/"
        },
        "id": "6uEOCvh_Cjkj",
        "outputId": "b55f2d02-d899-4d42-9bde-1760e2d9f20b"
      },
      "execution_count": 40,
      "outputs": [
        {
          "output_type": "stream",
          "name": "stdout",
          "text": [
            "+---+----+--------------+--------+-----+--------------+---------------+--------------------+----------------+------------+-----------+------------+------------+--------------+-----------------+\n",
            "| id|year|institute_type|round_no|quota|          pool|institute_short|        program_name|program_duration|degree_short|   category|opening_rank|closing_rank|is_preparatory|seat_availability|\n",
            "+---+----+--------------+--------+-----+--------------+---------------+--------------------+----------------+------------+-----------+------------+------------+--------------+-----------------+\n",
            "|  1|2016|           IIT|       6|   AI|Gender-Neutral|     IIT-Bombay|Aerospace Enginee...|         4 Years|      B.Tech|        GEN|         838|        1841|             0|             1003|\n",
            "|  2|2016|           IIT|       6|   AI|Gender-Neutral|     IIT-Bombay|Aerospace Enginee...|         4 Years|      B.Tech|    OBC-NCL|         408|        1098|             0|              690|\n",
            "|  3|2016|           IIT|       6|   AI|Gender-Neutral|     IIT-Bombay|Aerospace Enginee...|         4 Years|      B.Tech|         SC|         297|         468|             0|              171|\n",
            "|  4|2016|           IIT|       6|   AI|Gender-Neutral|     IIT-Bombay|Aerospace Enginee...|         4 Years|      B.Tech|         ST|          79|         145|             0|               66|\n",
            "|  5|2016|           IIT|       6|   AI|Gender-Neutral|     IIT-Bombay|Aerospace Enginee...|         4 Years|      B.Tech|    GEN-PWD|          94|          94|             0|                0|\n",
            "|  6|2016|           IIT|       6|   AI|Gender-Neutral|     IIT-Bombay|Aerospace Enginee...|         4 Years|      B.Tech|OBC-NCL-PWD|          45|          45|             0|                0|\n",
            "|  7|2016|           IIT|       6|   AI|Gender-Neutral|     IIT-Bombay|Chemical Engineering|         4 Years|      B.Tech|        GEN|         422|        1479|             0|             1057|\n",
            "|  8|2016|           IIT|       6|   AI|Gender-Neutral|     IIT-Bombay|Chemical Engineering|         4 Years|      B.Tech|    OBC-NCL|         447|         974|             0|              527|\n",
            "|  9|2016|           IIT|       6|   AI|Gender-Neutral|     IIT-Bombay|Chemical Engineering|         4 Years|      B.Tech|         SC|         257|         572|             0|              315|\n",
            "| 10|2016|           IIT|       6|   AI|Gender-Neutral|     IIT-Bombay|Chemical Engineering|         4 Years|      B.Tech|         ST|         161|         335|             0|              174|\n",
            "| 11|2016|           IIT|       6|   AI|Gender-Neutral|     IIT-Bombay|Chemical Engineering|         4 Years|      B.Tech|    GEN-PWD|          51|          75|             0|               24|\n",
            "| 12|2016|           IIT|       6|   AI|Gender-Neutral|     IIT-Bombay|Chemical Engineering|         4 Years|      B.Tech|OBC-NCL-PWD|          40|          40|             0|                0|\n",
            "| 13|2016|           IIT|       6|   AI|Gender-Neutral|     IIT-Bombay|Chemical Engineering|         4 Years|      B.Tech|     SC-PWD|           3|           3|             0|                0|\n",
            "| 14|2016|           IIT|       6|   AI|Gender-Neutral|     IIT-Bombay|           Chemistry|         4 Years|         BSc|        GEN|        3323|        4880|             0|             1557|\n",
            "| 15|2016|           IIT|       6|   AI|Gender-Neutral|     IIT-Bombay|           Chemistry|         4 Years|         BSc|    OBC-NCL|        1753|        2596|             0|              843|\n",
            "| 16|2016|           IIT|       6|   AI|Gender-Neutral|     IIT-Bombay|           Chemistry|         4 Years|         BSc|         SC|         261|        1743|             0|             1482|\n",
            "| 17|2016|           IIT|       6|   AI|Gender-Neutral|     IIT-Bombay|           Chemistry|         4 Years|         BSc|         ST|         661|         697|             0|               36|\n",
            "| 18|2016|           IIT|       6|   AI|Gender-Neutral|     IIT-Bombay|           Chemistry|         4 Years|         BSc|    GEN-PWD|          49|          49|             0|                0|\n",
            "| 19|2016|           IIT|       6|   AI|Gender-Neutral|     IIT-Bombay|   Civil Engineering|         4 Years|      B.Tech|        GEN|         897|        2251|             0|             1354|\n",
            "| 20|2016|           IIT|       6|   AI|Gender-Neutral|     IIT-Bombay|   Civil Engineering|         4 Years|      B.Tech|    OBC-NCL|         356|        1007|             0|              651|\n",
            "+---+----+--------------+--------+-----+--------------+---------------+--------------------+----------------+------------+-----------+------------+------------+--------------+-----------------+\n",
            "only showing top 20 rows\n",
            "\n"
          ]
        }
      ]
    },
    {
      "cell_type": "code",
      "source": [
        "#renaming a column\n",
        "#Note: Do assign here inplace isn't there\n",
        "df_spark=df_spark.withColumnRenamed(\"institute_short\",\"institute\")"
      ],
      "metadata": {
        "id": "9VVNv1mhETHQ"
      },
      "execution_count": 45,
      "outputs": []
    },
    {
      "cell_type": "code",
      "source": [
        "df_spark.show()"
      ],
      "metadata": {
        "colab": {
          "base_uri": "https://localhost:8080/"
        },
        "id": "KaL7BZ37EfZj",
        "outputId": "1580f884-8a2a-489f-9780-198e26abb272"
      },
      "execution_count": 44,
      "outputs": [
        {
          "output_type": "stream",
          "name": "stdout",
          "text": [
            "+---+----+--------------+--------+-----+--------------+----------+--------------------+----------------+------------+-----------+------------+------------+--------------+-----------------+\n",
            "| id|year|institute_type|round_no|quota|          pool| institute|        program_name|program_duration|degree_short|   category|opening_rank|closing_rank|is_preparatory|seat_availability|\n",
            "+---+----+--------------+--------+-----+--------------+----------+--------------------+----------------+------------+-----------+------------+------------+--------------+-----------------+\n",
            "|  1|2016|           IIT|       6|   AI|Gender-Neutral|IIT-Bombay|Aerospace Enginee...|         4 Years|      B.Tech|        GEN|         838|        1841|             0|             1003|\n",
            "|  2|2016|           IIT|       6|   AI|Gender-Neutral|IIT-Bombay|Aerospace Enginee...|         4 Years|      B.Tech|    OBC-NCL|         408|        1098|             0|              690|\n",
            "|  3|2016|           IIT|       6|   AI|Gender-Neutral|IIT-Bombay|Aerospace Enginee...|         4 Years|      B.Tech|         SC|         297|         468|             0|              171|\n",
            "|  4|2016|           IIT|       6|   AI|Gender-Neutral|IIT-Bombay|Aerospace Enginee...|         4 Years|      B.Tech|         ST|          79|         145|             0|               66|\n",
            "|  5|2016|           IIT|       6|   AI|Gender-Neutral|IIT-Bombay|Aerospace Enginee...|         4 Years|      B.Tech|    GEN-PWD|          94|          94|             0|                0|\n",
            "|  6|2016|           IIT|       6|   AI|Gender-Neutral|IIT-Bombay|Aerospace Enginee...|         4 Years|      B.Tech|OBC-NCL-PWD|          45|          45|             0|                0|\n",
            "|  7|2016|           IIT|       6|   AI|Gender-Neutral|IIT-Bombay|Chemical Engineering|         4 Years|      B.Tech|        GEN|         422|        1479|             0|             1057|\n",
            "|  8|2016|           IIT|       6|   AI|Gender-Neutral|IIT-Bombay|Chemical Engineering|         4 Years|      B.Tech|    OBC-NCL|         447|         974|             0|              527|\n",
            "|  9|2016|           IIT|       6|   AI|Gender-Neutral|IIT-Bombay|Chemical Engineering|         4 Years|      B.Tech|         SC|         257|         572|             0|              315|\n",
            "| 10|2016|           IIT|       6|   AI|Gender-Neutral|IIT-Bombay|Chemical Engineering|         4 Years|      B.Tech|         ST|         161|         335|             0|              174|\n",
            "| 11|2016|           IIT|       6|   AI|Gender-Neutral|IIT-Bombay|Chemical Engineering|         4 Years|      B.Tech|    GEN-PWD|          51|          75|             0|               24|\n",
            "| 12|2016|           IIT|       6|   AI|Gender-Neutral|IIT-Bombay|Chemical Engineering|         4 Years|      B.Tech|OBC-NCL-PWD|          40|          40|             0|                0|\n",
            "| 13|2016|           IIT|       6|   AI|Gender-Neutral|IIT-Bombay|Chemical Engineering|         4 Years|      B.Tech|     SC-PWD|           3|           3|             0|                0|\n",
            "| 14|2016|           IIT|       6|   AI|Gender-Neutral|IIT-Bombay|           Chemistry|         4 Years|         BSc|        GEN|        3323|        4880|             0|             1557|\n",
            "| 15|2016|           IIT|       6|   AI|Gender-Neutral|IIT-Bombay|           Chemistry|         4 Years|         BSc|    OBC-NCL|        1753|        2596|             0|              843|\n",
            "| 16|2016|           IIT|       6|   AI|Gender-Neutral|IIT-Bombay|           Chemistry|         4 Years|         BSc|         SC|         261|        1743|             0|             1482|\n",
            "| 17|2016|           IIT|       6|   AI|Gender-Neutral|IIT-Bombay|           Chemistry|         4 Years|         BSc|         ST|         661|         697|             0|               36|\n",
            "| 18|2016|           IIT|       6|   AI|Gender-Neutral|IIT-Bombay|           Chemistry|         4 Years|         BSc|    GEN-PWD|          49|          49|             0|                0|\n",
            "| 19|2016|           IIT|       6|   AI|Gender-Neutral|IIT-Bombay|   Civil Engineering|         4 Years|      B.Tech|        GEN|         897|        2251|             0|             1354|\n",
            "| 20|2016|           IIT|       6|   AI|Gender-Neutral|IIT-Bombay|   Civil Engineering|         4 Years|      B.Tech|    OBC-NCL|         356|        1007|             0|              651|\n",
            "+---+----+--------------+--------+-----+--------------+----------+--------------------+----------------+------------+-----------+------------+------------+--------------+-----------------+\n",
            "only showing top 20 rows\n",
            "\n"
          ]
        }
      ]
    },
    {
      "cell_type": "code",
      "source": [
        "#handling missing values and dropping columns\n",
        "#drop\n",
        "df_spark=df_spark.drop('id')"
      ],
      "metadata": {
        "id": "mZVjDMKsCnP-"
      },
      "execution_count": 48,
      "outputs": []
    },
    {
      "cell_type": "code",
      "source": [
        "df_spark.show()"
      ],
      "metadata": {
        "colab": {
          "base_uri": "https://localhost:8080/"
        },
        "id": "Dp9reHM7FTdH",
        "outputId": "f481bdac-8c5d-4759-95d1-024c46b9b4ed"
      },
      "execution_count": 49,
      "outputs": [
        {
          "output_type": "stream",
          "name": "stdout",
          "text": [
            "+----+--------------+--------+-----+--------------+----------+--------------------+----------------+------------+-----------+------------+------------+--------------+-----------------+\n",
            "|year|institute_type|round_no|quota|          pool| institute|        program_name|program_duration|degree_short|   category|opening_rank|closing_rank|is_preparatory|seat_availability|\n",
            "+----+--------------+--------+-----+--------------+----------+--------------------+----------------+------------+-----------+------------+------------+--------------+-----------------+\n",
            "|2016|           IIT|       6|   AI|Gender-Neutral|IIT-Bombay|Aerospace Enginee...|         4 Years|      B.Tech|        GEN|         838|        1841|             0|             1003|\n",
            "|2016|           IIT|       6|   AI|Gender-Neutral|IIT-Bombay|Aerospace Enginee...|         4 Years|      B.Tech|    OBC-NCL|         408|        1098|             0|              690|\n",
            "|2016|           IIT|       6|   AI|Gender-Neutral|IIT-Bombay|Aerospace Enginee...|         4 Years|      B.Tech|         SC|         297|         468|             0|              171|\n",
            "|2016|           IIT|       6|   AI|Gender-Neutral|IIT-Bombay|Aerospace Enginee...|         4 Years|      B.Tech|         ST|          79|         145|             0|               66|\n",
            "|2016|           IIT|       6|   AI|Gender-Neutral|IIT-Bombay|Aerospace Enginee...|         4 Years|      B.Tech|    GEN-PWD|          94|          94|             0|                0|\n",
            "|2016|           IIT|       6|   AI|Gender-Neutral|IIT-Bombay|Aerospace Enginee...|         4 Years|      B.Tech|OBC-NCL-PWD|          45|          45|             0|                0|\n",
            "|2016|           IIT|       6|   AI|Gender-Neutral|IIT-Bombay|Chemical Engineering|         4 Years|      B.Tech|        GEN|         422|        1479|             0|             1057|\n",
            "|2016|           IIT|       6|   AI|Gender-Neutral|IIT-Bombay|Chemical Engineering|         4 Years|      B.Tech|    OBC-NCL|         447|         974|             0|              527|\n",
            "|2016|           IIT|       6|   AI|Gender-Neutral|IIT-Bombay|Chemical Engineering|         4 Years|      B.Tech|         SC|         257|         572|             0|              315|\n",
            "|2016|           IIT|       6|   AI|Gender-Neutral|IIT-Bombay|Chemical Engineering|         4 Years|      B.Tech|         ST|         161|         335|             0|              174|\n",
            "|2016|           IIT|       6|   AI|Gender-Neutral|IIT-Bombay|Chemical Engineering|         4 Years|      B.Tech|    GEN-PWD|          51|          75|             0|               24|\n",
            "|2016|           IIT|       6|   AI|Gender-Neutral|IIT-Bombay|Chemical Engineering|         4 Years|      B.Tech|OBC-NCL-PWD|          40|          40|             0|                0|\n",
            "|2016|           IIT|       6|   AI|Gender-Neutral|IIT-Bombay|Chemical Engineering|         4 Years|      B.Tech|     SC-PWD|           3|           3|             0|                0|\n",
            "|2016|           IIT|       6|   AI|Gender-Neutral|IIT-Bombay|           Chemistry|         4 Years|         BSc|        GEN|        3323|        4880|             0|             1557|\n",
            "|2016|           IIT|       6|   AI|Gender-Neutral|IIT-Bombay|           Chemistry|         4 Years|         BSc|    OBC-NCL|        1753|        2596|             0|              843|\n",
            "|2016|           IIT|       6|   AI|Gender-Neutral|IIT-Bombay|           Chemistry|         4 Years|         BSc|         SC|         261|        1743|             0|             1482|\n",
            "|2016|           IIT|       6|   AI|Gender-Neutral|IIT-Bombay|           Chemistry|         4 Years|         BSc|         ST|         661|         697|             0|               36|\n",
            "|2016|           IIT|       6|   AI|Gender-Neutral|IIT-Bombay|           Chemistry|         4 Years|         BSc|    GEN-PWD|          49|          49|             0|                0|\n",
            "|2016|           IIT|       6|   AI|Gender-Neutral|IIT-Bombay|   Civil Engineering|         4 Years|      B.Tech|        GEN|         897|        2251|             0|             1354|\n",
            "|2016|           IIT|       6|   AI|Gender-Neutral|IIT-Bombay|   Civil Engineering|         4 Years|      B.Tech|    OBC-NCL|         356|        1007|             0|              651|\n",
            "+----+--------------+--------+-----+--------------+----------+--------------------+----------------+------------+-----------+------------+------------+--------------+-----------------+\n",
            "only showing top 20 rows\n",
            "\n"
          ]
        }
      ]
    },
    {
      "cell_type": "code",
      "source": [
        "#syntax to drop nan values\n",
        "df_spark.na.drop()"
      ],
      "metadata": {
        "colab": {
          "base_uri": "https://localhost:8080/"
        },
        "id": "PsfbDutQFWgK",
        "outputId": "7795285d-2ffc-4d70-a20f-feb890dd19fd"
      },
      "execution_count": 51,
      "outputs": [
        {
          "output_type": "execute_result",
          "data": {
            "text/plain": [
              "DataFrame[year: int, institute_type: string, round_no: int, quota: string, pool: string, institute: string, program_name: string, program_duration: string, degree_short: string, category: string, opening_rank: int, closing_rank: int, is_preparatory: int, seat_availability: int]"
            ]
          },
          "metadata": {},
          "execution_count": 51
        }
      ]
    },
    {
      "cell_type": "code",
      "source": [
        "df_spark.na.drop(how=\"all\")#if the record has all na values for each col"
      ],
      "metadata": {
        "colab": {
          "base_uri": "https://localhost:8080/"
        },
        "id": "ZOGvyH7dFnyR",
        "outputId": "7b976060-0cf8-4c88-a7da-21371f0c9c01"
      },
      "execution_count": 53,
      "outputs": [
        {
          "output_type": "execute_result",
          "data": {
            "text/plain": [
              "DataFrame[year: int, institute_type: string, round_no: int, quota: string, pool: string, institute: string, program_name: string, program_duration: string, degree_short: string, category: string, opening_rank: int, closing_rank: int, is_preparatory: int, seat_availability: int]"
            ]
          },
          "metadata": {},
          "execution_count": 53
        }
      ]
    },
    {
      "cell_type": "code",
      "source": [
        "#understanding threshold in dropping columns\n",
        "df_spark.na.drop(thresh=2) #atleast two non null values should be present for it to be dropped"
      ],
      "metadata": {
        "colab": {
          "base_uri": "https://localhost:8080/"
        },
        "id": "EG22u4w6GM_T",
        "outputId": "f237e662-3837-4c46-ad39-76eacbf39442"
      },
      "execution_count": 54,
      "outputs": [
        {
          "output_type": "execute_result",
          "data": {
            "text/plain": [
              "DataFrame[year: int, institute_type: string, round_no: int, quota: string, pool: string, institute: string, program_name: string, program_duration: string, degree_short: string, category: string, opening_rank: int, closing_rank: int, is_preparatory: int, seat_availability: int]"
            ]
          },
          "metadata": {},
          "execution_count": 54
        }
      ]
    },
    {
      "cell_type": "code",
      "source": [
        "#subset\n",
        "df_spark.na.drop(subset=)"
      ],
      "metadata": {
        "id": "lc6c0RkEGrSU"
      },
      "execution_count": null,
      "outputs": []
    }
  ]
}