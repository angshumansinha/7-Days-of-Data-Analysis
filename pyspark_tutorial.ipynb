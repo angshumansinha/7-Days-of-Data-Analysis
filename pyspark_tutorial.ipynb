{
  "nbformat": 4,
  "nbformat_minor": 0,
  "metadata": {
    "colab": {
      "name": "pyspark_tutorial.ipynb",
      "provenance": [],
      "authorship_tag": "ABX9TyPcakDLDsSMoc2kBDse6MAc",
      "include_colab_link": true
    },
    "kernelspec": {
      "name": "python3",
      "display_name": "Python 3"
    },
    "language_info": {
      "name": "python"
    }
  },
  "cells": [
    {
      "cell_type": "markdown",
      "metadata": {
        "id": "view-in-github",
        "colab_type": "text"
      },
      "source": [
        "<a href=\"https://colab.research.google.com/github/angshumansinha/7-Days-of-Data-Analysis/blob/main/pyspark_tutorial.ipynb\" target=\"_parent\"><img src=\"https://colab.research.google.com/assets/colab-badge.svg\" alt=\"Open In Colab\"/></a>"
      ]
    },
    {
      "cell_type": "code",
      "execution_count": 1,
      "metadata": {
        "colab": {
          "base_uri": "https://localhost:8080/"
        },
        "id": "hmwIpoI779Jz",
        "outputId": "f9356d02-4ae0-4caa-e7c0-d39155f49093"
      },
      "outputs": [
        {
          "output_type": "stream",
          "name": "stdout",
          "text": [
            "Looking in indexes: https://pypi.org/simple, https://us-python.pkg.dev/colab-wheels/public/simple/\n",
            "Collecting pyspark\n",
            "  Downloading pyspark-3.3.0.tar.gz (281.3 MB)\n",
            "\u001b[K     |████████████████████████████████| 281.3 MB 46 kB/s \n",
            "\u001b[?25hCollecting py4j==0.10.9.5\n",
            "  Downloading py4j-0.10.9.5-py2.py3-none-any.whl (199 kB)\n",
            "\u001b[K     |████████████████████████████████| 199 kB 64.7 MB/s \n",
            "\u001b[?25hBuilding wheels for collected packages: pyspark\n",
            "  Building wheel for pyspark (setup.py) ... \u001b[?25l\u001b[?25hdone\n",
            "  Created wheel for pyspark: filename=pyspark-3.3.0-py2.py3-none-any.whl size=281764026 sha256=9ad13068aac811203783d4026726a9fb24edfa1bc05b48ffae597cc0c3987c97\n",
            "  Stored in directory: /root/.cache/pip/wheels/7a/8e/1b/f73a52650d2e5f337708d9f6a1750d451a7349a867f928b885\n",
            "Successfully built pyspark\n",
            "Installing collected packages: py4j, pyspark\n",
            "Successfully installed py4j-0.10.9.5 pyspark-3.3.0\n"
          ]
        }
      ],
      "source": [
        "!pip install pyspark"
      ]
    },
    {
      "cell_type": "code",
      "source": [
        "from pyspark.sql import SparkSession"
      ],
      "metadata": {
        "id": "L0ngfeJS8E0o"
      },
      "execution_count": 2,
      "outputs": []
    },
    {
      "cell_type": "code",
      "source": [
        "#create spark Session\n",
        "spark=SparkSession.builder.appName(\"Sample\").getOrCreate()"
      ],
      "metadata": {
        "id": "8hies_Iz8lTG"
      },
      "execution_count": 3,
      "outputs": []
    },
    {
      "cell_type": "code",
      "source": [
        "spark"
      ],
      "metadata": {
        "colab": {
          "base_uri": "https://localhost:8080/",
          "height": 219
        },
        "id": "Uke6Kak980_J",
        "outputId": "03b3de3f-558a-4b59-f8b5-a42305d5678e"
      },
      "execution_count": 4,
      "outputs": [
        {
          "output_type": "execute_result",
          "data": {
            "text/plain": [
              "<pyspark.sql.session.SparkSession at 0x7f8a90ba90d0>"
            ],
            "text/html": [
              "\n",
              "            <div>\n",
              "                <p><b>SparkSession - in-memory</b></p>\n",
              "                \n",
              "        <div>\n",
              "            <p><b>SparkContext</b></p>\n",
              "\n",
              "            <p><a href=\"http://930c7a066c9f:4040\">Spark UI</a></p>\n",
              "\n",
              "            <dl>\n",
              "              <dt>Version</dt>\n",
              "                <dd><code>v3.3.0</code></dd>\n",
              "              <dt>Master</dt>\n",
              "                <dd><code>local[*]</code></dd>\n",
              "              <dt>AppName</dt>\n",
              "                <dd><code>Sample</code></dd>\n",
              "            </dl>\n",
              "        </div>\n",
              "        \n",
              "            </div>\n",
              "        "
            ]
          },
          "metadata": {},
          "execution_count": 4
        }
      ]
    },
    {
      "cell_type": "code",
      "source": [
        "df_spark=spark.read.csv(\"/content/data.csv\")"
      ],
      "metadata": {
        "id": "WSdoA44087FI"
      },
      "execution_count": 5,
      "outputs": []
    },
    {
      "cell_type": "code",
      "source": [
        "df_spark"
      ],
      "metadata": {
        "colab": {
          "base_uri": "https://localhost:8080/"
        },
        "id": "ef5VQ1Zk9KQP",
        "outputId": "49ed87ea-9d38-481b-f2c7-a9431bcb5604"
      },
      "execution_count": 6,
      "outputs": [
        {
          "output_type": "execute_result",
          "data": {
            "text/plain": [
              "DataFrame[_c0: string, _c1: string, _c2: string, _c3: string, _c4: string, _c5: string, _c6: string, _c7: string, _c8: string, _c9: string, _c10: string, _c11: string, _c12: string, _c13: string]"
            ]
          },
          "metadata": {},
          "execution_count": 6
        }
      ]
    },
    {
      "cell_type": "code",
      "source": [
        "df_spark.show()"
      ],
      "metadata": {
        "colab": {
          "base_uri": "https://localhost:8080/"
        },
        "id": "Z6oTLIjG9Nxp",
        "outputId": "55bf9c6a-6e46-486c-e581-06aab34e435a"
      },
      "execution_count": 7,
      "outputs": [
        {
          "output_type": "stream",
          "name": "stdout",
          "text": [
            "+---+----+--------------+--------+-----+--------------+---------------+--------------------+----------------+------------+-----------+------------+------------+--------------+\n",
            "|_c0| _c1|           _c2|     _c3|  _c4|           _c5|            _c6|                 _c7|             _c8|         _c9|       _c10|        _c11|        _c12|          _c13|\n",
            "+---+----+--------------+--------+-----+--------------+---------------+--------------------+----------------+------------+-----------+------------+------------+--------------+\n",
            "| id|year|institute_type|round_no|quota|          pool|institute_short|        program_name|program_duration|degree_short|   category|opening_rank|closing_rank|is_preparatory|\n",
            "|  1|2016|           IIT|       6|   AI|Gender-Neutral|     IIT-Bombay|Aerospace Enginee...|         4 Years|      B.Tech|        GEN|         838|        1841|             0|\n",
            "|  2|2016|           IIT|       6|   AI|Gender-Neutral|     IIT-Bombay|Aerospace Enginee...|         4 Years|      B.Tech|    OBC-NCL|         408|        1098|             0|\n",
            "|  3|2016|           IIT|       6|   AI|Gender-Neutral|     IIT-Bombay|Aerospace Enginee...|         4 Years|      B.Tech|         SC|         297|         468|             0|\n",
            "|  4|2016|           IIT|       6|   AI|Gender-Neutral|     IIT-Bombay|Aerospace Enginee...|         4 Years|      B.Tech|         ST|          79|         145|             0|\n",
            "|  5|2016|           IIT|       6|   AI|Gender-Neutral|     IIT-Bombay|Aerospace Enginee...|         4 Years|      B.Tech|    GEN-PWD|          94|          94|             0|\n",
            "|  6|2016|           IIT|       6|   AI|Gender-Neutral|     IIT-Bombay|Aerospace Enginee...|         4 Years|      B.Tech|OBC-NCL-PWD|          45|          45|             0|\n",
            "|  7|2016|           IIT|       6|   AI|Gender-Neutral|     IIT-Bombay|Chemical Engineering|         4 Years|      B.Tech|        GEN|         422|        1479|             0|\n",
            "|  8|2016|           IIT|       6|   AI|Gender-Neutral|     IIT-Bombay|Chemical Engineering|         4 Years|      B.Tech|    OBC-NCL|         447|         974|             0|\n",
            "|  9|2016|           IIT|       6|   AI|Gender-Neutral|     IIT-Bombay|Chemical Engineering|         4 Years|      B.Tech|         SC|         257|         572|             0|\n",
            "| 10|2016|           IIT|       6|   AI|Gender-Neutral|     IIT-Bombay|Chemical Engineering|         4 Years|      B.Tech|         ST|         161|         335|             0|\n",
            "| 11|2016|           IIT|       6|   AI|Gender-Neutral|     IIT-Bombay|Chemical Engineering|         4 Years|      B.Tech|    GEN-PWD|          51|          75|             0|\n",
            "| 12|2016|           IIT|       6|   AI|Gender-Neutral|     IIT-Bombay|Chemical Engineering|         4 Years|      B.Tech|OBC-NCL-PWD|          40|          40|             0|\n",
            "| 13|2016|           IIT|       6|   AI|Gender-Neutral|     IIT-Bombay|Chemical Engineering|         4 Years|      B.Tech|     SC-PWD|           3|           3|             0|\n",
            "| 14|2016|           IIT|       6|   AI|Gender-Neutral|     IIT-Bombay|           Chemistry|         4 Years|         BSc|        GEN|        3323|        4880|             0|\n",
            "| 15|2016|           IIT|       6|   AI|Gender-Neutral|     IIT-Bombay|           Chemistry|         4 Years|         BSc|    OBC-NCL|        1753|        2596|             0|\n",
            "| 16|2016|           IIT|       6|   AI|Gender-Neutral|     IIT-Bombay|           Chemistry|         4 Years|         BSc|         SC|         261|        1743|             0|\n",
            "| 17|2016|           IIT|       6|   AI|Gender-Neutral|     IIT-Bombay|           Chemistry|         4 Years|         BSc|         ST|         661|         697|             0|\n",
            "| 18|2016|           IIT|       6|   AI|Gender-Neutral|     IIT-Bombay|           Chemistry|         4 Years|         BSc|    GEN-PWD|          49|          49|             0|\n",
            "| 19|2016|           IIT|       6|   AI|Gender-Neutral|     IIT-Bombay|   Civil Engineering|         4 Years|      B.Tech|        GEN|         897|        2251|             0|\n",
            "+---+----+--------------+--------+-----+--------------+---------------+--------------------+----------------+------------+-----------+------------+------------+--------------+\n",
            "only showing top 20 rows\n",
            "\n"
          ]
        }
      ]
    },
    {
      "cell_type": "code",
      "source": [
        "df_spark=spark.read.option('header','true').csv(\"/content/data.csv\")"
      ],
      "metadata": {
        "id": "DoH_BLgr9bCP"
      },
      "execution_count": 8,
      "outputs": []
    },
    {
      "cell_type": "code",
      "source": [
        "df_spark"
      ],
      "metadata": {
        "colab": {
          "base_uri": "https://localhost:8080/"
        },
        "id": "rp8IWAzB9s13",
        "outputId": "8b6d0c96-e4c7-4bef-d164-0ee8788680b1"
      },
      "execution_count": 9,
      "outputs": [
        {
          "output_type": "execute_result",
          "data": {
            "text/plain": [
              "DataFrame[id: string, year: string, institute_type: string, round_no: string, quota: string, pool: string, institute_short: string, program_name: string, program_duration: string, degree_short: string, category: string, opening_rank: string, closing_rank: string, is_preparatory: string]"
            ]
          },
          "metadata": {},
          "execution_count": 9
        }
      ]
    },
    {
      "cell_type": "code",
      "source": [
        "df_spark.show()"
      ],
      "metadata": {
        "colab": {
          "base_uri": "https://localhost:8080/"
        },
        "id": "kXbkl3t99uMx",
        "outputId": "c9180198-757d-4e2a-d32e-c929fba6c74a"
      },
      "execution_count": 10,
      "outputs": [
        {
          "output_type": "stream",
          "name": "stdout",
          "text": [
            "+---+----+--------------+--------+-----+--------------+---------------+--------------------+----------------+------------+-----------+------------+------------+--------------+\n",
            "| id|year|institute_type|round_no|quota|          pool|institute_short|        program_name|program_duration|degree_short|   category|opening_rank|closing_rank|is_preparatory|\n",
            "+---+----+--------------+--------+-----+--------------+---------------+--------------------+----------------+------------+-----------+------------+------------+--------------+\n",
            "|  1|2016|           IIT|       6|   AI|Gender-Neutral|     IIT-Bombay|Aerospace Enginee...|         4 Years|      B.Tech|        GEN|         838|        1841|             0|\n",
            "|  2|2016|           IIT|       6|   AI|Gender-Neutral|     IIT-Bombay|Aerospace Enginee...|         4 Years|      B.Tech|    OBC-NCL|         408|        1098|             0|\n",
            "|  3|2016|           IIT|       6|   AI|Gender-Neutral|     IIT-Bombay|Aerospace Enginee...|         4 Years|      B.Tech|         SC|         297|         468|             0|\n",
            "|  4|2016|           IIT|       6|   AI|Gender-Neutral|     IIT-Bombay|Aerospace Enginee...|         4 Years|      B.Tech|         ST|          79|         145|             0|\n",
            "|  5|2016|           IIT|       6|   AI|Gender-Neutral|     IIT-Bombay|Aerospace Enginee...|         4 Years|      B.Tech|    GEN-PWD|          94|          94|             0|\n",
            "|  6|2016|           IIT|       6|   AI|Gender-Neutral|     IIT-Bombay|Aerospace Enginee...|         4 Years|      B.Tech|OBC-NCL-PWD|          45|          45|             0|\n",
            "|  7|2016|           IIT|       6|   AI|Gender-Neutral|     IIT-Bombay|Chemical Engineering|         4 Years|      B.Tech|        GEN|         422|        1479|             0|\n",
            "|  8|2016|           IIT|       6|   AI|Gender-Neutral|     IIT-Bombay|Chemical Engineering|         4 Years|      B.Tech|    OBC-NCL|         447|         974|             0|\n",
            "|  9|2016|           IIT|       6|   AI|Gender-Neutral|     IIT-Bombay|Chemical Engineering|         4 Years|      B.Tech|         SC|         257|         572|             0|\n",
            "| 10|2016|           IIT|       6|   AI|Gender-Neutral|     IIT-Bombay|Chemical Engineering|         4 Years|      B.Tech|         ST|         161|         335|             0|\n",
            "| 11|2016|           IIT|       6|   AI|Gender-Neutral|     IIT-Bombay|Chemical Engineering|         4 Years|      B.Tech|    GEN-PWD|          51|          75|             0|\n",
            "| 12|2016|           IIT|       6|   AI|Gender-Neutral|     IIT-Bombay|Chemical Engineering|         4 Years|      B.Tech|OBC-NCL-PWD|          40|          40|             0|\n",
            "| 13|2016|           IIT|       6|   AI|Gender-Neutral|     IIT-Bombay|Chemical Engineering|         4 Years|      B.Tech|     SC-PWD|           3|           3|             0|\n",
            "| 14|2016|           IIT|       6|   AI|Gender-Neutral|     IIT-Bombay|           Chemistry|         4 Years|         BSc|        GEN|        3323|        4880|             0|\n",
            "| 15|2016|           IIT|       6|   AI|Gender-Neutral|     IIT-Bombay|           Chemistry|         4 Years|         BSc|    OBC-NCL|        1753|        2596|             0|\n",
            "| 16|2016|           IIT|       6|   AI|Gender-Neutral|     IIT-Bombay|           Chemistry|         4 Years|         BSc|         SC|         261|        1743|             0|\n",
            "| 17|2016|           IIT|       6|   AI|Gender-Neutral|     IIT-Bombay|           Chemistry|         4 Years|         BSc|         ST|         661|         697|             0|\n",
            "| 18|2016|           IIT|       6|   AI|Gender-Neutral|     IIT-Bombay|           Chemistry|         4 Years|         BSc|    GEN-PWD|          49|          49|             0|\n",
            "| 19|2016|           IIT|       6|   AI|Gender-Neutral|     IIT-Bombay|   Civil Engineering|         4 Years|      B.Tech|        GEN|         897|        2251|             0|\n",
            "| 20|2016|           IIT|       6|   AI|Gender-Neutral|     IIT-Bombay|   Civil Engineering|         4 Years|      B.Tech|    OBC-NCL|         356|        1007|             0|\n",
            "+---+----+--------------+--------+-----+--------------+---------------+--------------------+----------------+------------+-----------+------------+------------+--------------+\n",
            "only showing top 20 rows\n",
            "\n"
          ]
        }
      ]
    },
    {
      "cell_type": "code",
      "source": [
        "type(df_spark)"
      ],
      "metadata": {
        "colab": {
          "base_uri": "https://localhost:8080/"
        },
        "id": "k3L_e8vM9xD_",
        "outputId": "71a6dd86-d280-41da-e92a-a6e1ac62951c"
      },
      "execution_count": 11,
      "outputs": [
        {
          "output_type": "execute_result",
          "data": {
            "text/plain": [
              "pyspark.sql.dataframe.DataFrame"
            ]
          },
          "metadata": {},
          "execution_count": 11
        }
      ]
    },
    {
      "cell_type": "code",
      "source": [
        "df_spark.head()"
      ],
      "metadata": {
        "colab": {
          "base_uri": "https://localhost:8080/"
        },
        "id": "Bc2HjL_293G2",
        "outputId": "211e3cbc-c1a2-42b1-fa4a-5419aff31681"
      },
      "execution_count": 12,
      "outputs": [
        {
          "output_type": "execute_result",
          "data": {
            "text/plain": [
              "Row(id='1', year='2016', institute_type='IIT', round_no='6', quota='AI', pool='Gender-Neutral', institute_short='IIT-Bombay', program_name='Aerospace Engineering', program_duration='4 Years', degree_short='B.Tech', category='GEN', opening_rank='838', closing_rank='1841', is_preparatory='0')"
            ]
          },
          "metadata": {},
          "execution_count": 12
        }
      ]
    },
    {
      "cell_type": "code",
      "source": [
        "df_spark.printSchema()"
      ],
      "metadata": {
        "colab": {
          "base_uri": "https://localhost:8080/"
        },
        "id": "HuVFmv5L95op",
        "outputId": "663f0fff-537b-4652-f5e9-5e6ed8b96214"
      },
      "execution_count": 13,
      "outputs": [
        {
          "output_type": "stream",
          "name": "stdout",
          "text": [
            "root\n",
            " |-- id: string (nullable = true)\n",
            " |-- year: string (nullable = true)\n",
            " |-- institute_type: string (nullable = true)\n",
            " |-- round_no: string (nullable = true)\n",
            " |-- quota: string (nullable = true)\n",
            " |-- pool: string (nullable = true)\n",
            " |-- institute_short: string (nullable = true)\n",
            " |-- program_name: string (nullable = true)\n",
            " |-- program_duration: string (nullable = true)\n",
            " |-- degree_short: string (nullable = true)\n",
            " |-- category: string (nullable = true)\n",
            " |-- opening_rank: string (nullable = true)\n",
            " |-- closing_rank: string (nullable = true)\n",
            " |-- is_preparatory: string (nullable = true)\n",
            "\n"
          ]
        }
      ]
    },
    {
      "cell_type": "code",
      "source": [
        "#different options to read\n",
        "\"\"\"\n",
        "spark.read.option(\"header\",\"true\").csv('df.csv').show()\n",
        "by default all data types are taken as string\n",
        "\"\"\"\n",
        "df_pyspark=spark.read.option('header','true').csv(\"/content/data.csv\",inferSchema=True).show()"
      ],
      "metadata": {
        "colab": {
          "base_uri": "https://localhost:8080/"
        },
        "id": "sUQ_aouY9-wV",
        "outputId": "bf48c89c-3e42-4588-8e77-2b047c110cfc"
      },
      "execution_count": 14,
      "outputs": [
        {
          "output_type": "stream",
          "name": "stdout",
          "text": [
            "+---+----+--------------+--------+-----+--------------+---------------+--------------------+----------------+------------+-----------+------------+------------+--------------+\n",
            "| id|year|institute_type|round_no|quota|          pool|institute_short|        program_name|program_duration|degree_short|   category|opening_rank|closing_rank|is_preparatory|\n",
            "+---+----+--------------+--------+-----+--------------+---------------+--------------------+----------------+------------+-----------+------------+------------+--------------+\n",
            "|  1|2016|           IIT|       6|   AI|Gender-Neutral|     IIT-Bombay|Aerospace Enginee...|         4 Years|      B.Tech|        GEN|         838|        1841|             0|\n",
            "|  2|2016|           IIT|       6|   AI|Gender-Neutral|     IIT-Bombay|Aerospace Enginee...|         4 Years|      B.Tech|    OBC-NCL|         408|        1098|             0|\n",
            "|  3|2016|           IIT|       6|   AI|Gender-Neutral|     IIT-Bombay|Aerospace Enginee...|         4 Years|      B.Tech|         SC|         297|         468|             0|\n",
            "|  4|2016|           IIT|       6|   AI|Gender-Neutral|     IIT-Bombay|Aerospace Enginee...|         4 Years|      B.Tech|         ST|          79|         145|             0|\n",
            "|  5|2016|           IIT|       6|   AI|Gender-Neutral|     IIT-Bombay|Aerospace Enginee...|         4 Years|      B.Tech|    GEN-PWD|          94|          94|             0|\n",
            "|  6|2016|           IIT|       6|   AI|Gender-Neutral|     IIT-Bombay|Aerospace Enginee...|         4 Years|      B.Tech|OBC-NCL-PWD|          45|          45|             0|\n",
            "|  7|2016|           IIT|       6|   AI|Gender-Neutral|     IIT-Bombay|Chemical Engineering|         4 Years|      B.Tech|        GEN|         422|        1479|             0|\n",
            "|  8|2016|           IIT|       6|   AI|Gender-Neutral|     IIT-Bombay|Chemical Engineering|         4 Years|      B.Tech|    OBC-NCL|         447|         974|             0|\n",
            "|  9|2016|           IIT|       6|   AI|Gender-Neutral|     IIT-Bombay|Chemical Engineering|         4 Years|      B.Tech|         SC|         257|         572|             0|\n",
            "| 10|2016|           IIT|       6|   AI|Gender-Neutral|     IIT-Bombay|Chemical Engineering|         4 Years|      B.Tech|         ST|         161|         335|             0|\n",
            "| 11|2016|           IIT|       6|   AI|Gender-Neutral|     IIT-Bombay|Chemical Engineering|         4 Years|      B.Tech|    GEN-PWD|          51|          75|             0|\n",
            "| 12|2016|           IIT|       6|   AI|Gender-Neutral|     IIT-Bombay|Chemical Engineering|         4 Years|      B.Tech|OBC-NCL-PWD|          40|          40|             0|\n",
            "| 13|2016|           IIT|       6|   AI|Gender-Neutral|     IIT-Bombay|Chemical Engineering|         4 Years|      B.Tech|     SC-PWD|           3|           3|             0|\n",
            "| 14|2016|           IIT|       6|   AI|Gender-Neutral|     IIT-Bombay|           Chemistry|         4 Years|         BSc|        GEN|        3323|        4880|             0|\n",
            "| 15|2016|           IIT|       6|   AI|Gender-Neutral|     IIT-Bombay|           Chemistry|         4 Years|         BSc|    OBC-NCL|        1753|        2596|             0|\n",
            "| 16|2016|           IIT|       6|   AI|Gender-Neutral|     IIT-Bombay|           Chemistry|         4 Years|         BSc|         SC|         261|        1743|             0|\n",
            "| 17|2016|           IIT|       6|   AI|Gender-Neutral|     IIT-Bombay|           Chemistry|         4 Years|         BSc|         ST|         661|         697|             0|\n",
            "| 18|2016|           IIT|       6|   AI|Gender-Neutral|     IIT-Bombay|           Chemistry|         4 Years|         BSc|    GEN-PWD|          49|          49|             0|\n",
            "| 19|2016|           IIT|       6|   AI|Gender-Neutral|     IIT-Bombay|   Civil Engineering|         4 Years|      B.Tech|        GEN|         897|        2251|             0|\n",
            "| 20|2016|           IIT|       6|   AI|Gender-Neutral|     IIT-Bombay|   Civil Engineering|         4 Years|      B.Tech|    OBC-NCL|         356|        1007|             0|\n",
            "+---+----+--------------+--------+-----+--------------+---------------+--------------------+----------------+------------+-----------+------------+------------+--------------+\n",
            "only showing top 20 rows\n",
            "\n"
          ]
        }
      ]
    },
    {
      "cell_type": "code",
      "source": [
        "df_spark.printSchema()"
      ],
      "metadata": {
        "colab": {
          "base_uri": "https://localhost:8080/"
        },
        "id": "jeVvqRBaAAPY",
        "outputId": "e4483568-0d83-416f-f100-f792bd224d0d"
      },
      "execution_count": 15,
      "outputs": [
        {
          "output_type": "stream",
          "name": "stdout",
          "text": [
            "root\n",
            " |-- id: string (nullable = true)\n",
            " |-- year: string (nullable = true)\n",
            " |-- institute_type: string (nullable = true)\n",
            " |-- round_no: string (nullable = true)\n",
            " |-- quota: string (nullable = true)\n",
            " |-- pool: string (nullable = true)\n",
            " |-- institute_short: string (nullable = true)\n",
            " |-- program_name: string (nullable = true)\n",
            " |-- program_duration: string (nullable = true)\n",
            " |-- degree_short: string (nullable = true)\n",
            " |-- category: string (nullable = true)\n",
            " |-- opening_rank: string (nullable = true)\n",
            " |-- closing_rank: string (nullable = true)\n",
            " |-- is_preparatory: string (nullable = true)\n",
            "\n"
          ]
        }
      ]
    },
    {
      "cell_type": "code",
      "source": [
        "#alternative way\n",
        "df_spark=spark.read.csv(\"/content/data.csv\",header=True,inferSchema=True)"
      ],
      "metadata": {
        "id": "vzWRIC0eAEx1"
      },
      "execution_count": 16,
      "outputs": []
    },
    {
      "cell_type": "code",
      "source": [
        "df_spark.head()"
      ],
      "metadata": {
        "colab": {
          "base_uri": "https://localhost:8080/"
        },
        "id": "nT2GO5fmAdrN",
        "outputId": "b1118048-9777-472c-fe20-04160e60de33"
      },
      "execution_count": 17,
      "outputs": [
        {
          "output_type": "execute_result",
          "data": {
            "text/plain": [
              "Row(id=1, year=2016, institute_type='IIT', round_no=6, quota='AI', pool='Gender-Neutral', institute_short='IIT-Bombay', program_name='Aerospace Engineering', program_duration='4 Years', degree_short='B.Tech', category='GEN', opening_rank=838, closing_rank=1841, is_preparatory=0)"
            ]
          },
          "metadata": {},
          "execution_count": 17
        }
      ]
    },
    {
      "cell_type": "code",
      "source": [
        "#selecting columns and indexing\n",
        "df_spark.columns"
      ],
      "metadata": {
        "colab": {
          "base_uri": "https://localhost:8080/"
        },
        "id": "yUDTglAeAf2I",
        "outputId": "5c0a88c1-8d3a-43aa-ca42-c9ee37781d18"
      },
      "execution_count": 18,
      "outputs": [
        {
          "output_type": "execute_result",
          "data": {
            "text/plain": [
              "['id',\n",
              " 'year',\n",
              " 'institute_type',\n",
              " 'round_no',\n",
              " 'quota',\n",
              " 'pool',\n",
              " 'institute_short',\n",
              " 'program_name',\n",
              " 'program_duration',\n",
              " 'degree_short',\n",
              " 'category',\n",
              " 'opening_rank',\n",
              " 'closing_rank',\n",
              " 'is_preparatory']"
            ]
          },
          "metadata": {},
          "execution_count": 18
        }
      ]
    },
    {
      "cell_type": "code",
      "source": [
        "#select a particular column\n",
        "df_spark.select(['institute_type','degree_short']).show()"
      ],
      "metadata": {
        "colab": {
          "base_uri": "https://localhost:8080/"
        },
        "id": "XKo85Zx_Aney",
        "outputId": "5a56e05e-1660-4a5d-b681-956f163707c2"
      },
      "execution_count": 19,
      "outputs": [
        {
          "output_type": "stream",
          "name": "stdout",
          "text": [
            "+--------------+------------+\n",
            "|institute_type|degree_short|\n",
            "+--------------+------------+\n",
            "|           IIT|      B.Tech|\n",
            "|           IIT|      B.Tech|\n",
            "|           IIT|      B.Tech|\n",
            "|           IIT|      B.Tech|\n",
            "|           IIT|      B.Tech|\n",
            "|           IIT|      B.Tech|\n",
            "|           IIT|      B.Tech|\n",
            "|           IIT|      B.Tech|\n",
            "|           IIT|      B.Tech|\n",
            "|           IIT|      B.Tech|\n",
            "|           IIT|      B.Tech|\n",
            "|           IIT|      B.Tech|\n",
            "|           IIT|      B.Tech|\n",
            "|           IIT|         BSc|\n",
            "|           IIT|         BSc|\n",
            "|           IIT|         BSc|\n",
            "|           IIT|         BSc|\n",
            "|           IIT|         BSc|\n",
            "|           IIT|      B.Tech|\n",
            "|           IIT|      B.Tech|\n",
            "+--------------+------------+\n",
            "only showing top 20 rows\n",
            "\n"
          ]
        }
      ]
    },
    {
      "cell_type": "code",
      "source": [
        "#summarization in pyspark\n",
        "df_spark.describe().show()"
      ],
      "metadata": {
        "colab": {
          "base_uri": "https://localhost:8080/"
        },
        "id": "tj9TWr8ZAqcr",
        "outputId": "2f2d7123-bead-4ff7-8928-dbf24cbd356e"
      },
      "execution_count": 20,
      "outputs": [
        {
          "output_type": "stream",
          "name": "stdout",
          "text": [
            "+-------+-----------------+------------------+--------------+------------------+-----+--------------+------------------+--------------------+----------------+------------+--------+------------------+------------------+-------------------+\n",
            "|summary|               id|              year|institute_type|          round_no|quota|          pool|   institute_short|        program_name|program_duration|degree_short|category|      opening_rank|      closing_rank|     is_preparatory|\n",
            "+-------+-----------------+------------------+--------------+------------------+-----+--------------+------------------+--------------------+----------------+------------+--------+------------------+------------------+-------------------+\n",
            "|  count|            64958|             64958|         64958|             64958|64958|         64958|             64958|               64958|           64958|       64958|   64958|             64958|             64958|              64958|\n",
            "|   mean|18171.17338895902|2020.4215800979093|          null|2.6093475784352966| null|          null|              null|                null|            null|        null|    null| 8259.641830105607|10704.971597031928|0.04763077680963084|\n",
            "| stddev|9619.123659212122|  1.14976166727709|          null|2.4225579678576956| null|          null|              null|                null|            null|        null|    null|26794.475747713463| 37881.00984786956|0.21298540853862677|\n",
            "|    min|                1|              2016|           IIT|                 1|   AI|   Female-Only|IIT-(BHU) Varanasi|Aerospace Enginee...|         4 Years|      B.Arch|     GEN|                 0|                 0|                  0|\n",
            "|    max|            31140|              2021|           NIT|                 7|   OS|Gender-Neutral|      NIT-Warangal|  Textile Technology|         5 Years|    Int Msc.|  ST-PWD|           1082601|           1144790|                  1|\n",
            "+-------+-----------------+------------------+--------------+------------------+-----+--------------+------------------+--------------------+----------------+------------+--------+------------------+------------------+-------------------+\n",
            "\n"
          ]
        }
      ]
    },
    {
      "cell_type": "code",
      "source": [
        "#adding columns in dataframe\n",
        "df_spark=df_spark.withColumn('seat_availability',df_spark['closing_rank']-df_spark['opening_rank'])"
      ],
      "metadata": {
        "id": "mAtmaXDiBh6j"
      },
      "execution_count": 21,
      "outputs": []
    },
    {
      "cell_type": "code",
      "source": [
        "df_spark.show()"
      ],
      "metadata": {
        "colab": {
          "base_uri": "https://localhost:8080/"
        },
        "id": "6uEOCvh_Cjkj",
        "outputId": "64dce01a-c711-4836-ef00-671506748e4d"
      },
      "execution_count": 22,
      "outputs": [
        {
          "output_type": "stream",
          "name": "stdout",
          "text": [
            "+---+----+--------------+--------+-----+--------------+---------------+--------------------+----------------+------------+-----------+------------+------------+--------------+-----------------+\n",
            "| id|year|institute_type|round_no|quota|          pool|institute_short|        program_name|program_duration|degree_short|   category|opening_rank|closing_rank|is_preparatory|seat_availability|\n",
            "+---+----+--------------+--------+-----+--------------+---------------+--------------------+----------------+------------+-----------+------------+------------+--------------+-----------------+\n",
            "|  1|2016|           IIT|       6|   AI|Gender-Neutral|     IIT-Bombay|Aerospace Enginee...|         4 Years|      B.Tech|        GEN|         838|        1841|             0|             1003|\n",
            "|  2|2016|           IIT|       6|   AI|Gender-Neutral|     IIT-Bombay|Aerospace Enginee...|         4 Years|      B.Tech|    OBC-NCL|         408|        1098|             0|              690|\n",
            "|  3|2016|           IIT|       6|   AI|Gender-Neutral|     IIT-Bombay|Aerospace Enginee...|         4 Years|      B.Tech|         SC|         297|         468|             0|              171|\n",
            "|  4|2016|           IIT|       6|   AI|Gender-Neutral|     IIT-Bombay|Aerospace Enginee...|         4 Years|      B.Tech|         ST|          79|         145|             0|               66|\n",
            "|  5|2016|           IIT|       6|   AI|Gender-Neutral|     IIT-Bombay|Aerospace Enginee...|         4 Years|      B.Tech|    GEN-PWD|          94|          94|             0|                0|\n",
            "|  6|2016|           IIT|       6|   AI|Gender-Neutral|     IIT-Bombay|Aerospace Enginee...|         4 Years|      B.Tech|OBC-NCL-PWD|          45|          45|             0|                0|\n",
            "|  7|2016|           IIT|       6|   AI|Gender-Neutral|     IIT-Bombay|Chemical Engineering|         4 Years|      B.Tech|        GEN|         422|        1479|             0|             1057|\n",
            "|  8|2016|           IIT|       6|   AI|Gender-Neutral|     IIT-Bombay|Chemical Engineering|         4 Years|      B.Tech|    OBC-NCL|         447|         974|             0|              527|\n",
            "|  9|2016|           IIT|       6|   AI|Gender-Neutral|     IIT-Bombay|Chemical Engineering|         4 Years|      B.Tech|         SC|         257|         572|             0|              315|\n",
            "| 10|2016|           IIT|       6|   AI|Gender-Neutral|     IIT-Bombay|Chemical Engineering|         4 Years|      B.Tech|         ST|         161|         335|             0|              174|\n",
            "| 11|2016|           IIT|       6|   AI|Gender-Neutral|     IIT-Bombay|Chemical Engineering|         4 Years|      B.Tech|    GEN-PWD|          51|          75|             0|               24|\n",
            "| 12|2016|           IIT|       6|   AI|Gender-Neutral|     IIT-Bombay|Chemical Engineering|         4 Years|      B.Tech|OBC-NCL-PWD|          40|          40|             0|                0|\n",
            "| 13|2016|           IIT|       6|   AI|Gender-Neutral|     IIT-Bombay|Chemical Engineering|         4 Years|      B.Tech|     SC-PWD|           3|           3|             0|                0|\n",
            "| 14|2016|           IIT|       6|   AI|Gender-Neutral|     IIT-Bombay|           Chemistry|         4 Years|         BSc|        GEN|        3323|        4880|             0|             1557|\n",
            "| 15|2016|           IIT|       6|   AI|Gender-Neutral|     IIT-Bombay|           Chemistry|         4 Years|         BSc|    OBC-NCL|        1753|        2596|             0|              843|\n",
            "| 16|2016|           IIT|       6|   AI|Gender-Neutral|     IIT-Bombay|           Chemistry|         4 Years|         BSc|         SC|         261|        1743|             0|             1482|\n",
            "| 17|2016|           IIT|       6|   AI|Gender-Neutral|     IIT-Bombay|           Chemistry|         4 Years|         BSc|         ST|         661|         697|             0|               36|\n",
            "| 18|2016|           IIT|       6|   AI|Gender-Neutral|     IIT-Bombay|           Chemistry|         4 Years|         BSc|    GEN-PWD|          49|          49|             0|                0|\n",
            "| 19|2016|           IIT|       6|   AI|Gender-Neutral|     IIT-Bombay|   Civil Engineering|         4 Years|      B.Tech|        GEN|         897|        2251|             0|             1354|\n",
            "| 20|2016|           IIT|       6|   AI|Gender-Neutral|     IIT-Bombay|   Civil Engineering|         4 Years|      B.Tech|    OBC-NCL|         356|        1007|             0|              651|\n",
            "+---+----+--------------+--------+-----+--------------+---------------+--------------------+----------------+------------+-----------+------------+------------+--------------+-----------------+\n",
            "only showing top 20 rows\n",
            "\n"
          ]
        }
      ]
    },
    {
      "cell_type": "code",
      "source": [
        "#renaming a column\n",
        "#Note: Do assign here inplace isn't there\n",
        "df_spark=df_spark.withColumnRenamed(\"institute_short\",\"institute\")"
      ],
      "metadata": {
        "id": "9VVNv1mhETHQ"
      },
      "execution_count": 23,
      "outputs": []
    },
    {
      "cell_type": "code",
      "source": [
        "df_spark.show()"
      ],
      "metadata": {
        "colab": {
          "base_uri": "https://localhost:8080/"
        },
        "id": "KaL7BZ37EfZj",
        "outputId": "254ccf64-94aa-40d8-d611-a0d5f456c62d"
      },
      "execution_count": 24,
      "outputs": [
        {
          "output_type": "stream",
          "name": "stdout",
          "text": [
            "+---+----+--------------+--------+-----+--------------+----------+--------------------+----------------+------------+-----------+------------+------------+--------------+-----------------+\n",
            "| id|year|institute_type|round_no|quota|          pool| institute|        program_name|program_duration|degree_short|   category|opening_rank|closing_rank|is_preparatory|seat_availability|\n",
            "+---+----+--------------+--------+-----+--------------+----------+--------------------+----------------+------------+-----------+------------+------------+--------------+-----------------+\n",
            "|  1|2016|           IIT|       6|   AI|Gender-Neutral|IIT-Bombay|Aerospace Enginee...|         4 Years|      B.Tech|        GEN|         838|        1841|             0|             1003|\n",
            "|  2|2016|           IIT|       6|   AI|Gender-Neutral|IIT-Bombay|Aerospace Enginee...|         4 Years|      B.Tech|    OBC-NCL|         408|        1098|             0|              690|\n",
            "|  3|2016|           IIT|       6|   AI|Gender-Neutral|IIT-Bombay|Aerospace Enginee...|         4 Years|      B.Tech|         SC|         297|         468|             0|              171|\n",
            "|  4|2016|           IIT|       6|   AI|Gender-Neutral|IIT-Bombay|Aerospace Enginee...|         4 Years|      B.Tech|         ST|          79|         145|             0|               66|\n",
            "|  5|2016|           IIT|       6|   AI|Gender-Neutral|IIT-Bombay|Aerospace Enginee...|         4 Years|      B.Tech|    GEN-PWD|          94|          94|             0|                0|\n",
            "|  6|2016|           IIT|       6|   AI|Gender-Neutral|IIT-Bombay|Aerospace Enginee...|         4 Years|      B.Tech|OBC-NCL-PWD|          45|          45|             0|                0|\n",
            "|  7|2016|           IIT|       6|   AI|Gender-Neutral|IIT-Bombay|Chemical Engineering|         4 Years|      B.Tech|        GEN|         422|        1479|             0|             1057|\n",
            "|  8|2016|           IIT|       6|   AI|Gender-Neutral|IIT-Bombay|Chemical Engineering|         4 Years|      B.Tech|    OBC-NCL|         447|         974|             0|              527|\n",
            "|  9|2016|           IIT|       6|   AI|Gender-Neutral|IIT-Bombay|Chemical Engineering|         4 Years|      B.Tech|         SC|         257|         572|             0|              315|\n",
            "| 10|2016|           IIT|       6|   AI|Gender-Neutral|IIT-Bombay|Chemical Engineering|         4 Years|      B.Tech|         ST|         161|         335|             0|              174|\n",
            "| 11|2016|           IIT|       6|   AI|Gender-Neutral|IIT-Bombay|Chemical Engineering|         4 Years|      B.Tech|    GEN-PWD|          51|          75|             0|               24|\n",
            "| 12|2016|           IIT|       6|   AI|Gender-Neutral|IIT-Bombay|Chemical Engineering|         4 Years|      B.Tech|OBC-NCL-PWD|          40|          40|             0|                0|\n",
            "| 13|2016|           IIT|       6|   AI|Gender-Neutral|IIT-Bombay|Chemical Engineering|         4 Years|      B.Tech|     SC-PWD|           3|           3|             0|                0|\n",
            "| 14|2016|           IIT|       6|   AI|Gender-Neutral|IIT-Bombay|           Chemistry|         4 Years|         BSc|        GEN|        3323|        4880|             0|             1557|\n",
            "| 15|2016|           IIT|       6|   AI|Gender-Neutral|IIT-Bombay|           Chemistry|         4 Years|         BSc|    OBC-NCL|        1753|        2596|             0|              843|\n",
            "| 16|2016|           IIT|       6|   AI|Gender-Neutral|IIT-Bombay|           Chemistry|         4 Years|         BSc|         SC|         261|        1743|             0|             1482|\n",
            "| 17|2016|           IIT|       6|   AI|Gender-Neutral|IIT-Bombay|           Chemistry|         4 Years|         BSc|         ST|         661|         697|             0|               36|\n",
            "| 18|2016|           IIT|       6|   AI|Gender-Neutral|IIT-Bombay|           Chemistry|         4 Years|         BSc|    GEN-PWD|          49|          49|             0|                0|\n",
            "| 19|2016|           IIT|       6|   AI|Gender-Neutral|IIT-Bombay|   Civil Engineering|         4 Years|      B.Tech|        GEN|         897|        2251|             0|             1354|\n",
            "| 20|2016|           IIT|       6|   AI|Gender-Neutral|IIT-Bombay|   Civil Engineering|         4 Years|      B.Tech|    OBC-NCL|         356|        1007|             0|              651|\n",
            "+---+----+--------------+--------+-----+--------------+----------+--------------------+----------------+------------+-----------+------------+------------+--------------+-----------------+\n",
            "only showing top 20 rows\n",
            "\n"
          ]
        }
      ]
    },
    {
      "cell_type": "code",
      "source": [
        "#handling missing values and dropping columns\n",
        "#drop\n",
        "df_spark=df_spark.drop('id')"
      ],
      "metadata": {
        "id": "mZVjDMKsCnP-"
      },
      "execution_count": 25,
      "outputs": []
    },
    {
      "cell_type": "code",
      "source": [
        "df_spark.show()"
      ],
      "metadata": {
        "colab": {
          "base_uri": "https://localhost:8080/"
        },
        "id": "Dp9reHM7FTdH",
        "outputId": "a89cf484-15a5-47bd-cad2-9fe7757e1810"
      },
      "execution_count": 26,
      "outputs": [
        {
          "output_type": "stream",
          "name": "stdout",
          "text": [
            "+----+--------------+--------+-----+--------------+----------+--------------------+----------------+------------+-----------+------------+------------+--------------+-----------------+\n",
            "|year|institute_type|round_no|quota|          pool| institute|        program_name|program_duration|degree_short|   category|opening_rank|closing_rank|is_preparatory|seat_availability|\n",
            "+----+--------------+--------+-----+--------------+----------+--------------------+----------------+------------+-----------+------------+------------+--------------+-----------------+\n",
            "|2016|           IIT|       6|   AI|Gender-Neutral|IIT-Bombay|Aerospace Enginee...|         4 Years|      B.Tech|        GEN|         838|        1841|             0|             1003|\n",
            "|2016|           IIT|       6|   AI|Gender-Neutral|IIT-Bombay|Aerospace Enginee...|         4 Years|      B.Tech|    OBC-NCL|         408|        1098|             0|              690|\n",
            "|2016|           IIT|       6|   AI|Gender-Neutral|IIT-Bombay|Aerospace Enginee...|         4 Years|      B.Tech|         SC|         297|         468|             0|              171|\n",
            "|2016|           IIT|       6|   AI|Gender-Neutral|IIT-Bombay|Aerospace Enginee...|         4 Years|      B.Tech|         ST|          79|         145|             0|               66|\n",
            "|2016|           IIT|       6|   AI|Gender-Neutral|IIT-Bombay|Aerospace Enginee...|         4 Years|      B.Tech|    GEN-PWD|          94|          94|             0|                0|\n",
            "|2016|           IIT|       6|   AI|Gender-Neutral|IIT-Bombay|Aerospace Enginee...|         4 Years|      B.Tech|OBC-NCL-PWD|          45|          45|             0|                0|\n",
            "|2016|           IIT|       6|   AI|Gender-Neutral|IIT-Bombay|Chemical Engineering|         4 Years|      B.Tech|        GEN|         422|        1479|             0|             1057|\n",
            "|2016|           IIT|       6|   AI|Gender-Neutral|IIT-Bombay|Chemical Engineering|         4 Years|      B.Tech|    OBC-NCL|         447|         974|             0|              527|\n",
            "|2016|           IIT|       6|   AI|Gender-Neutral|IIT-Bombay|Chemical Engineering|         4 Years|      B.Tech|         SC|         257|         572|             0|              315|\n",
            "|2016|           IIT|       6|   AI|Gender-Neutral|IIT-Bombay|Chemical Engineering|         4 Years|      B.Tech|         ST|         161|         335|             0|              174|\n",
            "|2016|           IIT|       6|   AI|Gender-Neutral|IIT-Bombay|Chemical Engineering|         4 Years|      B.Tech|    GEN-PWD|          51|          75|             0|               24|\n",
            "|2016|           IIT|       6|   AI|Gender-Neutral|IIT-Bombay|Chemical Engineering|         4 Years|      B.Tech|OBC-NCL-PWD|          40|          40|             0|                0|\n",
            "|2016|           IIT|       6|   AI|Gender-Neutral|IIT-Bombay|Chemical Engineering|         4 Years|      B.Tech|     SC-PWD|           3|           3|             0|                0|\n",
            "|2016|           IIT|       6|   AI|Gender-Neutral|IIT-Bombay|           Chemistry|         4 Years|         BSc|        GEN|        3323|        4880|             0|             1557|\n",
            "|2016|           IIT|       6|   AI|Gender-Neutral|IIT-Bombay|           Chemistry|         4 Years|         BSc|    OBC-NCL|        1753|        2596|             0|              843|\n",
            "|2016|           IIT|       6|   AI|Gender-Neutral|IIT-Bombay|           Chemistry|         4 Years|         BSc|         SC|         261|        1743|             0|             1482|\n",
            "|2016|           IIT|       6|   AI|Gender-Neutral|IIT-Bombay|           Chemistry|         4 Years|         BSc|         ST|         661|         697|             0|               36|\n",
            "|2016|           IIT|       6|   AI|Gender-Neutral|IIT-Bombay|           Chemistry|         4 Years|         BSc|    GEN-PWD|          49|          49|             0|                0|\n",
            "|2016|           IIT|       6|   AI|Gender-Neutral|IIT-Bombay|   Civil Engineering|         4 Years|      B.Tech|        GEN|         897|        2251|             0|             1354|\n",
            "|2016|           IIT|       6|   AI|Gender-Neutral|IIT-Bombay|   Civil Engineering|         4 Years|      B.Tech|    OBC-NCL|         356|        1007|             0|              651|\n",
            "+----+--------------+--------+-----+--------------+----------+--------------------+----------------+------------+-----------+------------+------------+--------------+-----------------+\n",
            "only showing top 20 rows\n",
            "\n"
          ]
        }
      ]
    },
    {
      "cell_type": "code",
      "source": [
        "#syntax to drop nan values\n",
        "df_spark.na.drop()"
      ],
      "metadata": {
        "colab": {
          "base_uri": "https://localhost:8080/"
        },
        "id": "PsfbDutQFWgK",
        "outputId": "06f3f342-39a1-40ac-8b7d-fde8ac9c59c5"
      },
      "execution_count": 27,
      "outputs": [
        {
          "output_type": "execute_result",
          "data": {
            "text/plain": [
              "DataFrame[year: int, institute_type: string, round_no: int, quota: string, pool: string, institute: string, program_name: string, program_duration: string, degree_short: string, category: string, opening_rank: int, closing_rank: int, is_preparatory: int, seat_availability: int]"
            ]
          },
          "metadata": {},
          "execution_count": 27
        }
      ]
    },
    {
      "cell_type": "code",
      "source": [
        "df_spark.na.drop(how=\"all\")#if the record has all na values for each col"
      ],
      "metadata": {
        "colab": {
          "base_uri": "https://localhost:8080/"
        },
        "id": "ZOGvyH7dFnyR",
        "outputId": "8a824108-be85-451c-8909-09d52e4225b4"
      },
      "execution_count": 28,
      "outputs": [
        {
          "output_type": "execute_result",
          "data": {
            "text/plain": [
              "DataFrame[year: int, institute_type: string, round_no: int, quota: string, pool: string, institute: string, program_name: string, program_duration: string, degree_short: string, category: string, opening_rank: int, closing_rank: int, is_preparatory: int, seat_availability: int]"
            ]
          },
          "metadata": {},
          "execution_count": 28
        }
      ]
    },
    {
      "cell_type": "code",
      "source": [
        "#understanding threshold in dropping columns\n",
        "df_spark.na.drop(thresh=2) #atleast two non null values should be present for it to be dropped"
      ],
      "metadata": {
        "colab": {
          "base_uri": "https://localhost:8080/"
        },
        "id": "EG22u4w6GM_T",
        "outputId": "2710cf45-d26d-4226-c030-a8fa526838ef"
      },
      "execution_count": 29,
      "outputs": [
        {
          "output_type": "execute_result",
          "data": {
            "text/plain": [
              "DataFrame[year: int, institute_type: string, round_no: int, quota: string, pool: string, institute: string, program_name: string, program_duration: string, degree_short: string, category: string, opening_rank: int, closing_rank: int, is_preparatory: int, seat_availability: int]"
            ]
          },
          "metadata": {},
          "execution_count": 29
        }
      ]
    },
    {
      "cell_type": "code",
      "source": [
        "df_spark.na.drop(how='any',subset=['institute'])"
      ],
      "metadata": {
        "colab": {
          "base_uri": "https://localhost:8080/"
        },
        "id": "IPaoITfcRQFu",
        "outputId": "9ebc21fc-8b4a-472b-8900-44e9471d7485"
      },
      "execution_count": 31,
      "outputs": [
        {
          "output_type": "execute_result",
          "data": {
            "text/plain": [
              "DataFrame[year: int, institute_type: string, round_no: int, quota: string, pool: string, institute: string, program_name: string, program_duration: string, degree_short: string, category: string, opening_rank: int, closing_rank: int, is_preparatory: int, seat_availability: int]"
            ]
          },
          "metadata": {},
          "execution_count": 31
        }
      ]
    },
    {
      "cell_type": "code",
      "source": [
        "#filling missing value\n",
        "df_pyspark.na.fill(\"Missing Values\",['institute','opening_rank'])"
      ],
      "metadata": {
        "colab": {
          "base_uri": "https://localhost:8080/",
          "height": 182
        },
        "id": "JrX3q9i3SAxx",
        "outputId": "e3d10156-0474-436b-fc06-9f2b49f1a05a"
      },
      "execution_count": 32,
      "outputs": [
        {
          "output_type": "error",
          "ename": "AttributeError",
          "evalue": "ignored",
          "traceback": [
            "\u001b[0;31m---------------------------------------------------------------------------\u001b[0m",
            "\u001b[0;31mAttributeError\u001b[0m                            Traceback (most recent call last)",
            "\u001b[0;32m<ipython-input-32-25dde1bc21af>\u001b[0m in \u001b[0;36m<module>\u001b[0;34m()\u001b[0m\n\u001b[1;32m      1\u001b[0m \u001b[0;31m#filling missing value\u001b[0m\u001b[0;34m\u001b[0m\u001b[0;34m\u001b[0m\u001b[0;34m\u001b[0m\u001b[0m\n\u001b[0;32m----> 2\u001b[0;31m \u001b[0mdf_pyspark\u001b[0m\u001b[0;34m.\u001b[0m\u001b[0mna\u001b[0m\u001b[0;34m.\u001b[0m\u001b[0mfill\u001b[0m\u001b[0;34m(\u001b[0m\u001b[0;34m\"Missing Values\"\u001b[0m\u001b[0;34m,\u001b[0m\u001b[0;34m[\u001b[0m\u001b[0;34m'institute'\u001b[0m\u001b[0;34m,\u001b[0m\u001b[0;34m'opening_rank'\u001b[0m\u001b[0;34m]\u001b[0m\u001b[0;34m)\u001b[0m\u001b[0;34m\u001b[0m\u001b[0;34m\u001b[0m\u001b[0m\n\u001b[0m",
            "\u001b[0;31mAttributeError\u001b[0m: 'NoneType' object has no attribute 'na'"
          ]
        }
      ]
    },
    {
      "cell_type": "code",
      "source": [
        ""
      ],
      "metadata": {
        "id": "QPsv3soFSUQk"
      },
      "execution_count": null,
      "outputs": []
    }
  ]
}