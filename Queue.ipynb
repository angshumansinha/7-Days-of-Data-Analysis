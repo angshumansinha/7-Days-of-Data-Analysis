{
  "nbformat": 4,
  "nbformat_minor": 0,
  "metadata": {
    "colab": {
      "name": "Queue.ipynb",
      "provenance": [],
      "authorship_tag": "ABX9TyOSSp8p21MeLJUKIdz+sDOk",
      "include_colab_link": true
    },
    "kernelspec": {
      "name": "python3",
      "display_name": "Python 3"
    },
    "language_info": {
      "name": "python"
    }
  },
  "cells": [
    {
      "cell_type": "markdown",
      "metadata": {
        "id": "view-in-github",
        "colab_type": "text"
      },
      "source": [
        "<a href=\"https://colab.research.google.com/github/angshumansinha/7-Days-of-Data-Analysis/blob/main/Queue.ipynb\" target=\"_parent\"><img src=\"https://colab.research.google.com/assets/colab-badge.svg\" alt=\"Open In Colab\"/></a>"
      ]
    },
    {
      "cell_type": "markdown",
      "source": [
        "## Note: Always remember for ENQUEUE and DEQUEUE operations the time complexity should be O(1). So in case of dynamic queue implementation using linked list, we have to make sure to use two pointers one for the head and the other for the tail. Else, we might need to traverse to reach the end and that would give a time complexity of O(n)."
      ],
      "metadata": {
        "id": "dSaSFoDudzaL"
      }
    },
    {
      "cell_type": "code",
      "execution_count": 1,
      "metadata": {
        "id": "tt--a2WC0MMd"
      },
      "outputs": [],
      "source": [
        "#Queue implementation using Arrays, Stack and Linked list\n",
        "class Queue_arr:\n",
        "  def __init__(self,size):\n",
        "    self.arr=[None]*size\n",
        "    self.front=-1\n",
        "    self.rear=-1\n",
        "    self.size=size\n",
        "\n",
        "  def enqueue(self,data):\n",
        "    #check for empty queue\n",
        "    if self.front==-1 and self.rear==-1:\n",
        "      self.front+=1\n",
        "      self.rear+=1\n",
        "      self.arr[self.rear]=data\n",
        "    elif self.rear==self.size-1:\n",
        "      print(\"Overflow\")\n",
        "    else:\n",
        "      self.rear+=1\n",
        "      self.arr[self.rear]=data\n",
        "\n",
        "  def dequeue(self):\n",
        "    #check for empty queue\n",
        "    if self.front>self.rear or (self.front==-1 and self.rear==-1):\n",
        "      print(\"Underflow\")\n",
        "    else:\n",
        "      self.front+=1\n",
        "\n",
        "  #alternative style of dequeue\n",
        "  def dequeue_alt(self):\n",
        "    if self.front==-1 and self.rear==-1:\n",
        "      print(\"Underflow\")\n",
        "    elif self.front==self.rear:\n",
        "      self.front=-1\n",
        "      self.rear=-1\n",
        "    else:\n",
        "      self.front+=1\n",
        "\n",
        "  def view(self):\n",
        "    if self.front>self.rear or (self.front==-1 and self.rear==-1):\n",
        "      print(\"Empty Queue\")\n",
        "    else:\n",
        "      print(\"Front element \",self.arr[self.front])\n",
        "      print(\"Rear element \",self.arr[self.rear])\n",
        "      print(\"Full Queue \",self.arr[self.front:self.rear+1])\n",
        "\n",
        "  def view_alt(self):\n",
        "    if self.front==-1 and self.rear==-1:\n",
        "      print(\"Empty Queue\")\n",
        "    else:\n",
        "      print(\"Front element \",self.arr[self.front])\n",
        "      print(\"Rear element \",self.arr[self.rear])\n",
        "      print(\"Full Queue \",self.arr[self.front:self.rear+1])\n"
      ]
    },
    {
      "cell_type": "code",
      "source": [
        "queue=Queue_arr(5)"
      ],
      "metadata": {
        "id": "9wjCRqI-3ZpT"
      },
      "execution_count": 2,
      "outputs": []
    },
    {
      "cell_type": "code",
      "source": [
        "queue.view()"
      ],
      "metadata": {
        "colab": {
          "base_uri": "https://localhost:8080/"
        },
        "id": "FbJ-yMif3ivZ",
        "outputId": "4ad01026-2096-4f97-9ef3-cdbe16c20736"
      },
      "execution_count": 3,
      "outputs": [
        {
          "output_type": "stream",
          "name": "stdout",
          "text": [
            "Empty Queue\n"
          ]
        }
      ]
    },
    {
      "cell_type": "code",
      "source": [
        "queue.dequeue()"
      ],
      "metadata": {
        "colab": {
          "base_uri": "https://localhost:8080/"
        },
        "id": "yp_Lz92P_xgq",
        "outputId": "0018994b-d998-4bca-ef14-8ab50e3f415d"
      },
      "execution_count": 4,
      "outputs": [
        {
          "output_type": "stream",
          "name": "stdout",
          "text": [
            "Underflow\n"
          ]
        }
      ]
    },
    {
      "cell_type": "code",
      "source": [
        "queue.enqueue(23)"
      ],
      "metadata": {
        "id": "h9-AqXk1_1xJ"
      },
      "execution_count": 5,
      "outputs": []
    },
    {
      "cell_type": "code",
      "source": [
        "queue.view()"
      ],
      "metadata": {
        "colab": {
          "base_uri": "https://localhost:8080/"
        },
        "id": "sVqqxbCJ_39d",
        "outputId": "4f32b53e-cdfc-4787-e1a0-4b0c3d796304"
      },
      "execution_count": 6,
      "outputs": [
        {
          "output_type": "stream",
          "name": "stdout",
          "text": [
            "Front element  23\n",
            "Rear element  23\n",
            "Full Queue  [23]\n"
          ]
        }
      ]
    },
    {
      "cell_type": "code",
      "source": [
        "queue.enqueue(24)"
      ],
      "metadata": {
        "id": "edBZfes7_50D"
      },
      "execution_count": 7,
      "outputs": []
    },
    {
      "cell_type": "code",
      "source": [
        "queue.view()"
      ],
      "metadata": {
        "colab": {
          "base_uri": "https://localhost:8080/"
        },
        "id": "fDOI9Qr2AEOd",
        "outputId": "55f60b0d-5e45-40ab-c60a-e9daccd28f77"
      },
      "execution_count": 8,
      "outputs": [
        {
          "output_type": "stream",
          "name": "stdout",
          "text": [
            "Front element  23\n",
            "Rear element  24\n",
            "Full Queue  [23, 24]\n"
          ]
        }
      ]
    },
    {
      "cell_type": "code",
      "source": [
        "queue.dequeue()"
      ],
      "metadata": {
        "id": "NCw2s8kmAFxl"
      },
      "execution_count": 9,
      "outputs": []
    },
    {
      "cell_type": "code",
      "source": [
        "queue.view()"
      ],
      "metadata": {
        "colab": {
          "base_uri": "https://localhost:8080/"
        },
        "id": "I93_HmLAAJyp",
        "outputId": "40640cda-0e1f-4773-98ce-ebae066358aa"
      },
      "execution_count": 10,
      "outputs": [
        {
          "output_type": "stream",
          "name": "stdout",
          "text": [
            "Front element  24\n",
            "Rear element  24\n",
            "Full Queue  [24]\n"
          ]
        }
      ]
    },
    {
      "cell_type": "code",
      "source": [
        "queue.enqueue(90)"
      ],
      "metadata": {
        "id": "x6extNhLAMGN"
      },
      "execution_count": 11,
      "outputs": []
    },
    {
      "cell_type": "code",
      "source": [
        "queue.enqueue(87)\n",
        "queue.enqueue(67)\n",
        "queue.enqueue(23)"
      ],
      "metadata": {
        "colab": {
          "base_uri": "https://localhost:8080/"
        },
        "id": "Cbxql1kwAQCy",
        "outputId": "6887cc02-a663-4e65-ac15-af984318ea1c"
      },
      "execution_count": 12,
      "outputs": [
        {
          "output_type": "stream",
          "name": "stdout",
          "text": [
            "Overflow\n"
          ]
        }
      ]
    },
    {
      "cell_type": "code",
      "source": [
        "queue.view()"
      ],
      "metadata": {
        "colab": {
          "base_uri": "https://localhost:8080/"
        },
        "id": "kiJenYHXAUak",
        "outputId": "c7509473-cb41-4af9-e9aa-befd5a0911dd"
      },
      "execution_count": 13,
      "outputs": [
        {
          "output_type": "stream",
          "name": "stdout",
          "text": [
            "Front element  24\n",
            "Rear element  67\n",
            "Full Queue  [24, 90, 87, 67]\n"
          ]
        }
      ]
    },
    {
      "cell_type": "code",
      "source": [
        "queue.dequeue()"
      ],
      "metadata": {
        "id": "vFcGncJeAWUL"
      },
      "execution_count": 14,
      "outputs": []
    },
    {
      "cell_type": "code",
      "source": [
        "queue.dequeue()\n",
        "queue.dequeue()"
      ],
      "metadata": {
        "id": "Fjtf7tl1Ads0"
      },
      "execution_count": 15,
      "outputs": []
    },
    {
      "cell_type": "code",
      "source": [
        "queue.enqueue(98) #drawback of queue"
      ],
      "metadata": {
        "colab": {
          "base_uri": "https://localhost:8080/"
        },
        "id": "NQsg2XOiAhIr",
        "outputId": "e5e24d7f-3077-421e-a12b-0e34c3e8018b"
      },
      "execution_count": 16,
      "outputs": [
        {
          "output_type": "stream",
          "name": "stdout",
          "text": [
            "Overflow\n"
          ]
        }
      ]
    },
    {
      "cell_type": "code",
      "source": [
        "queue.view()"
      ],
      "metadata": {
        "colab": {
          "base_uri": "https://localhost:8080/"
        },
        "id": "ODjYDSO2AjRg",
        "outputId": "4f614e1a-2902-4767-bb8f-8ab59c5ccb61"
      },
      "execution_count": 17,
      "outputs": [
        {
          "output_type": "stream",
          "name": "stdout",
          "text": [
            "Front element  67\n",
            "Rear element  67\n",
            "Full Queue  [67]\n"
          ]
        }
      ]
    },
    {
      "cell_type": "code",
      "source": [
        "queue.dequeue_alt()"
      ],
      "metadata": {
        "id": "1fmOL7VTAl2R"
      },
      "execution_count": 18,
      "outputs": []
    },
    {
      "cell_type": "code",
      "source": [
        "queue.view_alt()"
      ],
      "metadata": {
        "colab": {
          "base_uri": "https://localhost:8080/"
        },
        "id": "Kz76v6mEXWb5",
        "outputId": "9859f8a5-be30-4293-f444-ca9d9bb9bb34"
      },
      "execution_count": 19,
      "outputs": [
        {
          "output_type": "stream",
          "name": "stdout",
          "text": [
            "Empty Queue\n"
          ]
        }
      ]
    },
    {
      "cell_type": "code",
      "source": [
        "#implementation using linked list\n",
        "class Node:\n",
        "  def __init__(self,data):\n",
        "    self.data=data\n",
        "    self.next=None\n",
        "\n",
        "class Queue_ll:\n",
        "  def __init__(self):\n",
        "    self.front=None #beginn of list\n",
        "    self.rear=None # end of list\n",
        "  \n",
        "  def enqueue(self,data): #insert at rear\n",
        "    new_node=Node(data)\n",
        "    if self.front==None and self.rear==None:\n",
        "      self.front=new_node\n",
        "      self.rear=new_node\n",
        "    else:\n",
        "      self.rear.next=new_node\n",
        "      self.rear=new_node\n",
        "  \n",
        "  def dequeue(self):\n",
        "    temp=self.front\n",
        "    if temp==None:\n",
        "      print(\"Underflow\")\n",
        "    else:\n",
        "      print(\"Popped Element \",temp.data)\n",
        "      self.front=temp.next\n",
        "      temp.next=None\n",
        "  \n",
        "  def view(self):\n",
        "    if self.front==None and self.rear==None:\n",
        "      print(\"Empty Queue\")\n",
        "    else:\n",
        "      print(\"Front \",self.front.data)\n",
        "      print(\"Rear \",self.rear.data)\n",
        "      temp=self.front\n",
        "      while temp:\n",
        "        print(temp.data)\n",
        "        temp=temp.next"
      ],
      "metadata": {
        "id": "AwyGvVhsXYZ9"
      },
      "execution_count": 60,
      "outputs": []
    },
    {
      "cell_type": "code",
      "source": [
        "queue=Queue_ll()"
      ],
      "metadata": {
        "id": "VrvdZSWrf-1Q"
      },
      "execution_count": 61,
      "outputs": []
    },
    {
      "cell_type": "code",
      "source": [
        "queue.enqueue(11)"
      ],
      "metadata": {
        "id": "xKeMOzjOgKrm"
      },
      "execution_count": 62,
      "outputs": []
    },
    {
      "cell_type": "code",
      "source": [
        "queue.view()"
      ],
      "metadata": {
        "id": "8uoeslS9gSo2",
        "outputId": "d6efd81a-0018-42b0-bf9c-d46e33e7a776",
        "colab": {
          "base_uri": "https://localhost:8080/"
        }
      },
      "execution_count": 63,
      "outputs": [
        {
          "output_type": "stream",
          "name": "stdout",
          "text": [
            "Front  11\n",
            "Rear  11\n",
            "11\n"
          ]
        }
      ]
    },
    {
      "cell_type": "code",
      "source": [
        "queue.enqueue(12)"
      ],
      "metadata": {
        "id": "kdH001TSgUMm"
      },
      "execution_count": 64,
      "outputs": []
    },
    {
      "cell_type": "code",
      "source": [
        "queue.view()"
      ],
      "metadata": {
        "id": "KlsYQuNFgXPK",
        "outputId": "a73e0b23-b067-4d72-9a13-0c09bef9416b",
        "colab": {
          "base_uri": "https://localhost:8080/"
        }
      },
      "execution_count": 65,
      "outputs": [
        {
          "output_type": "stream",
          "name": "stdout",
          "text": [
            "Front  11\n",
            "Rear  12\n",
            "11\n",
            "12\n"
          ]
        }
      ]
    },
    {
      "cell_type": "code",
      "source": [
        "queue.enqueue(13)\n",
        "queue.enqueue(78)"
      ],
      "metadata": {
        "id": "QZ7mibtGgY7l"
      },
      "execution_count": 66,
      "outputs": []
    },
    {
      "cell_type": "code",
      "source": [
        "queue.view()"
      ],
      "metadata": {
        "id": "msTnjFr1ggMY",
        "outputId": "21c4e84c-c266-459a-b6ba-b17f2a8c769d",
        "colab": {
          "base_uri": "https://localhost:8080/"
        }
      },
      "execution_count": 67,
      "outputs": [
        {
          "output_type": "stream",
          "name": "stdout",
          "text": [
            "Front  11\n",
            "Rear  78\n",
            "11\n",
            "12\n",
            "13\n",
            "78\n"
          ]
        }
      ]
    },
    {
      "cell_type": "code",
      "source": [
        "queue.dequeue()"
      ],
      "metadata": {
        "id": "hdkoVCeyghkR",
        "outputId": "8acf048d-f3bc-494b-cd75-d73ce40f4c93",
        "colab": {
          "base_uri": "https://localhost:8080/"
        }
      },
      "execution_count": 68,
      "outputs": [
        {
          "output_type": "stream",
          "name": "stdout",
          "text": [
            "Popped Element  11\n"
          ]
        }
      ]
    },
    {
      "cell_type": "code",
      "source": [
        "queue.view()"
      ],
      "metadata": {
        "id": "ZYqrTKgagkvk",
        "outputId": "e0366791-7da6-47d8-b5fe-fab7c872d4ed",
        "colab": {
          "base_uri": "https://localhost:8080/"
        }
      },
      "execution_count": 69,
      "outputs": [
        {
          "output_type": "stream",
          "name": "stdout",
          "text": [
            "Front  12\n",
            "Rear  78\n",
            "12\n",
            "13\n",
            "78\n"
          ]
        }
      ]
    },
    {
      "cell_type": "code",
      "source": [
        "queue.dequeue()"
      ],
      "metadata": {
        "id": "LNOWamr7gmPX",
        "outputId": "67e62c31-b24b-4b11-ce28-772324048a3d",
        "colab": {
          "base_uri": "https://localhost:8080/"
        }
      },
      "execution_count": 70,
      "outputs": [
        {
          "output_type": "stream",
          "name": "stdout",
          "text": [
            "Popped Element  12\n"
          ]
        }
      ]
    },
    {
      "cell_type": "code",
      "source": [
        "queue.dequeue()"
      ],
      "metadata": {
        "id": "gOI6522hg3QX",
        "outputId": "54f10745-d3dc-481d-be4b-26ebd875920d",
        "colab": {
          "base_uri": "https://localhost:8080/"
        }
      },
      "execution_count": 71,
      "outputs": [
        {
          "output_type": "stream",
          "name": "stdout",
          "text": [
            "Popped Element  13\n"
          ]
        }
      ]
    },
    {
      "cell_type": "code",
      "source": [
        "queue.dequeue()"
      ],
      "metadata": {
        "id": "4cLGzBxbhML2",
        "outputId": "2d7e2b30-f9a6-4fd6-e17a-c3e4ebb15e00",
        "colab": {
          "base_uri": "https://localhost:8080/"
        }
      },
      "execution_count": 72,
      "outputs": [
        {
          "output_type": "stream",
          "name": "stdout",
          "text": [
            "Popped Element  78\n"
          ]
        }
      ]
    },
    {
      "cell_type": "code",
      "source": [
        "queue.dequeue()"
      ],
      "metadata": {
        "id": "r7uOpfLJhNjx",
        "outputId": "ab1f24a1-40fd-485f-807b-22b42be4b092",
        "colab": {
          "base_uri": "https://localhost:8080/"
        }
      },
      "execution_count": 73,
      "outputs": [
        {
          "output_type": "stream",
          "name": "stdout",
          "text": [
            "Underflow\n"
          ]
        }
      ]
    },
    {
      "cell_type": "code",
      "source": [
        "queue.dequeue()"
      ],
      "metadata": {
        "id": "0Q1Reu0VhPIa",
        "outputId": "295c4979-7ee4-4392-ec58-5d233132befd",
        "colab": {
          "base_uri": "https://localhost:8080/"
        }
      },
      "execution_count": 74,
      "outputs": [
        {
          "output_type": "stream",
          "name": "stdout",
          "text": [
            "Underflow\n"
          ]
        }
      ]
    },
    {
      "cell_type": "code",
      "source": [
        "queue.view()"
      ],
      "metadata": {
        "id": "QNDsQM1ahQ1l",
        "outputId": "861286cc-cf8c-486a-e6a9-8cdc6b800bde",
        "colab": {
          "base_uri": "https://localhost:8080/",
          "height": 287
        }
      },
      "execution_count": 75,
      "outputs": [
        {
          "output_type": "error",
          "ename": "AttributeError",
          "evalue": "ignored",
          "traceback": [
            "\u001b[0;31m---------------------------------------------------------------------------\u001b[0m",
            "\u001b[0;31mAttributeError\u001b[0m                            Traceback (most recent call last)",
            "\u001b[0;32m<ipython-input-75-562035e8f289>\u001b[0m in \u001b[0;36m<module>\u001b[0;34m()\u001b[0m\n\u001b[0;32m----> 1\u001b[0;31m \u001b[0mqueue\u001b[0m\u001b[0;34m.\u001b[0m\u001b[0mview\u001b[0m\u001b[0;34m(\u001b[0m\u001b[0;34m)\u001b[0m\u001b[0;34m\u001b[0m\u001b[0;34m\u001b[0m\u001b[0m\n\u001b[0m",
            "\u001b[0;32m<ipython-input-60-b1f5d70f4fad>\u001b[0m in \u001b[0;36mview\u001b[0;34m(self)\u001b[0m\n\u001b[1;32m     32\u001b[0m       \u001b[0mprint\u001b[0m\u001b[0;34m(\u001b[0m\u001b[0;34m\"Empty Queue\"\u001b[0m\u001b[0;34m)\u001b[0m\u001b[0;34m\u001b[0m\u001b[0;34m\u001b[0m\u001b[0m\n\u001b[1;32m     33\u001b[0m     \u001b[0;32melse\u001b[0m\u001b[0;34m:\u001b[0m\u001b[0;34m\u001b[0m\u001b[0;34m\u001b[0m\u001b[0m\n\u001b[0;32m---> 34\u001b[0;31m       \u001b[0mprint\u001b[0m\u001b[0;34m(\u001b[0m\u001b[0;34m\"Front \"\u001b[0m\u001b[0;34m,\u001b[0m\u001b[0mself\u001b[0m\u001b[0;34m.\u001b[0m\u001b[0mfront\u001b[0m\u001b[0;34m.\u001b[0m\u001b[0mdata\u001b[0m\u001b[0;34m)\u001b[0m\u001b[0;34m\u001b[0m\u001b[0;34m\u001b[0m\u001b[0m\n\u001b[0m\u001b[1;32m     35\u001b[0m       \u001b[0mprint\u001b[0m\u001b[0;34m(\u001b[0m\u001b[0;34m\"Rear \"\u001b[0m\u001b[0;34m,\u001b[0m\u001b[0mself\u001b[0m\u001b[0;34m.\u001b[0m\u001b[0mrear\u001b[0m\u001b[0;34m.\u001b[0m\u001b[0mdata\u001b[0m\u001b[0;34m)\u001b[0m\u001b[0;34m\u001b[0m\u001b[0;34m\u001b[0m\u001b[0m\n\u001b[1;32m     36\u001b[0m       \u001b[0mtemp\u001b[0m\u001b[0;34m=\u001b[0m\u001b[0mself\u001b[0m\u001b[0;34m.\u001b[0m\u001b[0mfront\u001b[0m\u001b[0;34m\u001b[0m\u001b[0;34m\u001b[0m\u001b[0m\n",
            "\u001b[0;31mAttributeError\u001b[0m: 'NoneType' object has no attribute 'data'"
          ]
        }
      ]
    },
    {
      "cell_type": "code",
      "source": [
        ""
      ],
      "metadata": {
        "id": "KnGjr4W8hSo5"
      },
      "execution_count": null,
      "outputs": []
    }
  ]
}