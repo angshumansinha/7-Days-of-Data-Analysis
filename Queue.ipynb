{
  "nbformat": 4,
  "nbformat_minor": 0,
  "metadata": {
    "colab": {
      "name": "Queue.ipynb",
      "provenance": [],
      "authorship_tag": "ABX9TyN71mfaiVHc+3MjplIkVZQV",
      "include_colab_link": true
    },
    "kernelspec": {
      "name": "python3",
      "display_name": "Python 3"
    },
    "language_info": {
      "name": "python"
    }
  },
  "cells": [
    {
      "cell_type": "markdown",
      "metadata": {
        "id": "view-in-github",
        "colab_type": "text"
      },
      "source": [
        "<a href=\"https://colab.research.google.com/github/angshumansinha/7-Days-of-Data-Analysis/blob/main/Queue.ipynb\" target=\"_parent\"><img src=\"https://colab.research.google.com/assets/colab-badge.svg\" alt=\"Open In Colab\"/></a>"
      ]
    },
    {
      "cell_type": "markdown",
      "source": [
        "## Note: Always remember for ENQUEUE and DEQUEUE operations the time complexity should be O(1). So in case of dynamic queue implementation using linked list, we have to make sure to use two pointers one for the head and the other for the tail. Else, we might need to traverse to reach the end and that would give a time complexity of O(n)."
      ],
      "metadata": {
        "id": "dSaSFoDudzaL"
      }
    },
    {
      "cell_type": "code",
      "execution_count": 1,
      "metadata": {
        "id": "tt--a2WC0MMd"
      },
      "outputs": [],
      "source": [
        "#Queue implementation using Arrays, Stack and Linked list\n",
        "class Queue_arr:\n",
        "  def __init__(self,size):\n",
        "    self.arr=[None]*size\n",
        "    self.front=-1\n",
        "    self.rear=-1\n",
        "    self.size=size\n",
        "\n",
        "  def enqueue(self,data):\n",
        "    #check for empty queue\n",
        "    if self.front==-1 and self.rear==-1:\n",
        "      self.front+=1\n",
        "      self.rear+=1\n",
        "      self.arr[self.rear]=data\n",
        "    elif self.rear==self.size-1:\n",
        "      print(\"Overflow\")\n",
        "    else:\n",
        "      self.rear+=1\n",
        "      self.arr[self.rear]=data\n",
        "\n",
        "  def dequeue(self):\n",
        "    #check for empty queue\n",
        "    if self.front>self.rear or (self.front==-1 and self.rear==-1):\n",
        "      print(\"Underflow\")\n",
        "    else:\n",
        "      self.front+=1\n",
        "\n",
        "  #alternative style of dequeue\n",
        "  def dequeue_alt(self):\n",
        "    if self.front==-1 and self.rear==-1:\n",
        "      print(\"Underflow\")\n",
        "    elif self.front==self.rear:\n",
        "      self.front=-1\n",
        "      self.rear=-1\n",
        "    else:\n",
        "      self.front+=1\n",
        "\n",
        "  def view(self):\n",
        "    if self.front>self.rear or (self.front==-1 and self.rear==-1):\n",
        "      print(\"Empty Queue\")\n",
        "    else:\n",
        "      print(\"Front element \",self.arr[self.front])\n",
        "      print(\"Rear element \",self.arr[self.rear])\n",
        "      print(\"Full Queue \",self.arr[self.front:self.rear+1])\n",
        "\n",
        "  def view_alt(self):\n",
        "    if self.front==-1 and self.rear==-1:\n",
        "      print(\"Empty Queue\")\n",
        "    else:\n",
        "      print(\"Front element \",self.arr[self.front])\n",
        "      print(\"Rear element \",self.arr[self.rear])\n",
        "      print(\"Full Queue \",self.arr[self.front:self.rear+1])\n"
      ]
    },
    {
      "cell_type": "code",
      "source": [
        "queue=Queue_arr(5)"
      ],
      "metadata": {
        "id": "9wjCRqI-3ZpT"
      },
      "execution_count": 2,
      "outputs": []
    },
    {
      "cell_type": "code",
      "source": [
        "queue.view()"
      ],
      "metadata": {
        "colab": {
          "base_uri": "https://localhost:8080/"
        },
        "id": "FbJ-yMif3ivZ",
        "outputId": "f980ae78-7903-436c-a21f-85b4cde13ae0"
      },
      "execution_count": 3,
      "outputs": [
        {
          "output_type": "stream",
          "name": "stdout",
          "text": [
            "Empty Queue\n"
          ]
        }
      ]
    },
    {
      "cell_type": "code",
      "source": [
        "queue.dequeue()"
      ],
      "metadata": {
        "colab": {
          "base_uri": "https://localhost:8080/"
        },
        "id": "yp_Lz92P_xgq",
        "outputId": "9f24430d-d9a8-49d7-d99f-c6b928e64bd8"
      },
      "execution_count": 4,
      "outputs": [
        {
          "output_type": "stream",
          "name": "stdout",
          "text": [
            "Underflow\n"
          ]
        }
      ]
    },
    {
      "cell_type": "code",
      "source": [
        "queue.enqueue(23)"
      ],
      "metadata": {
        "id": "h9-AqXk1_1xJ"
      },
      "execution_count": 5,
      "outputs": []
    },
    {
      "cell_type": "code",
      "source": [
        "queue.view()"
      ],
      "metadata": {
        "colab": {
          "base_uri": "https://localhost:8080/"
        },
        "id": "sVqqxbCJ_39d",
        "outputId": "39f58d8a-cd1b-44f8-9bbb-79c0d6a2d5b0"
      },
      "execution_count": 6,
      "outputs": [
        {
          "output_type": "stream",
          "name": "stdout",
          "text": [
            "Front element  23\n",
            "Rear element  23\n",
            "Full Queue  [23]\n"
          ]
        }
      ]
    },
    {
      "cell_type": "code",
      "source": [
        "queue.enqueue(24)"
      ],
      "metadata": {
        "id": "edBZfes7_50D"
      },
      "execution_count": 7,
      "outputs": []
    },
    {
      "cell_type": "code",
      "source": [
        "queue.view()"
      ],
      "metadata": {
        "colab": {
          "base_uri": "https://localhost:8080/"
        },
        "id": "fDOI9Qr2AEOd",
        "outputId": "f71a43f5-d268-4246-fdd7-71ffadc886ab"
      },
      "execution_count": 8,
      "outputs": [
        {
          "output_type": "stream",
          "name": "stdout",
          "text": [
            "Front element  23\n",
            "Rear element  24\n",
            "Full Queue  [23, 24]\n"
          ]
        }
      ]
    },
    {
      "cell_type": "code",
      "source": [
        "queue.dequeue()"
      ],
      "metadata": {
        "id": "NCw2s8kmAFxl"
      },
      "execution_count": 9,
      "outputs": []
    },
    {
      "cell_type": "code",
      "source": [
        "queue.view()"
      ],
      "metadata": {
        "colab": {
          "base_uri": "https://localhost:8080/"
        },
        "id": "I93_HmLAAJyp",
        "outputId": "16637ca4-14f0-4ddf-b028-ed231a372ed0"
      },
      "execution_count": 10,
      "outputs": [
        {
          "output_type": "stream",
          "name": "stdout",
          "text": [
            "Front element  24\n",
            "Rear element  24\n",
            "Full Queue  [24]\n"
          ]
        }
      ]
    },
    {
      "cell_type": "code",
      "source": [
        "queue.enqueue(90)"
      ],
      "metadata": {
        "id": "x6extNhLAMGN"
      },
      "execution_count": 11,
      "outputs": []
    },
    {
      "cell_type": "code",
      "source": [
        "queue.enqueue(87)\n",
        "queue.enqueue(67)\n",
        "queue.enqueue(23)"
      ],
      "metadata": {
        "colab": {
          "base_uri": "https://localhost:8080/"
        },
        "id": "Cbxql1kwAQCy",
        "outputId": "6b1360e3-7985-4bb6-d295-0d7ed09c6b23"
      },
      "execution_count": 12,
      "outputs": [
        {
          "output_type": "stream",
          "name": "stdout",
          "text": [
            "Overflow\n"
          ]
        }
      ]
    },
    {
      "cell_type": "code",
      "source": [
        "queue.view()"
      ],
      "metadata": {
        "colab": {
          "base_uri": "https://localhost:8080/"
        },
        "id": "kiJenYHXAUak",
        "outputId": "7dd81fd7-e98d-45b7-fed3-de7ddd1dc9d2"
      },
      "execution_count": 13,
      "outputs": [
        {
          "output_type": "stream",
          "name": "stdout",
          "text": [
            "Front element  24\n",
            "Rear element  67\n",
            "Full Queue  [24, 90, 87, 67]\n"
          ]
        }
      ]
    },
    {
      "cell_type": "code",
      "source": [
        "queue.dequeue()"
      ],
      "metadata": {
        "id": "vFcGncJeAWUL"
      },
      "execution_count": 14,
      "outputs": []
    },
    {
      "cell_type": "code",
      "source": [
        "queue.dequeue()\n",
        "queue.dequeue()"
      ],
      "metadata": {
        "id": "Fjtf7tl1Ads0"
      },
      "execution_count": 15,
      "outputs": []
    },
    {
      "cell_type": "code",
      "source": [
        "queue.enqueue(98) #drawback of queue"
      ],
      "metadata": {
        "colab": {
          "base_uri": "https://localhost:8080/"
        },
        "id": "NQsg2XOiAhIr",
        "outputId": "ad48a4a7-9e6f-4193-b1cc-230e8173eff8"
      },
      "execution_count": 16,
      "outputs": [
        {
          "output_type": "stream",
          "name": "stdout",
          "text": [
            "Overflow\n"
          ]
        }
      ]
    },
    {
      "cell_type": "code",
      "source": [
        "queue.view()"
      ],
      "metadata": {
        "colab": {
          "base_uri": "https://localhost:8080/"
        },
        "id": "ODjYDSO2AjRg",
        "outputId": "d366cfa2-bb7d-44db-f00b-7a26b4ed45e4"
      },
      "execution_count": 17,
      "outputs": [
        {
          "output_type": "stream",
          "name": "stdout",
          "text": [
            "Front element  67\n",
            "Rear element  67\n",
            "Full Queue  [67]\n"
          ]
        }
      ]
    },
    {
      "cell_type": "code",
      "source": [
        "queue.dequeue_alt()"
      ],
      "metadata": {
        "id": "1fmOL7VTAl2R"
      },
      "execution_count": 18,
      "outputs": []
    },
    {
      "cell_type": "code",
      "source": [
        "queue.view_alt()"
      ],
      "metadata": {
        "colab": {
          "base_uri": "https://localhost:8080/"
        },
        "id": "Kz76v6mEXWb5",
        "outputId": "2dc87800-eadf-4e68-89ca-48bd5afeba88"
      },
      "execution_count": 19,
      "outputs": [
        {
          "output_type": "stream",
          "name": "stdout",
          "text": [
            "Empty Queue\n"
          ]
        }
      ]
    },
    {
      "cell_type": "code",
      "source": [
        "#implementation using linked list\n",
        "class Node:\n",
        "  def __init__(self,data):\n",
        "    self.data=data\n",
        "    self.next=None\n",
        "\n",
        "class Queue_ll:\n",
        "  def __init__(self):\n",
        "    self.front=None #beginn of list\n",
        "    self.rear=None # end of list\n",
        "  \n",
        "  def enqueue(self,data): #insert at rear\n",
        "    new_node=Node(data)\n",
        "    if self.front==None and self.rear==None:\n",
        "      self.front=new_node\n",
        "      self.rear=new_node\n",
        "    else:\n",
        "      self.rear.next=new_node\n",
        "      self.rear=new_node\n",
        "  \n",
        "  def dequeue(self):\n",
        "    temp=self.front\n",
        "    if temp==None:\n",
        "      print(\"Underflow\")\n",
        "      self.rear=None # clear reference as front and rear are in same position\n",
        "    else:\n",
        "      print(\"Popped Element \",temp.data)\n",
        "      self.front=temp.next\n",
        "      temp.next=None\n",
        "  \n",
        "  def dequeue_alt(self):\n",
        "    if self.front==self.rear:\n",
        "      self.front=None\n",
        "      self.rear=None\n",
        "      print(\"Empty Queue\")\n",
        "    else:\n",
        "      temp=self.front\n",
        "      print(\"Popped Element \",temp.data)\n",
        "      self.front=temp.next\n",
        "      temp.next=None\n",
        "\n",
        "  \n",
        "  def view(self):\n",
        "    if self.front==None and self.rear==None:\n",
        "      print(\"Empty Queue\")\n",
        "    else:\n",
        "      print(\"Front \",self.front.data)\n",
        "      print(\"Rear \",self.rear.data)\n",
        "      temp=self.front\n",
        "      while temp:\n",
        "        print(temp.data)\n",
        "        temp=temp.next"
      ],
      "metadata": {
        "id": "AwyGvVhsXYZ9"
      },
      "execution_count": 20,
      "outputs": []
    },
    {
      "cell_type": "code",
      "source": [
        "queue=Queue_ll()"
      ],
      "metadata": {
        "id": "VrvdZSWrf-1Q"
      },
      "execution_count": 21,
      "outputs": []
    },
    {
      "cell_type": "code",
      "source": [
        "queue.enqueue(11)"
      ],
      "metadata": {
        "id": "xKeMOzjOgKrm"
      },
      "execution_count": 22,
      "outputs": []
    },
    {
      "cell_type": "code",
      "source": [
        "queue.view()"
      ],
      "metadata": {
        "colab": {
          "base_uri": "https://localhost:8080/"
        },
        "id": "8uoeslS9gSo2",
        "outputId": "427c0b96-cde6-4a50-8ab8-0888d5c21853"
      },
      "execution_count": 23,
      "outputs": [
        {
          "output_type": "stream",
          "name": "stdout",
          "text": [
            "Front  11\n",
            "Rear  11\n",
            "11\n"
          ]
        }
      ]
    },
    {
      "cell_type": "code",
      "source": [
        "queue.enqueue(12)"
      ],
      "metadata": {
        "id": "kdH001TSgUMm"
      },
      "execution_count": 24,
      "outputs": []
    },
    {
      "cell_type": "code",
      "source": [
        "queue.view()"
      ],
      "metadata": {
        "colab": {
          "base_uri": "https://localhost:8080/"
        },
        "id": "KlsYQuNFgXPK",
        "outputId": "4ab28996-70ab-4f20-96d5-69c99c78eb3f"
      },
      "execution_count": 25,
      "outputs": [
        {
          "output_type": "stream",
          "name": "stdout",
          "text": [
            "Front  11\n",
            "Rear  12\n",
            "11\n",
            "12\n"
          ]
        }
      ]
    },
    {
      "cell_type": "code",
      "source": [
        "queue.enqueue(13)\n",
        "queue.enqueue(78)"
      ],
      "metadata": {
        "id": "QZ7mibtGgY7l"
      },
      "execution_count": 26,
      "outputs": []
    },
    {
      "cell_type": "code",
      "source": [
        "queue.view()"
      ],
      "metadata": {
        "colab": {
          "base_uri": "https://localhost:8080/"
        },
        "id": "msTnjFr1ggMY",
        "outputId": "d102d08e-14c4-4091-ba68-ccd14f097aea"
      },
      "execution_count": 27,
      "outputs": [
        {
          "output_type": "stream",
          "name": "stdout",
          "text": [
            "Front  11\n",
            "Rear  78\n",
            "11\n",
            "12\n",
            "13\n",
            "78\n"
          ]
        }
      ]
    },
    {
      "cell_type": "code",
      "source": [
        "queue.dequeue()"
      ],
      "metadata": {
        "colab": {
          "base_uri": "https://localhost:8080/"
        },
        "id": "hdkoVCeyghkR",
        "outputId": "adc23471-9548-4a51-d9c9-a567927a9b6f"
      },
      "execution_count": 28,
      "outputs": [
        {
          "output_type": "stream",
          "name": "stdout",
          "text": [
            "Popped Element  11\n"
          ]
        }
      ]
    },
    {
      "cell_type": "code",
      "source": [
        "queue.view()"
      ],
      "metadata": {
        "colab": {
          "base_uri": "https://localhost:8080/"
        },
        "id": "ZYqrTKgagkvk",
        "outputId": "e04d4d6e-729c-4566-8079-60f1c2e0ade5"
      },
      "execution_count": 29,
      "outputs": [
        {
          "output_type": "stream",
          "name": "stdout",
          "text": [
            "Front  12\n",
            "Rear  78\n",
            "12\n",
            "13\n",
            "78\n"
          ]
        }
      ]
    },
    {
      "cell_type": "code",
      "source": [
        "queue.dequeue()"
      ],
      "metadata": {
        "colab": {
          "base_uri": "https://localhost:8080/"
        },
        "id": "LNOWamr7gmPX",
        "outputId": "b7041cfc-9d4b-46bb-9df2-64f3d70ec679"
      },
      "execution_count": 30,
      "outputs": [
        {
          "output_type": "stream",
          "name": "stdout",
          "text": [
            "Popped Element  12\n"
          ]
        }
      ]
    },
    {
      "cell_type": "code",
      "source": [
        "queue.dequeue()"
      ],
      "metadata": {
        "colab": {
          "base_uri": "https://localhost:8080/"
        },
        "id": "gOI6522hg3QX",
        "outputId": "c9465327-fb7d-4dcf-d645-38115bf8ccd0"
      },
      "execution_count": 31,
      "outputs": [
        {
          "output_type": "stream",
          "name": "stdout",
          "text": [
            "Popped Element  13\n"
          ]
        }
      ]
    },
    {
      "cell_type": "code",
      "source": [
        "queue.dequeue()"
      ],
      "metadata": {
        "colab": {
          "base_uri": "https://localhost:8080/"
        },
        "id": "4cLGzBxbhML2",
        "outputId": "82c6e299-1172-4d73-9f74-38dc41a2f0dc"
      },
      "execution_count": 32,
      "outputs": [
        {
          "output_type": "stream",
          "name": "stdout",
          "text": [
            "Popped Element  78\n"
          ]
        }
      ]
    },
    {
      "cell_type": "code",
      "source": [
        "queue.dequeue()"
      ],
      "metadata": {
        "colab": {
          "base_uri": "https://localhost:8080/"
        },
        "id": "r7uOpfLJhNjx",
        "outputId": "e4f520b8-f533-457b-d6d3-2f113a2671d2"
      },
      "execution_count": 33,
      "outputs": [
        {
          "output_type": "stream",
          "name": "stdout",
          "text": [
            "Underflow\n"
          ]
        }
      ]
    },
    {
      "cell_type": "code",
      "source": [
        "queue.dequeue()"
      ],
      "metadata": {
        "colab": {
          "base_uri": "https://localhost:8080/"
        },
        "id": "0Q1Reu0VhPIa",
        "outputId": "78151446-dc94-4e1d-8c83-c07db41bc607"
      },
      "execution_count": 34,
      "outputs": [
        {
          "output_type": "stream",
          "name": "stdout",
          "text": [
            "Underflow\n"
          ]
        }
      ]
    },
    {
      "cell_type": "code",
      "source": [
        "queue.front"
      ],
      "metadata": {
        "id": "QNDsQM1ahQ1l"
      },
      "execution_count": 35,
      "outputs": []
    },
    {
      "cell_type": "code",
      "source": [
        "queue.rear.data"
      ],
      "metadata": {
        "colab": {
          "base_uri": "https://localhost:8080/",
          "height": 165
        },
        "id": "KnGjr4W8hSo5",
        "outputId": "11cb6789-f239-4714-9cce-7990b1d2dcf5"
      },
      "execution_count": 36,
      "outputs": [
        {
          "output_type": "error",
          "ename": "AttributeError",
          "evalue": "ignored",
          "traceback": [
            "\u001b[0;31m---------------------------------------------------------------------------\u001b[0m",
            "\u001b[0;31mAttributeError\u001b[0m                            Traceback (most recent call last)",
            "\u001b[0;32m<ipython-input-36-0f28578c9224>\u001b[0m in \u001b[0;36m<module>\u001b[0;34m()\u001b[0m\n\u001b[0;32m----> 1\u001b[0;31m \u001b[0mqueue\u001b[0m\u001b[0;34m.\u001b[0m\u001b[0mrear\u001b[0m\u001b[0;34m.\u001b[0m\u001b[0mdata\u001b[0m\u001b[0;34m\u001b[0m\u001b[0;34m\u001b[0m\u001b[0m\n\u001b[0m",
            "\u001b[0;31mAttributeError\u001b[0m: 'NoneType' object has no attribute 'data'"
          ]
        }
      ]
    },
    {
      "cell_type": "code",
      "source": [
        "queue.view()"
      ],
      "metadata": {
        "id": "xqD6CYxMiCdy",
        "outputId": "f51dee14-623b-489a-9616-b4b6b69a4b87",
        "colab": {
          "base_uri": "https://localhost:8080/"
        }
      },
      "execution_count": 37,
      "outputs": [
        {
          "output_type": "stream",
          "name": "stdout",
          "text": [
            "Empty Queue\n"
          ]
        }
      ]
    },
    {
      "cell_type": "code",
      "source": [
        "queue.dequeue_alt()"
      ],
      "metadata": {
        "id": "fM80L9YEiWiX",
        "outputId": "42952d26-fab4-447c-f230-ded0020f68fa",
        "colab": {
          "base_uri": "https://localhost:8080/"
        }
      },
      "execution_count": 38,
      "outputs": [
        {
          "output_type": "stream",
          "name": "stdout",
          "text": [
            "Empty Queue\n"
          ]
        }
      ]
    },
    {
      "cell_type": "code",
      "source": [
        "queue.view()"
      ],
      "metadata": {
        "id": "G52i3Qkdjoz7",
        "outputId": "7d70ce82-c290-48d6-e942-a573fa2cff63",
        "colab": {
          "base_uri": "https://localhost:8080/"
        }
      },
      "execution_count": 39,
      "outputs": [
        {
          "output_type": "stream",
          "name": "stdout",
          "text": [
            "Empty Queue\n"
          ]
        }
      ]
    }
  ]
}