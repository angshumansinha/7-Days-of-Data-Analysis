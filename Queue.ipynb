{
  "nbformat": 4,
  "nbformat_minor": 0,
  "metadata": {
    "colab": {
      "name": "Queue.ipynb",
      "provenance": [],
      "authorship_tag": "ABX9TyO4c4a0gSBuu9gOCcM9gVre",
      "include_colab_link": true
    },
    "kernelspec": {
      "name": "python3",
      "display_name": "Python 3"
    },
    "language_info": {
      "name": "python"
    }
  },
  "cells": [
    {
      "cell_type": "markdown",
      "metadata": {
        "id": "view-in-github",
        "colab_type": "text"
      },
      "source": [
        "<a href=\"https://colab.research.google.com/github/angshumansinha/7-Days-of-Data-Analysis/blob/main/Queue.ipynb\" target=\"_parent\"><img src=\"https://colab.research.google.com/assets/colab-badge.svg\" alt=\"Open In Colab\"/></a>"
      ]
    },
    {
      "cell_type": "code",
      "execution_count": 13,
      "metadata": {
        "id": "tt--a2WC0MMd"
      },
      "outputs": [],
      "source": [
        "#Queue implementation using Arrays, Stack and Linked list\n",
        "class Queue_arr:\n",
        "  def __init__(self,size):\n",
        "    self.arr=[None]*size\n",
        "    self.front=-1\n",
        "    self.rear=-1\n",
        "    self.size=size\n",
        "\n",
        "  def enqueue(self,data):\n",
        "    #check for empty queue\n",
        "    if self.front==-1 and self.rear==-1:\n",
        "      self.front+=1\n",
        "      self.rear+=1\n",
        "      self.arr[self.rear]=data\n",
        "    elif self.rear==self.size-1:\n",
        "      print(\"Overflow\")\n",
        "    else:\n",
        "      self.rear+=1\n",
        "      self.arr[self.rear]=data\n",
        "\n",
        "  def dequeue(self):\n",
        "    #check for empty queue\n",
        "    if self.front>self.rear or (self.front==-1 and self.rear==-1):\n",
        "      print(\"Underflow\")\n",
        "    else:\n",
        "      self.front+=1\n",
        "\n",
        "  def view(self):\n",
        "    if self.front>self.rear or (self.front==-1 and self.rear==-1):\n",
        "      print(\"Empty Queue\")\n",
        "    else:\n",
        "      print(\"Front element \",self.arr[self.front])\n",
        "      print(\"Rear element \",self.arr[self.rear])\n",
        "      print(\"Full Queue \",self.arr[self.front:self.rear+1]) \n"
      ]
    },
    {
      "cell_type": "code",
      "source": [
        "queue=Queue_arr(5)"
      ],
      "metadata": {
        "id": "9wjCRqI-3ZpT"
      },
      "execution_count": 14,
      "outputs": []
    },
    {
      "cell_type": "code",
      "source": [
        "queue.view()"
      ],
      "metadata": {
        "colab": {
          "base_uri": "https://localhost:8080/"
        },
        "id": "FbJ-yMif3ivZ",
        "outputId": "75c2bd3e-9aa0-42df-d77e-c9e8e2aeb319"
      },
      "execution_count": 15,
      "outputs": [
        {
          "output_type": "stream",
          "name": "stdout",
          "text": [
            "Empty Queue\n"
          ]
        }
      ]
    },
    {
      "cell_type": "code",
      "source": [
        "queue.dequeue()"
      ],
      "metadata": {
        "colab": {
          "base_uri": "https://localhost:8080/"
        },
        "id": "yp_Lz92P_xgq",
        "outputId": "ca975949-17bd-49c7-dc79-bf00f1f6fba2"
      },
      "execution_count": 16,
      "outputs": [
        {
          "output_type": "stream",
          "name": "stdout",
          "text": [
            "Underflow\n"
          ]
        }
      ]
    },
    {
      "cell_type": "code",
      "source": [
        "queue.enqueue(23)"
      ],
      "metadata": {
        "id": "h9-AqXk1_1xJ"
      },
      "execution_count": 17,
      "outputs": []
    },
    {
      "cell_type": "code",
      "source": [
        "queue.view()"
      ],
      "metadata": {
        "colab": {
          "base_uri": "https://localhost:8080/"
        },
        "id": "sVqqxbCJ_39d",
        "outputId": "1b58d384-13c8-4031-faa9-6c33ba780579"
      },
      "execution_count": 18,
      "outputs": [
        {
          "output_type": "stream",
          "name": "stdout",
          "text": [
            "Front element  23\n",
            "Rear element  23\n",
            "Full Queue  [23]\n"
          ]
        }
      ]
    },
    {
      "cell_type": "code",
      "source": [
        "queue.enqueue(24)"
      ],
      "metadata": {
        "id": "edBZfes7_50D"
      },
      "execution_count": 19,
      "outputs": []
    },
    {
      "cell_type": "code",
      "source": [
        "queue.view()"
      ],
      "metadata": {
        "colab": {
          "base_uri": "https://localhost:8080/"
        },
        "id": "fDOI9Qr2AEOd",
        "outputId": "ee4d50c1-5572-4ef0-df8b-5e6f66aeedea"
      },
      "execution_count": 20,
      "outputs": [
        {
          "output_type": "stream",
          "name": "stdout",
          "text": [
            "Front element  23\n",
            "Rear element  24\n",
            "Full Queue  [23, 24]\n"
          ]
        }
      ]
    },
    {
      "cell_type": "code",
      "source": [
        "queue.dequeue()"
      ],
      "metadata": {
        "id": "NCw2s8kmAFxl"
      },
      "execution_count": 21,
      "outputs": []
    },
    {
      "cell_type": "code",
      "source": [
        "queue.view()"
      ],
      "metadata": {
        "colab": {
          "base_uri": "https://localhost:8080/"
        },
        "id": "I93_HmLAAJyp",
        "outputId": "639ac2f7-f1b7-4ae6-ccbc-c86d4992c023"
      },
      "execution_count": 22,
      "outputs": [
        {
          "output_type": "stream",
          "name": "stdout",
          "text": [
            "Front element  24\n",
            "Rear element  24\n",
            "Full Queue  [24]\n"
          ]
        }
      ]
    },
    {
      "cell_type": "code",
      "source": [
        "queue.enqueue(90)"
      ],
      "metadata": {
        "id": "x6extNhLAMGN"
      },
      "execution_count": 23,
      "outputs": []
    },
    {
      "cell_type": "code",
      "source": [
        "queue.enqueue(87)\n",
        "queue.enqueue(67)\n",
        "queue.enqueue(23)"
      ],
      "metadata": {
        "colab": {
          "base_uri": "https://localhost:8080/"
        },
        "id": "Cbxql1kwAQCy",
        "outputId": "8fb195a6-8eaa-4db7-c3c3-fc353ffba12e"
      },
      "execution_count": 24,
      "outputs": [
        {
          "output_type": "stream",
          "name": "stdout",
          "text": [
            "Overflow\n"
          ]
        }
      ]
    },
    {
      "cell_type": "code",
      "source": [
        "queue.view()"
      ],
      "metadata": {
        "colab": {
          "base_uri": "https://localhost:8080/"
        },
        "id": "kiJenYHXAUak",
        "outputId": "ecb7a61d-bb95-4755-f3eb-bf94a0be5ec8"
      },
      "execution_count": 25,
      "outputs": [
        {
          "output_type": "stream",
          "name": "stdout",
          "text": [
            "Front element  24\n",
            "Rear element  67\n",
            "Full Queue  [24, 90, 87, 67]\n"
          ]
        }
      ]
    },
    {
      "cell_type": "code",
      "source": [
        "queue.dequeue()"
      ],
      "metadata": {
        "id": "vFcGncJeAWUL"
      },
      "execution_count": 26,
      "outputs": []
    },
    {
      "cell_type": "code",
      "source": [
        "queue.dequeue()\n",
        "queue.dequeue()"
      ],
      "metadata": {
        "id": "Fjtf7tl1Ads0"
      },
      "execution_count": 27,
      "outputs": []
    },
    {
      "cell_type": "code",
      "source": [
        "queue.enqueue(98) #drawback of queue"
      ],
      "metadata": {
        "colab": {
          "base_uri": "https://localhost:8080/"
        },
        "id": "NQsg2XOiAhIr",
        "outputId": "d90300a6-2a78-4be9-e422-de1ce46f0c5d"
      },
      "execution_count": 28,
      "outputs": [
        {
          "output_type": "stream",
          "name": "stdout",
          "text": [
            "Overflow\n"
          ]
        }
      ]
    },
    {
      "cell_type": "code",
      "source": [
        "queue.view()"
      ],
      "metadata": {
        "colab": {
          "base_uri": "https://localhost:8080/"
        },
        "id": "ODjYDSO2AjRg",
        "outputId": "841f0776-38eb-40e3-a997-5c1ab82b7dee"
      },
      "execution_count": 29,
      "outputs": [
        {
          "output_type": "stream",
          "name": "stdout",
          "text": [
            "Front element  67\n",
            "Rear element  67\n",
            "Full Queue  [67]\n"
          ]
        }
      ]
    },
    {
      "cell_type": "code",
      "source": [
        ""
      ],
      "metadata": {
        "id": "1fmOL7VTAl2R"
      },
      "execution_count": null,
      "outputs": []
    }
  ]
}