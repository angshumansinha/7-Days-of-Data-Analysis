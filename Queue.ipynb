{
  "nbformat": 4,
  "nbformat_minor": 0,
  "metadata": {
    "colab": {
      "name": "Queue.ipynb",
      "provenance": [],
      "authorship_tag": "ABX9TyOAEpSlDXO0QE2me6MvX9ni",
      "include_colab_link": true
    },
    "kernelspec": {
      "name": "python3",
      "display_name": "Python 3"
    },
    "language_info": {
      "name": "python"
    }
  },
  "cells": [
    {
      "cell_type": "markdown",
      "metadata": {
        "id": "view-in-github",
        "colab_type": "text"
      },
      "source": [
        "<a href=\"https://colab.research.google.com/github/angshumansinha/7-Days-of-Data-Analysis/blob/main/Queue.ipynb\" target=\"_parent\"><img src=\"https://colab.research.google.com/assets/colab-badge.svg\" alt=\"Open In Colab\"/></a>"
      ]
    },
    {
      "cell_type": "code",
      "execution_count": 1,
      "metadata": {
        "id": "tt--a2WC0MMd"
      },
      "outputs": [],
      "source": [
        "#Queue implementation using Arrays, Stack and Linked list\n",
        "class Queue_arr:\n",
        "  def __init__(self,size):\n",
        "    self.arr=[None]*size\n",
        "    self.front=-1\n",
        "    self.rear=-1\n",
        "    self.size=size\n",
        "\n",
        "  def enqueue(self,data):\n",
        "    #check for empty queue\n",
        "    if self.front==-1 and self.rear==-1:\n",
        "      self.front+=1\n",
        "      self.rear+=1\n",
        "      self.arr[self.rear]=data\n",
        "    elif self.rear==self.size-1:\n",
        "      print(\"Overflow\")\n",
        "    else:\n",
        "      self.rear+=1\n",
        "      self.arr[self.rear]=data\n",
        "\n",
        "  def dequeue(self):\n",
        "    #check for empty queue\n",
        "    if self.front>self.rear or (self.front==-1 and self.rear==-1):\n",
        "      print(\"Underflow\")\n",
        "    else:\n",
        "      self.front+=1\n",
        "\n",
        "  #alternative style of dequeue\n",
        "  def dequeue_alt(self):\n",
        "    if self.front==-1 and self.rear==-1:\n",
        "      print(\"Underflow\")\n",
        "    elif self.front==self.rear:\n",
        "      self.front=-1\n",
        "      self.rear=-1\n",
        "    else:\n",
        "      self.front+=1\n",
        "\n",
        "  def view(self):\n",
        "    if self.front>self.rear or (self.front==-1 and self.rear==-1):\n",
        "      print(\"Empty Queue\")\n",
        "    else:\n",
        "      print(\"Front element \",self.arr[self.front])\n",
        "      print(\"Rear element \",self.arr[self.rear])\n",
        "      print(\"Full Queue \",self.arr[self.front:self.rear+1])\n",
        "\n",
        "  def view_alt(self):\n",
        "    if self.front==-1 and self.rear==-1:\n",
        "      print(\"Empty Queue\")\n",
        "    else:\n",
        "      print(\"Front element \",self.arr[self.front])\n",
        "      print(\"Rear element \",self.arr[self.rear])\n",
        "      print(\"Full Queue \",self.arr[self.front:self.rear+1])\n"
      ]
    },
    {
      "cell_type": "code",
      "source": [
        "queue=Queue_arr(5)"
      ],
      "metadata": {
        "id": "9wjCRqI-3ZpT"
      },
      "execution_count": 2,
      "outputs": []
    },
    {
      "cell_type": "code",
      "source": [
        "queue.view()"
      ],
      "metadata": {
        "colab": {
          "base_uri": "https://localhost:8080/"
        },
        "id": "FbJ-yMif3ivZ",
        "outputId": "4ad01026-2096-4f97-9ef3-cdbe16c20736"
      },
      "execution_count": 3,
      "outputs": [
        {
          "output_type": "stream",
          "name": "stdout",
          "text": [
            "Empty Queue\n"
          ]
        }
      ]
    },
    {
      "cell_type": "code",
      "source": [
        "queue.dequeue()"
      ],
      "metadata": {
        "colab": {
          "base_uri": "https://localhost:8080/"
        },
        "id": "yp_Lz92P_xgq",
        "outputId": "0018994b-d998-4bca-ef14-8ab50e3f415d"
      },
      "execution_count": 4,
      "outputs": [
        {
          "output_type": "stream",
          "name": "stdout",
          "text": [
            "Underflow\n"
          ]
        }
      ]
    },
    {
      "cell_type": "code",
      "source": [
        "queue.enqueue(23)"
      ],
      "metadata": {
        "id": "h9-AqXk1_1xJ"
      },
      "execution_count": 5,
      "outputs": []
    },
    {
      "cell_type": "code",
      "source": [
        "queue.view()"
      ],
      "metadata": {
        "colab": {
          "base_uri": "https://localhost:8080/"
        },
        "id": "sVqqxbCJ_39d",
        "outputId": "4f32b53e-cdfc-4787-e1a0-4b0c3d796304"
      },
      "execution_count": 6,
      "outputs": [
        {
          "output_type": "stream",
          "name": "stdout",
          "text": [
            "Front element  23\n",
            "Rear element  23\n",
            "Full Queue  [23]\n"
          ]
        }
      ]
    },
    {
      "cell_type": "code",
      "source": [
        "queue.enqueue(24)"
      ],
      "metadata": {
        "id": "edBZfes7_50D"
      },
      "execution_count": 7,
      "outputs": []
    },
    {
      "cell_type": "code",
      "source": [
        "queue.view()"
      ],
      "metadata": {
        "colab": {
          "base_uri": "https://localhost:8080/"
        },
        "id": "fDOI9Qr2AEOd",
        "outputId": "55f60b0d-5e45-40ab-c60a-e9daccd28f77"
      },
      "execution_count": 8,
      "outputs": [
        {
          "output_type": "stream",
          "name": "stdout",
          "text": [
            "Front element  23\n",
            "Rear element  24\n",
            "Full Queue  [23, 24]\n"
          ]
        }
      ]
    },
    {
      "cell_type": "code",
      "source": [
        "queue.dequeue()"
      ],
      "metadata": {
        "id": "NCw2s8kmAFxl"
      },
      "execution_count": 9,
      "outputs": []
    },
    {
      "cell_type": "code",
      "source": [
        "queue.view()"
      ],
      "metadata": {
        "colab": {
          "base_uri": "https://localhost:8080/"
        },
        "id": "I93_HmLAAJyp",
        "outputId": "40640cda-0e1f-4773-98ce-ebae066358aa"
      },
      "execution_count": 10,
      "outputs": [
        {
          "output_type": "stream",
          "name": "stdout",
          "text": [
            "Front element  24\n",
            "Rear element  24\n",
            "Full Queue  [24]\n"
          ]
        }
      ]
    },
    {
      "cell_type": "code",
      "source": [
        "queue.enqueue(90)"
      ],
      "metadata": {
        "id": "x6extNhLAMGN"
      },
      "execution_count": 11,
      "outputs": []
    },
    {
      "cell_type": "code",
      "source": [
        "queue.enqueue(87)\n",
        "queue.enqueue(67)\n",
        "queue.enqueue(23)"
      ],
      "metadata": {
        "colab": {
          "base_uri": "https://localhost:8080/"
        },
        "id": "Cbxql1kwAQCy",
        "outputId": "6887cc02-a663-4e65-ac15-af984318ea1c"
      },
      "execution_count": 12,
      "outputs": [
        {
          "output_type": "stream",
          "name": "stdout",
          "text": [
            "Overflow\n"
          ]
        }
      ]
    },
    {
      "cell_type": "code",
      "source": [
        "queue.view()"
      ],
      "metadata": {
        "colab": {
          "base_uri": "https://localhost:8080/"
        },
        "id": "kiJenYHXAUak",
        "outputId": "c7509473-cb41-4af9-e9aa-befd5a0911dd"
      },
      "execution_count": 13,
      "outputs": [
        {
          "output_type": "stream",
          "name": "stdout",
          "text": [
            "Front element  24\n",
            "Rear element  67\n",
            "Full Queue  [24, 90, 87, 67]\n"
          ]
        }
      ]
    },
    {
      "cell_type": "code",
      "source": [
        "queue.dequeue()"
      ],
      "metadata": {
        "id": "vFcGncJeAWUL"
      },
      "execution_count": 14,
      "outputs": []
    },
    {
      "cell_type": "code",
      "source": [
        "queue.dequeue()\n",
        "queue.dequeue()"
      ],
      "metadata": {
        "id": "Fjtf7tl1Ads0"
      },
      "execution_count": 15,
      "outputs": []
    },
    {
      "cell_type": "code",
      "source": [
        "queue.enqueue(98) #drawback of queue"
      ],
      "metadata": {
        "colab": {
          "base_uri": "https://localhost:8080/"
        },
        "id": "NQsg2XOiAhIr",
        "outputId": "e5e24d7f-3077-421e-a12b-0e34c3e8018b"
      },
      "execution_count": 16,
      "outputs": [
        {
          "output_type": "stream",
          "name": "stdout",
          "text": [
            "Overflow\n"
          ]
        }
      ]
    },
    {
      "cell_type": "code",
      "source": [
        "queue.view()"
      ],
      "metadata": {
        "colab": {
          "base_uri": "https://localhost:8080/"
        },
        "id": "ODjYDSO2AjRg",
        "outputId": "4f614e1a-2902-4767-bb8f-8ab59c5ccb61"
      },
      "execution_count": 17,
      "outputs": [
        {
          "output_type": "stream",
          "name": "stdout",
          "text": [
            "Front element  67\n",
            "Rear element  67\n",
            "Full Queue  [67]\n"
          ]
        }
      ]
    },
    {
      "cell_type": "code",
      "source": [
        "queue.dequeue_alt()"
      ],
      "metadata": {
        "id": "1fmOL7VTAl2R"
      },
      "execution_count": 18,
      "outputs": []
    },
    {
      "cell_type": "code",
      "source": [
        "queue.view_alt()"
      ],
      "metadata": {
        "id": "Kz76v6mEXWb5",
        "outputId": "9859f8a5-be30-4293-f444-ca9d9bb9bb34",
        "colab": {
          "base_uri": "https://localhost:8080/"
        }
      },
      "execution_count": 19,
      "outputs": [
        {
          "output_type": "stream",
          "name": "stdout",
          "text": [
            "Empty Queue\n"
          ]
        }
      ]
    },
    {
      "cell_type": "code",
      "source": [
        ""
      ],
      "metadata": {
        "id": "AwyGvVhsXYZ9"
      },
      "execution_count": null,
      "outputs": []
    }
  ]
}