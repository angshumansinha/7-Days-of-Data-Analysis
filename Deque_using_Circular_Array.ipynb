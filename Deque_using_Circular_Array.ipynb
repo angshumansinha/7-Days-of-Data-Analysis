{
  "nbformat": 4,
  "nbformat_minor": 0,
  "metadata": {
    "colab": {
      "name": "Deque using Circular Array.ipynb",
      "provenance": [],
      "authorship_tag": "ABX9TyMlWs0lSOcCLtQD3T6Ijvr+",
      "include_colab_link": true
    },
    "kernelspec": {
      "name": "python3",
      "display_name": "Python 3"
    },
    "language_info": {
      "name": "python"
    }
  },
  "cells": [
    {
      "cell_type": "markdown",
      "metadata": {
        "id": "view-in-github",
        "colab_type": "text"
      },
      "source": [
        "<a href=\"https://colab.research.google.com/github/angshumansinha/7-Days-of-Data-Analysis/blob/main/Deque_using_Circular_Array.ipynb\" target=\"_parent\"><img src=\"https://colab.research.google.com/assets/colab-badge.svg\" alt=\"Open In Colab\"/></a>"
      ]
    },
    {
      "cell_type": "code",
      "execution_count": 3,
      "metadata": {
        "id": "x-ioqKOd6ff1"
      },
      "outputs": [],
      "source": [
        "#implementing deque using circular arraY\n",
        "\n",
        "class Deque:\n",
        "  def __init__(self,size):\n",
        "    self.queue=[None]*size\n",
        "    self.front=-1\n",
        "    self.rear=-1\n",
        "    self.size=size\n",
        "\n",
        "  def enquefront(self,data):\n",
        "    #full condition\n",
        "    if (self.front==self.rear+1) or (self.front==0 and self.rear==self.size-1):\n",
        "      print(\"Overflow\")\n",
        "    #empty\n",
        "    elif self.front==-1 and self.rear==-1:\n",
        "      self.front=0\n",
        "      self.rear=0\n",
        "      self.queue[self.front]=data\n",
        "\n",
        "    #imp  \n",
        "    elif self.front==0:\n",
        "      self.front=self.size-1\n",
        "      self.queue[self.front]=data\n",
        "    \n",
        "    else:\n",
        "      self.front-=1\n",
        "    \n",
        "  def enquerear(self,data):\n",
        "    #full condition\n",
        "    if (self.front==self.rear+1) or (self.front==0 and self.rear==self.size-1):\n",
        "      print(\"Overflow\")\n",
        "\n",
        "    #empty\n",
        "    elif self.front==-1 and self.rear==-1:\n",
        "      self.front=0\n",
        "      self.rear=0\n",
        "      self.queue[self.rear]=data \n",
        "    \n",
        "    elif self.rear==self.size-1:\n",
        "      self.rear=0\n",
        "      self.queue[self.rear]=data\n",
        "    \n",
        "    else:\n",
        "      self.rear+=1\n",
        "      self.queue[self.rear]=data\n",
        "  \n",
        "  def dequefront(self):\n",
        "    if self.front==-1 and self.rear==-1:\n",
        "      print(\"Underflow\")\n",
        "\n",
        "    elif self.front==self.rear:\n",
        "      print(\"Popped element \",self.queue[self.front])\n",
        "      self.front=-1\n",
        "      self.rear=-1\n",
        "    \n",
        "    elif self.front==self.size-1:\n",
        "      print(\"Popped element \",self.queue[self.front])\n",
        "      self.front=0\n",
        "\n",
        "    else:\n",
        "      print(\"Popped element \",self.queue[self.front])\n",
        "      self.front+=1\n",
        "    \n",
        "  def dequerear(self):\n",
        "    if self.front==-1 and self.rear==-1:\n",
        "      print(\"Underflow\")\n",
        "\n",
        "    elif self.front==self.rear:\n",
        "      print(\"Popped element \",self.queue[self.rear])\n",
        "      self.front=-1\n",
        "      self.rear=-1\n",
        "    \n",
        "    elif self.rear==0:\n",
        "      print(\"Popped element \",self.queue[self.rear])\n",
        "      self.rear=self.size-1\n",
        "\n",
        "    else:\n",
        "      print(\"Popped element \",self.queue[self.front])\n",
        "      self.front-=1\n",
        "  \n",
        "  def view(self):\n",
        "    i=self.front\n",
        "    while i!=self.rear:\n",
        "      print(self.queue[i],end=\"-->\")\n",
        "      i=(i+1)%self.size\n",
        "    print(self.queue[i])\n",
        "    print()\n",
        "    print(\"Front \",self.queue[self.front])\n",
        "    print(\"Rear \",self.queue[self.rear])\n",
        "\n"
      ]
    },
    {
      "cell_type": "code",
      "source": [
        "deque=Deque(6)"
      ],
      "metadata": {
        "id": "2p093eBVWDfY"
      },
      "execution_count": 4,
      "outputs": []
    },
    {
      "cell_type": "code",
      "source": [
        "deque.enquefront(2)\n",
        "deque.enquefront(5)"
      ],
      "metadata": {
        "id": "CtI-ZB2mWIot"
      },
      "execution_count": 5,
      "outputs": []
    },
    {
      "cell_type": "code",
      "source": [
        "deque.view()"
      ],
      "metadata": {
        "colab": {
          "base_uri": "https://localhost:8080/"
        },
        "id": "hVtZsFYzWUWR",
        "outputId": "29599137-2a2d-4a5e-801d-55fcb8df79d3"
      },
      "execution_count": 6,
      "outputs": [
        {
          "output_type": "stream",
          "name": "stdout",
          "text": [
            "5-->2\n",
            "\n",
            "Front  5\n",
            "Rear  2\n"
          ]
        }
      ]
    },
    {
      "cell_type": "code",
      "source": [
        "deque.enquerear(-1)\n",
        "deque.enquerear(0)"
      ],
      "metadata": {
        "id": "x0StRQf8WWmp"
      },
      "execution_count": 7,
      "outputs": []
    },
    {
      "cell_type": "code",
      "source": [
        "deque.enquefront(7)\n",
        "deque.enquefront(4)"
      ],
      "metadata": {
        "colab": {
          "base_uri": "https://localhost:8080/"
        },
        "id": "9WCPws8VWlkT",
        "outputId": "c1ee603b-9e4f-4f7d-af4f-d822b6f90a41"
      },
      "execution_count": 10,
      "outputs": [
        {
          "output_type": "stream",
          "name": "stdout",
          "text": [
            "Overflow\n",
            "Overflow\n"
          ]
        }
      ]
    },
    {
      "cell_type": "code",
      "source": [
        "deque.view()"
      ],
      "metadata": {
        "colab": {
          "base_uri": "https://localhost:8080/"
        },
        "id": "PzZpXJzrWquC",
        "outputId": "562ead30-af60-4a81-d6df-0d23c3fa1085"
      },
      "execution_count": 11,
      "outputs": [
        {
          "output_type": "stream",
          "name": "stdout",
          "text": [
            "None-->None-->5-->2-->-1-->0\n",
            "\n",
            "Front  None\n",
            "Rear  0\n"
          ]
        }
      ]
    },
    {
      "cell_type": "code",
      "source": [
        "deque.queue"
      ],
      "metadata": {
        "colab": {
          "base_uri": "https://localhost:8080/"
        },
        "id": "x1atu7gAWsA8",
        "outputId": "d2e80a35-ac1b-48e8-950b-d8a400722d1d"
      },
      "execution_count": 12,
      "outputs": [
        {
          "output_type": "execute_result",
          "data": {
            "text/plain": [
              "[2, -1, 0, None, None, 5]"
            ]
          },
          "metadata": {},
          "execution_count": 12
        }
      ]
    },
    {
      "cell_type": "code",
      "source": [
        ""
      ],
      "metadata": {
        "id": "EXmG_rpkW1uL"
      },
      "execution_count": null,
      "outputs": []
    }
  ]
}