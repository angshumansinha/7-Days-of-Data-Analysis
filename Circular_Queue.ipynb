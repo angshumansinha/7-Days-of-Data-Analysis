{
  "nbformat": 4,
  "nbformat_minor": 0,
  "metadata": {
    "colab": {
      "name": "Circular Queue.ipynb",
      "provenance": [],
      "authorship_tag": "ABX9TyNHaJUpqWf7cLDg8s6/Qp3Q",
      "include_colab_link": true
    },
    "kernelspec": {
      "name": "python3",
      "display_name": "Python 3"
    },
    "language_info": {
      "name": "python"
    }
  },
  "cells": [
    {
      "cell_type": "markdown",
      "metadata": {
        "id": "view-in-github",
        "colab_type": "text"
      },
      "source": [
        "<a href=\"https://colab.research.google.com/github/angshumansinha/7-Days-of-Data-Analysis/blob/main/Circular_Queue.ipynb\" target=\"_parent\"><img src=\"https://colab.research.google.com/assets/colab-badge.svg\" alt=\"Open In Colab\"/></a>"
      ]
    },
    {
      "cell_type": "code",
      "execution_count": 1,
      "metadata": {
        "id": "cIlhCLTfu40o"
      },
      "outputs": [],
      "source": [
        "#implementation of circular queue\n",
        "class CircularQueue:\n",
        "  def __init__(self,size):\n",
        "    self.queue=[None]*size\n",
        "    self.front=-1\n",
        "    self.rear=-1\n",
        "    self.size=size\n",
        "\n",
        "  def enqueue(self,data):\n",
        "    if self.front==-1 and self.rear==-1:\n",
        "      self.front=0\n",
        "      self.rear=0\n",
        "      self.queue[self.rear]=data\n",
        "    \n",
        "    elif ((self.rear+1)%self.size)==self.front:\n",
        "      print(\"Queue is full\")\n",
        "    \n",
        "    else:\n",
        "      self.rear=(self.rear+1)%self.size\n",
        "      self.queue[self.rear]=data\n",
        "\n",
        "  def dequeue(self):\n",
        "    if self.front==-1 and self.rear==-1:\n",
        "      print(\"Empty Queue\")\n",
        "    elif self.front==self.rear:\n",
        "      self.queue[self.front]=None\n",
        "      self.front=-1\n",
        "      self.rear=-1\n",
        "    else:\n",
        "      print(\"Popped Element \",self.queue[self.front])\n",
        "      self.queue[self.front]=None\n",
        "      self.front=(self.front+1)%self.size\n",
        "  \n",
        "  def view(self):\n",
        "    if self.front==-1 and self.rear==-1:\n",
        "      print(\"Empty Queue\")\n",
        "    else:\n",
        "      #printing a circular queue\n",
        "      i=self.front\n",
        "      while i!=self.rear:\n",
        "        i=(i+1)%self.size\n",
        "        print(self.queue[i])\n",
        "      print(self.queue[i])\n",
        "\n",
        "\n"
      ]
    },
    {
      "cell_type": "code",
      "source": [
        "cqueue=CircularQueue(5)"
      ],
      "metadata": {
        "id": "_hsHNLIvwpcY"
      },
      "execution_count": 2,
      "outputs": []
    },
    {
      "cell_type": "code",
      "source": [
        "cqueue.enqueue(1)"
      ],
      "metadata": {
        "id": "-gpCkn_Uwu86"
      },
      "execution_count": 3,
      "outputs": []
    },
    {
      "cell_type": "code",
      "source": [
        "cqueue.enqueue(2)\n",
        "cqueue.enqueue(5)\n",
        "cqueue.enqueue(6)\n",
        "cqueue.enqueue(7)\n",
        "cqueue.enqueue(8)\n",
        "cqueue.enqueue(9)"
      ],
      "metadata": {
        "colab": {
          "base_uri": "https://localhost:8080/"
        },
        "id": "-E0-CCg_wzOU",
        "outputId": "ff3d2035-ee82-4f63-bcf7-3f89eb529e6e"
      },
      "execution_count": 4,
      "outputs": [
        {
          "output_type": "stream",
          "name": "stdout",
          "text": [
            "Queue is full\n",
            "Queue is full\n"
          ]
        }
      ]
    },
    {
      "cell_type": "code",
      "source": [
        "cqueue.view()"
      ],
      "metadata": {
        "colab": {
          "base_uri": "https://localhost:8080/"
        },
        "id": "ImnN1dmMw9Q5",
        "outputId": "7c8199b3-78a7-494d-87f6-dc2017b65dd8"
      },
      "execution_count": 5,
      "outputs": [
        {
          "output_type": "stream",
          "name": "stdout",
          "text": [
            "2\n",
            "5\n",
            "6\n",
            "7\n",
            "7\n"
          ]
        }
      ]
    },
    {
      "cell_type": "code",
      "source": [
        "cqueue.dequeue()"
      ],
      "metadata": {
        "colab": {
          "base_uri": "https://localhost:8080/"
        },
        "id": "QLWqZ2a7xAuE",
        "outputId": "5507a1d6-e009-4345-e4b2-1fa6dbf28c00"
      },
      "execution_count": 6,
      "outputs": [
        {
          "output_type": "stream",
          "name": "stdout",
          "text": [
            "Popped Element  1\n"
          ]
        }
      ]
    },
    {
      "cell_type": "code",
      "source": [
        "cqueue.dequeue()"
      ],
      "metadata": {
        "colab": {
          "base_uri": "https://localhost:8080/"
        },
        "id": "VqNAgU_bxTOr",
        "outputId": "99be5539-22f3-4911-c6fb-bb1a6bd78228"
      },
      "execution_count": 7,
      "outputs": [
        {
          "output_type": "stream",
          "name": "stdout",
          "text": [
            "Popped Element  2\n"
          ]
        }
      ]
    },
    {
      "cell_type": "code",
      "source": [
        "cqueue.queue"
      ],
      "metadata": {
        "colab": {
          "base_uri": "https://localhost:8080/"
        },
        "id": "EOZW3VCPADh_",
        "outputId": "fffbf451-6955-4a05-e774-215215ae8516"
      },
      "execution_count": 8,
      "outputs": [
        {
          "output_type": "execute_result",
          "data": {
            "text/plain": [
              "[None, None, 5, 6, 7]"
            ]
          },
          "metadata": {},
          "execution_count": 8
        }
      ]
    },
    {
      "cell_type": "code",
      "source": [
        "cqueue.enqueue(15)"
      ],
      "metadata": {
        "id": "O8lvyoBZxVeW"
      },
      "execution_count": 9,
      "outputs": []
    },
    {
      "cell_type": "code",
      "source": [
        "cqueue.enqueue(16)"
      ],
      "metadata": {
        "id": "cRVeaEaKxYcB"
      },
      "execution_count": 10,
      "outputs": []
    },
    {
      "cell_type": "code",
      "source": [
        "cqueue.queue"
      ],
      "metadata": {
        "colab": {
          "base_uri": "https://localhost:8080/"
        },
        "id": "gQWcaMirAf4Z",
        "outputId": "bc10dfa9-74a7-4073-fe9c-d3ce6f38758e"
      },
      "execution_count": 11,
      "outputs": [
        {
          "output_type": "execute_result",
          "data": {
            "text/plain": [
              "[15, 16, 5, 6, 7]"
            ]
          },
          "metadata": {},
          "execution_count": 11
        }
      ]
    },
    {
      "cell_type": "code",
      "source": [
        "cqueue.view()"
      ],
      "metadata": {
        "colab": {
          "base_uri": "https://localhost:8080/"
        },
        "id": "Ef_k9a16xaWn",
        "outputId": "b56b6ea3-3145-41b6-da2b-9c2a2312fe19"
      },
      "execution_count": 12,
      "outputs": [
        {
          "output_type": "stream",
          "name": "stdout",
          "text": [
            "6\n",
            "7\n",
            "15\n",
            "16\n",
            "16\n"
          ]
        }
      ]
    },
    {
      "cell_type": "code",
      "source": [
        "cqueue.queue"
      ],
      "metadata": {
        "colab": {
          "base_uri": "https://localhost:8080/"
        },
        "id": "odkAti5__6d4",
        "outputId": "816c150c-ea9f-4285-e642-cea0304f3fa8"
      },
      "execution_count": 13,
      "outputs": [
        {
          "output_type": "execute_result",
          "data": {
            "text/plain": [
              "[15, 16, 5, 6, 7]"
            ]
          },
          "metadata": {},
          "execution_count": 13
        }
      ]
    },
    {
      "cell_type": "code",
      "source": [
        "cqueue.dequeue()"
      ],
      "metadata": {
        "colab": {
          "base_uri": "https://localhost:8080/"
        },
        "id": "_nZXzO9IymvS",
        "outputId": "894a5596-372f-4d26-c075-c3ba55ae7439"
      },
      "execution_count": 14,
      "outputs": [
        {
          "output_type": "stream",
          "name": "stdout",
          "text": [
            "Popped Element  5\n"
          ]
        }
      ]
    },
    {
      "cell_type": "code",
      "source": [
        "cqueue.dequeue()"
      ],
      "metadata": {
        "colab": {
          "base_uri": "https://localhost:8080/"
        },
        "id": "3yN9entZyosV",
        "outputId": "ba7dd7cd-936d-474b-b2bb-1fa5829cd2ce"
      },
      "execution_count": 15,
      "outputs": [
        {
          "output_type": "stream",
          "name": "stdout",
          "text": [
            "Popped Element  6\n"
          ]
        }
      ]
    },
    {
      "cell_type": "code",
      "source": [
        "cqueue.dequeue()"
      ],
      "metadata": {
        "colab": {
          "base_uri": "https://localhost:8080/"
        },
        "id": "uAw9q-3Sz1xx",
        "outputId": "2e9ed4c9-8577-45f7-89bf-5fb60aa48c67"
      },
      "execution_count": 16,
      "outputs": [
        {
          "output_type": "stream",
          "name": "stdout",
          "text": [
            "Popped Element  7\n"
          ]
        }
      ]
    },
    {
      "cell_type": "code",
      "source": [
        "cqueue.view()"
      ],
      "metadata": {
        "colab": {
          "base_uri": "https://localhost:8080/"
        },
        "id": "cSJHkUzF_Gi7",
        "outputId": "f16a5d6f-1ebc-4904-ecd6-9797d42647f4"
      },
      "execution_count": 17,
      "outputs": [
        {
          "output_type": "stream",
          "name": "stdout",
          "text": [
            "16\n",
            "16\n"
          ]
        }
      ]
    },
    {
      "cell_type": "code",
      "source": [
        "cqueue.dequeue()"
      ],
      "metadata": {
        "colab": {
          "base_uri": "https://localhost:8080/"
        },
        "id": "wOe7Sqb_z3Wk",
        "outputId": "24f1af7e-6392-4690-90cb-aebb02a02b94"
      },
      "execution_count": 18,
      "outputs": [
        {
          "output_type": "stream",
          "name": "stdout",
          "text": [
            "Popped Element  15\n"
          ]
        }
      ]
    },
    {
      "cell_type": "code",
      "source": [
        "cqueue.dequeue()"
      ],
      "metadata": {
        "id": "xRSMLcENz5d-"
      },
      "execution_count": 19,
      "outputs": []
    },
    {
      "cell_type": "code",
      "source": [
        "cqueue.view()"
      ],
      "metadata": {
        "colab": {
          "base_uri": "https://localhost:8080/"
        },
        "id": "NJxru4Rmz8Dv",
        "outputId": "30a39539-1dae-4ab3-8403-733cb902c596"
      },
      "execution_count": 20,
      "outputs": [
        {
          "output_type": "stream",
          "name": "stdout",
          "text": [
            "Empty Queue\n"
          ]
        }
      ]
    },
    {
      "cell_type": "code",
      "source": [
        "list1=cqueue.queue.copy()"
      ],
      "metadata": {
        "id": "S3xI85Hy4UAy"
      },
      "execution_count": 21,
      "outputs": []
    },
    {
      "cell_type": "code",
      "source": [
        "list1"
      ],
      "metadata": {
        "colab": {
          "base_uri": "https://localhost:8080/"
        },
        "id": "Ux4m41NJ7mUo",
        "outputId": "7cf9c8ab-7cc4-4491-e8ac-d3b3bdbbdfbc"
      },
      "execution_count": 22,
      "outputs": [
        {
          "output_type": "execute_result",
          "data": {
            "text/plain": [
              "[None, None, None, None, None]"
            ]
          },
          "metadata": {},
          "execution_count": 22
        }
      ]
    },
    {
      "cell_type": "code",
      "source": [
        "list1.pop()"
      ],
      "metadata": {
        "id": "9Yhs6PLN8Sf-"
      },
      "execution_count": 23,
      "outputs": []
    },
    {
      "cell_type": "code",
      "source": [
        "list1"
      ],
      "metadata": {
        "colab": {
          "base_uri": "https://localhost:8080/"
        },
        "id": "FgC3K2H48Uel",
        "outputId": "72dc763a-234e-4508-da9c-165dea79a234"
      },
      "execution_count": 24,
      "outputs": [
        {
          "output_type": "execute_result",
          "data": {
            "text/plain": [
              "[None, None, None, None]"
            ]
          },
          "metadata": {},
          "execution_count": 24
        }
      ]
    }
  ]
}