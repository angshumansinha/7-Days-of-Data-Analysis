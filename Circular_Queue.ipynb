{
  "nbformat": 4,
  "nbformat_minor": 0,
  "metadata": {
    "colab": {
      "name": "Circular Queue.ipynb",
      "provenance": [],
      "authorship_tag": "ABX9TyM0V5vZLb7kxz1wKJd8qO/M",
      "include_colab_link": true
    },
    "kernelspec": {
      "name": "python3",
      "display_name": "Python 3"
    },
    "language_info": {
      "name": "python"
    }
  },
  "cells": [
    {
      "cell_type": "markdown",
      "metadata": {
        "id": "view-in-github",
        "colab_type": "text"
      },
      "source": [
        "<a href=\"https://colab.research.google.com/github/angshumansinha/7-Days-of-Data-Analysis/blob/main/Circular_Queue.ipynb\" target=\"_parent\"><img src=\"https://colab.research.google.com/assets/colab-badge.svg\" alt=\"Open In Colab\"/></a>"
      ]
    },
    {
      "cell_type": "code",
      "execution_count": 1,
      "metadata": {
        "id": "cIlhCLTfu40o"
      },
      "outputs": [],
      "source": [
        "#implementation of circular queue\n",
        "class CircularQueue:\n",
        "  def __init__(self,size):\n",
        "    self.queue=[None]*size\n",
        "    self.front=-1\n",
        "    self.rear=-1\n",
        "    self.size=size\n",
        "\n",
        "  def enqueue(self,data):\n",
        "    if self.front==-1 and self.rear==-1:\n",
        "      self.front=0\n",
        "      self.rear=0\n",
        "      self.queue[self.rear]=data\n",
        "    \n",
        "    elif ((self.rear+1)%self.size)==self.front:\n",
        "      print(\"Queue is full\")\n",
        "    \n",
        "    else:\n",
        "      self.rear=(self.rear+1)%self.size\n",
        "      self.queue[self.rear]=data\n",
        "\n",
        "  def dequeue(self):\n",
        "    if self.front==-1 and self.rear==-1:\n",
        "      print(\"Empty Queue\")\n",
        "    elif self.front==self.rear:\n",
        "      self.queue[self.front]=None\n",
        "      self.front=-1\n",
        "      self.rear=-1\n",
        "    else:\n",
        "      print(\"Popped Element \",self.queue[self.front])\n",
        "      self.queue[self.front]=None\n",
        "      self.front=(self.front+1)%self.size\n",
        "  \n",
        "  def view(self):\n",
        "    if self.front==-1 and self.rear==-1:\n",
        "      print(\"Empty Queue\")\n",
        "    else:\n",
        "      #printing a circular queue\n",
        "      i=self.front\n",
        "      while i!=self.rear:\n",
        "        print(self.queue[i])\n",
        "        i=(i+1)%self.size\n",
        "      print(self.queue[i])\n",
        "\n",
        "\n"
      ]
    },
    {
      "cell_type": "code",
      "source": [
        "cqueue=CircularQueue(5)"
      ],
      "metadata": {
        "id": "_hsHNLIvwpcY"
      },
      "execution_count": 2,
      "outputs": []
    },
    {
      "cell_type": "code",
      "source": [
        "cqueue.enqueue(1)"
      ],
      "metadata": {
        "id": "-gpCkn_Uwu86"
      },
      "execution_count": 3,
      "outputs": []
    },
    {
      "cell_type": "code",
      "source": [
        "cqueue.enqueue(2)\n",
        "cqueue.enqueue(5)\n",
        "cqueue.enqueue(6)\n",
        "cqueue.enqueue(7)\n",
        "cqueue.enqueue(8)\n",
        "cqueue.enqueue(9)"
      ],
      "metadata": {
        "colab": {
          "base_uri": "https://localhost:8080/"
        },
        "id": "-E0-CCg_wzOU",
        "outputId": "0075fe63-0d26-4e73-cbb6-46f19d941a7a"
      },
      "execution_count": 4,
      "outputs": [
        {
          "output_type": "stream",
          "name": "stdout",
          "text": [
            "Queue is full\n",
            "Queue is full\n"
          ]
        }
      ]
    },
    {
      "cell_type": "code",
      "source": [
        "cqueue.view()"
      ],
      "metadata": {
        "colab": {
          "base_uri": "https://localhost:8080/"
        },
        "id": "ImnN1dmMw9Q5",
        "outputId": "1839c5e7-26d3-4a07-fbeb-e3c3df44f3c2"
      },
      "execution_count": 5,
      "outputs": [
        {
          "output_type": "stream",
          "name": "stdout",
          "text": [
            "1\n",
            "2\n",
            "5\n",
            "6\n",
            "7\n"
          ]
        }
      ]
    },
    {
      "cell_type": "code",
      "source": [
        "cqueue.dequeue()"
      ],
      "metadata": {
        "colab": {
          "base_uri": "https://localhost:8080/"
        },
        "id": "QLWqZ2a7xAuE",
        "outputId": "b1425302-2659-4dec-bbf2-1eeff77b1b9f"
      },
      "execution_count": 6,
      "outputs": [
        {
          "output_type": "stream",
          "name": "stdout",
          "text": [
            "Popped Element  1\n"
          ]
        }
      ]
    },
    {
      "cell_type": "code",
      "source": [
        "cqueue.dequeue()"
      ],
      "metadata": {
        "colab": {
          "base_uri": "https://localhost:8080/"
        },
        "id": "VqNAgU_bxTOr",
        "outputId": "82c22af5-f982-4f8d-9416-06997c0287ff"
      },
      "execution_count": 7,
      "outputs": [
        {
          "output_type": "stream",
          "name": "stdout",
          "text": [
            "Popped Element  2\n"
          ]
        }
      ]
    },
    {
      "cell_type": "code",
      "source": [
        "cqueue.queue"
      ],
      "metadata": {
        "colab": {
          "base_uri": "https://localhost:8080/"
        },
        "id": "EOZW3VCPADh_",
        "outputId": "b9994adb-54b3-472a-8090-050b51ec224b"
      },
      "execution_count": 8,
      "outputs": [
        {
          "output_type": "execute_result",
          "data": {
            "text/plain": [
              "[None, None, 5, 6, 7]"
            ]
          },
          "metadata": {},
          "execution_count": 8
        }
      ]
    },
    {
      "cell_type": "code",
      "source": [
        "cqueue.enqueue(15)"
      ],
      "metadata": {
        "id": "O8lvyoBZxVeW"
      },
      "execution_count": 9,
      "outputs": []
    },
    {
      "cell_type": "code",
      "source": [
        "cqueue.enqueue(16)"
      ],
      "metadata": {
        "id": "cRVeaEaKxYcB"
      },
      "execution_count": 10,
      "outputs": []
    },
    {
      "cell_type": "code",
      "source": [
        "cqueue.queue"
      ],
      "metadata": {
        "colab": {
          "base_uri": "https://localhost:8080/"
        },
        "id": "gQWcaMirAf4Z",
        "outputId": "0bb0e81c-c434-43a8-b64a-f6e9335de1d2"
      },
      "execution_count": 11,
      "outputs": [
        {
          "output_type": "execute_result",
          "data": {
            "text/plain": [
              "[15, 16, 5, 6, 7]"
            ]
          },
          "metadata": {},
          "execution_count": 11
        }
      ]
    },
    {
      "cell_type": "code",
      "source": [
        "cqueue.view()"
      ],
      "metadata": {
        "colab": {
          "base_uri": "https://localhost:8080/"
        },
        "id": "Ef_k9a16xaWn",
        "outputId": "235a3c4f-7086-4450-ea82-e23e7f19d727"
      },
      "execution_count": 12,
      "outputs": [
        {
          "output_type": "stream",
          "name": "stdout",
          "text": [
            "5\n",
            "6\n",
            "7\n",
            "15\n",
            "16\n"
          ]
        }
      ]
    },
    {
      "cell_type": "code",
      "source": [
        "cqueue.queue"
      ],
      "metadata": {
        "colab": {
          "base_uri": "https://localhost:8080/"
        },
        "id": "odkAti5__6d4",
        "outputId": "0b2e4b75-bfda-4d0b-a5bf-652939e86c45"
      },
      "execution_count": 13,
      "outputs": [
        {
          "output_type": "execute_result",
          "data": {
            "text/plain": [
              "[15, 16, 5, 6, 7]"
            ]
          },
          "metadata": {},
          "execution_count": 13
        }
      ]
    },
    {
      "cell_type": "code",
      "source": [
        "cqueue.dequeue()"
      ],
      "metadata": {
        "colab": {
          "base_uri": "https://localhost:8080/"
        },
        "id": "_nZXzO9IymvS",
        "outputId": "88cc0593-a1fc-4f79-f1b1-ac700d4353e7"
      },
      "execution_count": 14,
      "outputs": [
        {
          "output_type": "stream",
          "name": "stdout",
          "text": [
            "Popped Element  5\n"
          ]
        }
      ]
    },
    {
      "cell_type": "code",
      "source": [
        "cqueue.dequeue()"
      ],
      "metadata": {
        "colab": {
          "base_uri": "https://localhost:8080/"
        },
        "id": "3yN9entZyosV",
        "outputId": "a57cbfc7-75d4-4bd6-98e3-df4db86b8a56"
      },
      "execution_count": 15,
      "outputs": [
        {
          "output_type": "stream",
          "name": "stdout",
          "text": [
            "Popped Element  6\n"
          ]
        }
      ]
    },
    {
      "cell_type": "code",
      "source": [
        "cqueue.dequeue()"
      ],
      "metadata": {
        "colab": {
          "base_uri": "https://localhost:8080/"
        },
        "id": "uAw9q-3Sz1xx",
        "outputId": "afe816fb-941d-43de-b8b7-04dbe0e428d4"
      },
      "execution_count": 16,
      "outputs": [
        {
          "output_type": "stream",
          "name": "stdout",
          "text": [
            "Popped Element  7\n"
          ]
        }
      ]
    },
    {
      "cell_type": "code",
      "source": [
        "cqueue.view()"
      ],
      "metadata": {
        "colab": {
          "base_uri": "https://localhost:8080/"
        },
        "id": "cSJHkUzF_Gi7",
        "outputId": "3dcd057a-187f-4629-bbac-9a0806855014"
      },
      "execution_count": 17,
      "outputs": [
        {
          "output_type": "stream",
          "name": "stdout",
          "text": [
            "15\n",
            "16\n"
          ]
        }
      ]
    },
    {
      "cell_type": "code",
      "source": [
        "cqueue.dequeue()"
      ],
      "metadata": {
        "colab": {
          "base_uri": "https://localhost:8080/"
        },
        "id": "wOe7Sqb_z3Wk",
        "outputId": "f09e6d7a-c548-46f1-97dc-e4a7e8cf5807"
      },
      "execution_count": 18,
      "outputs": [
        {
          "output_type": "stream",
          "name": "stdout",
          "text": [
            "Popped Element  15\n"
          ]
        }
      ]
    },
    {
      "cell_type": "code",
      "source": [
        "cqueue.dequeue()"
      ],
      "metadata": {
        "id": "xRSMLcENz5d-"
      },
      "execution_count": 19,
      "outputs": []
    },
    {
      "cell_type": "code",
      "source": [
        "cqueue.view()"
      ],
      "metadata": {
        "colab": {
          "base_uri": "https://localhost:8080/"
        },
        "id": "NJxru4Rmz8Dv",
        "outputId": "710f9c47-5d21-4a81-880d-26f3350bab05"
      },
      "execution_count": 20,
      "outputs": [
        {
          "output_type": "stream",
          "name": "stdout",
          "text": [
            "Empty Queue\n"
          ]
        }
      ]
    },
    {
      "cell_type": "code",
      "source": [
        "list1=cqueue.queue.copy()"
      ],
      "metadata": {
        "id": "S3xI85Hy4UAy"
      },
      "execution_count": 21,
      "outputs": []
    },
    {
      "cell_type": "code",
      "source": [
        "list1"
      ],
      "metadata": {
        "colab": {
          "base_uri": "https://localhost:8080/"
        },
        "id": "Ux4m41NJ7mUo",
        "outputId": "7beb5bdf-97f4-4529-8bc2-b5f52ab5deca"
      },
      "execution_count": 22,
      "outputs": [
        {
          "output_type": "execute_result",
          "data": {
            "text/plain": [
              "[None, None, None, None, None]"
            ]
          },
          "metadata": {},
          "execution_count": 22
        }
      ]
    },
    {
      "cell_type": "code",
      "source": [
        "list1.pop()"
      ],
      "metadata": {
        "id": "9Yhs6PLN8Sf-"
      },
      "execution_count": 23,
      "outputs": []
    },
    {
      "cell_type": "code",
      "source": [
        "list1"
      ],
      "metadata": {
        "colab": {
          "base_uri": "https://localhost:8080/"
        },
        "id": "FgC3K2H48Uel",
        "outputId": "613f50b4-b863-4ded-95ff-efe5932490aa"
      },
      "execution_count": 24,
      "outputs": [
        {
          "output_type": "execute_result",
          "data": {
            "text/plain": [
              "[None, None, None, None]"
            ]
          },
          "metadata": {},
          "execution_count": 24
        }
      ]
    }
  ]
}