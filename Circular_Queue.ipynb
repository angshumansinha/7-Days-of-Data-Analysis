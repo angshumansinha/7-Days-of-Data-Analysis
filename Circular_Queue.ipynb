{
  "nbformat": 4,
  "nbformat_minor": 0,
  "metadata": {
    "colab": {
      "name": "Circular Queue.ipynb",
      "provenance": [],
      "collapsed_sections": [],
      "authorship_tag": "ABX9TyP/fEd/GdCidI99QCprsMGg",
      "include_colab_link": true
    },
    "kernelspec": {
      "name": "python3",
      "display_name": "Python 3"
    },
    "language_info": {
      "name": "python"
    }
  },
  "cells": [
    {
      "cell_type": "markdown",
      "metadata": {
        "id": "view-in-github",
        "colab_type": "text"
      },
      "source": [
        "<a href=\"https://colab.research.google.com/github/angshumansinha/7-Days-of-Data-Analysis/blob/main/Circular_Queue.ipynb\" target=\"_parent\"><img src=\"https://colab.research.google.com/assets/colab-badge.svg\" alt=\"Open In Colab\"/></a>"
      ]
    },
    {
      "cell_type": "code",
      "source": [
        "#circular queue in linked list form is similar to a circular linked list"
      ],
      "metadata": {
        "id": "mbf9oS2gIivz"
      },
      "execution_count": 34,
      "outputs": []
    },
    {
      "cell_type": "code",
      "execution_count": 35,
      "metadata": {
        "id": "cIlhCLTfu40o"
      },
      "outputs": [],
      "source": [
        "#implementation of circular queue using arrays and linked list\n",
        "class CircularQueue:\n",
        "  def __init__(self,size):\n",
        "    self.queue=[None]*size\n",
        "    self.front=-1\n",
        "    self.rear=-1\n",
        "    self.size=size\n",
        "\n",
        "  def enqueue(self,data):\n",
        "    if self.front==-1 and self.rear==-1:\n",
        "      self.front=0\n",
        "      self.rear=0\n",
        "      self.queue[self.rear]=data\n",
        "    \n",
        "    elif ((self.rear+1)%self.size)==self.front:\n",
        "      print(\"Queue is full\")\n",
        "    \n",
        "    else:\n",
        "      self.rear=(self.rear+1)%self.size\n",
        "      self.queue[self.rear]=data\n",
        "\n",
        "  def dequeue(self):\n",
        "    if self.front==-1 and self.rear==-1:\n",
        "      print(\"Empty Queue\")\n",
        "    elif self.front==self.rear:\n",
        "      self.queue[self.front]=None\n",
        "      self.front=-1\n",
        "      self.rear=-1\n",
        "    else:\n",
        "      print(\"Popped Element \",self.queue[self.front])\n",
        "      self.queue[self.front]=None\n",
        "      self.front=(self.front+1)%self.size\n",
        "  \n",
        "  def view(self):\n",
        "    if self.front==-1 and self.rear==-1:\n",
        "      print(\"Empty Queue\")\n",
        "    else:\n",
        "      #printing a circular queue\n",
        "      i=self.front\n",
        "      while i!=self.rear:\n",
        "        print(self.queue[i])\n",
        "        i=(i+1)%self.size\n",
        "      print(self.queue[i])\n",
        "\n",
        "\n"
      ]
    },
    {
      "cell_type": "code",
      "source": [
        "cqueue=CircularQueue(5)"
      ],
      "metadata": {
        "id": "_hsHNLIvwpcY"
      },
      "execution_count": 36,
      "outputs": []
    },
    {
      "cell_type": "code",
      "source": [
        "cqueue.enqueue(1)"
      ],
      "metadata": {
        "id": "-gpCkn_Uwu86"
      },
      "execution_count": 37,
      "outputs": []
    },
    {
      "cell_type": "code",
      "source": [
        "cqueue.enqueue(2)\n",
        "cqueue.enqueue(5)\n",
        "cqueue.enqueue(6)\n",
        "cqueue.enqueue(7)\n",
        "cqueue.enqueue(8)\n",
        "cqueue.enqueue(9)"
      ],
      "metadata": {
        "colab": {
          "base_uri": "https://localhost:8080/"
        },
        "id": "-E0-CCg_wzOU",
        "outputId": "1e4e0891-ac72-4b38-8147-4ee1e269ab75"
      },
      "execution_count": 38,
      "outputs": [
        {
          "output_type": "stream",
          "name": "stdout",
          "text": [
            "Queue is full\n",
            "Queue is full\n"
          ]
        }
      ]
    },
    {
      "cell_type": "code",
      "source": [
        "cqueue.view()"
      ],
      "metadata": {
        "colab": {
          "base_uri": "https://localhost:8080/"
        },
        "id": "ImnN1dmMw9Q5",
        "outputId": "9241bd0f-aea0-466b-f515-c84523b4fe56"
      },
      "execution_count": 39,
      "outputs": [
        {
          "output_type": "stream",
          "name": "stdout",
          "text": [
            "1\n",
            "2\n",
            "5\n",
            "6\n",
            "7\n"
          ]
        }
      ]
    },
    {
      "cell_type": "code",
      "source": [
        "cqueue.dequeue()"
      ],
      "metadata": {
        "colab": {
          "base_uri": "https://localhost:8080/"
        },
        "id": "QLWqZ2a7xAuE",
        "outputId": "d6226220-b7dc-4bcb-93fd-caeec60f4590"
      },
      "execution_count": 40,
      "outputs": [
        {
          "output_type": "stream",
          "name": "stdout",
          "text": [
            "Popped Element  1\n"
          ]
        }
      ]
    },
    {
      "cell_type": "code",
      "source": [
        "cqueue.dequeue()"
      ],
      "metadata": {
        "colab": {
          "base_uri": "https://localhost:8080/"
        },
        "id": "VqNAgU_bxTOr",
        "outputId": "a80dd7ec-f25c-4800-9705-f817477e9c27"
      },
      "execution_count": 41,
      "outputs": [
        {
          "output_type": "stream",
          "name": "stdout",
          "text": [
            "Popped Element  2\n"
          ]
        }
      ]
    },
    {
      "cell_type": "code",
      "source": [
        "cqueue.queue"
      ],
      "metadata": {
        "colab": {
          "base_uri": "https://localhost:8080/"
        },
        "id": "EOZW3VCPADh_",
        "outputId": "8b9ca447-6386-401d-dad4-2f6d7f69cec0"
      },
      "execution_count": 42,
      "outputs": [
        {
          "output_type": "execute_result",
          "data": {
            "text/plain": [
              "[None, None, 5, 6, 7]"
            ]
          },
          "metadata": {},
          "execution_count": 42
        }
      ]
    },
    {
      "cell_type": "code",
      "source": [
        "cqueue.enqueue(15)"
      ],
      "metadata": {
        "id": "O8lvyoBZxVeW"
      },
      "execution_count": 43,
      "outputs": []
    },
    {
      "cell_type": "code",
      "source": [
        "cqueue.enqueue(16)"
      ],
      "metadata": {
        "id": "cRVeaEaKxYcB"
      },
      "execution_count": 44,
      "outputs": []
    },
    {
      "cell_type": "code",
      "source": [
        "cqueue.queue"
      ],
      "metadata": {
        "colab": {
          "base_uri": "https://localhost:8080/"
        },
        "id": "gQWcaMirAf4Z",
        "outputId": "c6ac5d56-eec6-487c-a4ba-002cc296a9f2"
      },
      "execution_count": 45,
      "outputs": [
        {
          "output_type": "execute_result",
          "data": {
            "text/plain": [
              "[15, 16, 5, 6, 7]"
            ]
          },
          "metadata": {},
          "execution_count": 45
        }
      ]
    },
    {
      "cell_type": "code",
      "source": [
        "cqueue.view()"
      ],
      "metadata": {
        "colab": {
          "base_uri": "https://localhost:8080/"
        },
        "id": "Ef_k9a16xaWn",
        "outputId": "608199b9-ee55-47f5-8cf9-7cd0b33cceb4"
      },
      "execution_count": 46,
      "outputs": [
        {
          "output_type": "stream",
          "name": "stdout",
          "text": [
            "5\n",
            "6\n",
            "7\n",
            "15\n",
            "16\n"
          ]
        }
      ]
    },
    {
      "cell_type": "code",
      "source": [
        "cqueue.queue"
      ],
      "metadata": {
        "colab": {
          "base_uri": "https://localhost:8080/"
        },
        "id": "odkAti5__6d4",
        "outputId": "b5458b2e-a1d2-4aaa-85b7-8869d4cf7829"
      },
      "execution_count": 47,
      "outputs": [
        {
          "output_type": "execute_result",
          "data": {
            "text/plain": [
              "[15, 16, 5, 6, 7]"
            ]
          },
          "metadata": {},
          "execution_count": 47
        }
      ]
    },
    {
      "cell_type": "code",
      "source": [
        "cqueue.dequeue()"
      ],
      "metadata": {
        "colab": {
          "base_uri": "https://localhost:8080/"
        },
        "id": "_nZXzO9IymvS",
        "outputId": "7778b513-4f6a-4935-f3f8-f1f6a3d9a5cd"
      },
      "execution_count": 48,
      "outputs": [
        {
          "output_type": "stream",
          "name": "stdout",
          "text": [
            "Popped Element  5\n"
          ]
        }
      ]
    },
    {
      "cell_type": "code",
      "source": [
        "cqueue.dequeue()"
      ],
      "metadata": {
        "colab": {
          "base_uri": "https://localhost:8080/"
        },
        "id": "3yN9entZyosV",
        "outputId": "6ae5aef2-292c-4fff-c5ea-39bded9c8c3b"
      },
      "execution_count": 49,
      "outputs": [
        {
          "output_type": "stream",
          "name": "stdout",
          "text": [
            "Popped Element  6\n"
          ]
        }
      ]
    },
    {
      "cell_type": "code",
      "source": [
        "cqueue.dequeue()"
      ],
      "metadata": {
        "colab": {
          "base_uri": "https://localhost:8080/"
        },
        "id": "uAw9q-3Sz1xx",
        "outputId": "c1b24ded-1741-483e-ab53-8a7a735779a7"
      },
      "execution_count": 50,
      "outputs": [
        {
          "output_type": "stream",
          "name": "stdout",
          "text": [
            "Popped Element  7\n"
          ]
        }
      ]
    },
    {
      "cell_type": "code",
      "source": [
        "cqueue.view()"
      ],
      "metadata": {
        "colab": {
          "base_uri": "https://localhost:8080/"
        },
        "id": "cSJHkUzF_Gi7",
        "outputId": "2c136948-b285-403f-ec01-c3563a68f160"
      },
      "execution_count": 51,
      "outputs": [
        {
          "output_type": "stream",
          "name": "stdout",
          "text": [
            "15\n",
            "16\n"
          ]
        }
      ]
    },
    {
      "cell_type": "code",
      "source": [
        "cqueue.dequeue()"
      ],
      "metadata": {
        "colab": {
          "base_uri": "https://localhost:8080/"
        },
        "id": "wOe7Sqb_z3Wk",
        "outputId": "47afb772-9487-4bc9-c2b3-5679eb569aae"
      },
      "execution_count": 52,
      "outputs": [
        {
          "output_type": "stream",
          "name": "stdout",
          "text": [
            "Popped Element  15\n"
          ]
        }
      ]
    },
    {
      "cell_type": "code",
      "source": [
        "cqueue.dequeue()"
      ],
      "metadata": {
        "id": "xRSMLcENz5d-"
      },
      "execution_count": 53,
      "outputs": []
    },
    {
      "cell_type": "code",
      "source": [
        "cqueue.view()"
      ],
      "metadata": {
        "colab": {
          "base_uri": "https://localhost:8080/"
        },
        "id": "NJxru4Rmz8Dv",
        "outputId": "e9247c03-a5aa-44c3-fa0a-94b68a61d94f"
      },
      "execution_count": 54,
      "outputs": [
        {
          "output_type": "stream",
          "name": "stdout",
          "text": [
            "Empty Queue\n"
          ]
        }
      ]
    },
    {
      "cell_type": "code",
      "source": [
        "list1=cqueue.queue.copy()"
      ],
      "metadata": {
        "id": "S3xI85Hy4UAy"
      },
      "execution_count": 55,
      "outputs": []
    },
    {
      "cell_type": "code",
      "source": [
        "list1"
      ],
      "metadata": {
        "colab": {
          "base_uri": "https://localhost:8080/"
        },
        "id": "Ux4m41NJ7mUo",
        "outputId": "01a565cf-f8f3-4b52-da01-09bc85285991"
      },
      "execution_count": 56,
      "outputs": [
        {
          "output_type": "execute_result",
          "data": {
            "text/plain": [
              "[None, None, None, None, None]"
            ]
          },
          "metadata": {},
          "execution_count": 56
        }
      ]
    },
    {
      "cell_type": "code",
      "source": [
        "list1.pop()"
      ],
      "metadata": {
        "id": "9Yhs6PLN8Sf-"
      },
      "execution_count": 57,
      "outputs": []
    },
    {
      "cell_type": "code",
      "source": [
        "list1"
      ],
      "metadata": {
        "colab": {
          "base_uri": "https://localhost:8080/"
        },
        "id": "FgC3K2H48Uel",
        "outputId": "92939354-7a33-42ba-db28-77432c7e31bc"
      },
      "execution_count": 58,
      "outputs": [
        {
          "output_type": "execute_result",
          "data": {
            "text/plain": [
              "[None, None, None, None]"
            ]
          },
          "metadata": {},
          "execution_count": 58
        }
      ]
    },
    {
      "cell_type": "code",
      "source": [
        "class Node:\n",
        "  def __init__(self,data):\n",
        "    self.data=data\n",
        "    self.next=None\n",
        "\n",
        "class CircularQueue_ll:\n",
        "  def __init__(self):\n",
        "    self.front=None\n",
        "    self.rear=None\n",
        "  \n",
        "  def enqueue(self,data):\n",
        "    new_node=Node(data)\n",
        "    if self.front==None and self.rear==None: #empty\n",
        "      self.front=new_node\n",
        "      self.rear=new_node\n",
        "      self.rear.next=self.front\n",
        "    else:\n",
        "      self.rear.next=new_node\n",
        "      new_node.next=self.front\n",
        "      self.rear=new_node\n",
        "  \n",
        "  def dequeue(self):\n",
        "    if self.front==None and self.rear==None:\n",
        "      print(\"Underflow\")\n",
        "    \n",
        "    #if only one element is left\n",
        "    elif self.front==self.rear:\n",
        "      self.front=None\n",
        "      self.rear=None\n",
        "    else:\n",
        "      temp=self.front\n",
        "      self.front=temp.next\n",
        "      temp.next=None\n",
        "      self.rear.next=self.front\n",
        "  \n",
        "  def view(self):\n",
        "    if self.front==None and self.rear==None:\n",
        "      print(\"Empty Circular Queue\")\n",
        "    else:\n",
        "      temp=self.front\n",
        "      while temp!=self.rear:\n",
        "        print(temp.data)\n",
        "        temp=temp.next\n",
        "      print(temp.data)\n",
        "      print(\"Front data from rear\",self.rear.next.data)"
      ],
      "metadata": {
        "id": "zfESFNp4IuMh"
      },
      "execution_count": 59,
      "outputs": []
    },
    {
      "cell_type": "code",
      "source": [
        "cqueue=CircularQueue_ll()"
      ],
      "metadata": {
        "id": "T6rW_Q8dIuPg"
      },
      "execution_count": 60,
      "outputs": []
    },
    {
      "cell_type": "code",
      "source": [
        "cqueue.enqueue(12)"
      ],
      "metadata": {
        "id": "MmrrxjzNIuSS"
      },
      "execution_count": 61,
      "outputs": []
    },
    {
      "cell_type": "code",
      "source": [
        "cqueue.enqueue(123)"
      ],
      "metadata": {
        "id": "jIotW5i9IuVM"
      },
      "execution_count": 62,
      "outputs": []
    },
    {
      "cell_type": "code",
      "source": [
        "cqueue.enqueue(24)"
      ],
      "metadata": {
        "id": "evbkMyxfIuYC"
      },
      "execution_count": 63,
      "outputs": []
    },
    {
      "cell_type": "code",
      "source": [
        "cqueue.enqueue(34)"
      ],
      "metadata": {
        "id": "zHxa01KvIua7"
      },
      "execution_count": 64,
      "outputs": []
    },
    {
      "cell_type": "code",
      "source": [
        "cqueue.view()"
      ],
      "metadata": {
        "colab": {
          "base_uri": "https://localhost:8080/"
        },
        "id": "Cs897s3cIude",
        "outputId": "85ff985c-1157-4b42-e7ee-2457f3873988"
      },
      "execution_count": 65,
      "outputs": [
        {
          "output_type": "stream",
          "name": "stdout",
          "text": [
            "12\n",
            "123\n",
            "24\n",
            "34\n",
            "Front data from rear 12\n"
          ]
        }
      ]
    },
    {
      "cell_type": "code",
      "source": [
        "cqueue.front.data"
      ],
      "metadata": {
        "colab": {
          "base_uri": "https://localhost:8080/"
        },
        "id": "5j30wauoLCPX",
        "outputId": "de739160-f26b-4df0-b654-afa92b05b9c0"
      },
      "execution_count": 66,
      "outputs": [
        {
          "output_type": "execute_result",
          "data": {
            "text/plain": [
              "12"
            ]
          },
          "metadata": {},
          "execution_count": 66
        }
      ]
    },
    {
      "cell_type": "code",
      "source": [
        "cqueue.rear.data"
      ],
      "metadata": {
        "colab": {
          "base_uri": "https://localhost:8080/"
        },
        "id": "wePGoZ3nLKbi",
        "outputId": "ca3645be-f19e-4605-b0d4-d4b31bdd2732"
      },
      "execution_count": 67,
      "outputs": [
        {
          "output_type": "execute_result",
          "data": {
            "text/plain": [
              "34"
            ]
          },
          "metadata": {},
          "execution_count": 67
        }
      ]
    },
    {
      "cell_type": "code",
      "source": [
        "cqueue.dequeue()"
      ],
      "metadata": {
        "id": "8galpdXBLOWS"
      },
      "execution_count": 68,
      "outputs": []
    },
    {
      "cell_type": "code",
      "source": [
        "cqueue.dequeue()"
      ],
      "metadata": {
        "id": "BP2iUQ5rr-Qs"
      },
      "execution_count": 69,
      "outputs": []
    },
    {
      "cell_type": "code",
      "source": [
        "cqueue.view()"
      ],
      "metadata": {
        "colab": {
          "base_uri": "https://localhost:8080/"
        },
        "id": "Lz60idiNsCke",
        "outputId": "9ac60f58-6e22-4fa1-da47-87f97cc410ec"
      },
      "execution_count": 70,
      "outputs": [
        {
          "output_type": "stream",
          "name": "stdout",
          "text": [
            "24\n",
            "34\n",
            "Front data from rear 24\n"
          ]
        }
      ]
    },
    {
      "cell_type": "code",
      "source": [
        "cqueue.dequeue()"
      ],
      "metadata": {
        "id": "h63ZuGGhsEJw"
      },
      "execution_count": 71,
      "outputs": []
    },
    {
      "cell_type": "code",
      "source": [
        "cqueue.view()"
      ],
      "metadata": {
        "colab": {
          "base_uri": "https://localhost:8080/"
        },
        "id": "bpWWqKqCsHTn",
        "outputId": "b7841b77-b2b8-4b79-87e4-81886fc6e99b"
      },
      "execution_count": 72,
      "outputs": [
        {
          "output_type": "stream",
          "name": "stdout",
          "text": [
            "34\n",
            "Front data from rear 34\n"
          ]
        }
      ]
    },
    {
      "cell_type": "code",
      "source": [
        "cqueue.dequeue()"
      ],
      "metadata": {
        "id": "FKEDUuZMsI7s"
      },
      "execution_count": 73,
      "outputs": []
    },
    {
      "cell_type": "code",
      "source": [
        "cqueue.view()"
      ],
      "metadata": {
        "colab": {
          "base_uri": "https://localhost:8080/"
        },
        "id": "roROGxENsLJR",
        "outputId": "c3fa0f64-41e5-44ea-864f-2015069ca0aa"
      },
      "execution_count": 74,
      "outputs": [
        {
          "output_type": "stream",
          "name": "stdout",
          "text": [
            "Empty Circular Queue\n"
          ]
        }
      ]
    },
    {
      "cell_type": "code",
      "source": [
        "cqueue.dequeue()"
      ],
      "metadata": {
        "colab": {
          "base_uri": "https://localhost:8080/"
        },
        "id": "6E8WgpPCsMsZ",
        "outputId": "494624fc-c598-4b21-b1b8-d62300df24e5"
      },
      "execution_count": 78,
      "outputs": [
        {
          "output_type": "stream",
          "name": "stdout",
          "text": [
            "Underflow\n"
          ]
        }
      ]
    },
    {
      "cell_type": "code",
      "source": [
        "cqueue.view()"
      ],
      "metadata": {
        "colab": {
          "base_uri": "https://localhost:8080/"
        },
        "id": "xRM5IZxXsRvp",
        "outputId": "0af85fe1-36b7-4a3f-f940-2c8154fc8c2e"
      },
      "execution_count": 79,
      "outputs": [
        {
          "output_type": "stream",
          "name": "stdout",
          "text": [
            "Empty Circular Queue\n"
          ]
        }
      ]
    },
    {
      "cell_type": "code",
      "source": [
        "#unable to delete the last node"
      ],
      "metadata": {
        "id": "qbECGIPCsZqX"
      },
      "execution_count": null,
      "outputs": []
    }
  ]
}