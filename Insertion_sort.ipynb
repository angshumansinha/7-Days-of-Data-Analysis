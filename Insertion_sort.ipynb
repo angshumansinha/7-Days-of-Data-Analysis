{
  "nbformat": 4,
  "nbformat_minor": 0,
  "metadata": {
    "colab": {
      "name": "Insertion sort.ipynb",
      "provenance": [],
      "authorship_tag": "ABX9TyP1vRAzW9plv1HG4JaHa3RH",
      "include_colab_link": true
    },
    "kernelspec": {
      "name": "python3",
      "display_name": "Python 3"
    },
    "language_info": {
      "name": "python"
    }
  },
  "cells": [
    {
      "cell_type": "markdown",
      "metadata": {
        "id": "view-in-github",
        "colab_type": "text"
      },
      "source": [
        "<a href=\"https://colab.research.google.com/github/angshumansinha/7-Days-of-Data-Analysis/blob/main/Insertion_sort.ipynb\" target=\"_parent\"><img src=\"https://colab.research.google.com/assets/colab-badge.svg\" alt=\"Open In Colab\"/></a>"
      ]
    },
    {
      "cell_type": "code",
      "execution_count": 5,
      "metadata": {
        "id": "Q_Yp_XFHP1-j"
      },
      "outputs": [],
      "source": [
        "#lets create an insertion sort algorithm\n",
        "\n",
        "def insertion_sort(array):\n",
        "  a=array\n",
        "  for i in range(1, len(a)):\n",
        "    #consider a temporary variable\n",
        "    temp=a[i]\n",
        "    j=i-1\n",
        "    #for sorted list inner loop\n",
        "    while j>=0 and a[j]>temp:\n",
        "      a[j+1]=a[j] #shift one postion\n",
        "      j-=1\n",
        "    a[j+1]=temp\n",
        "  return a\n",
        "    \n"
      ]
    },
    {
      "cell_type": "code",
      "source": [
        "a=[9,8,1,3,4,5,6]\n",
        "print(insertion_sort(a))"
      ],
      "metadata": {
        "colab": {
          "base_uri": "https://localhost:8080/"
        },
        "id": "hglKV-JFSTSb",
        "outputId": "97738e92-eacf-49e1-8cbc-48fccf113edf"
      },
      "execution_count": 6,
      "outputs": [
        {
          "output_type": "stream",
          "name": "stdout",
          "text": [
            "[1, 3, 4, 5, 6, 8, 9]\n"
          ]
        }
      ]
    },
    {
      "cell_type": "code",
      "source": [
        "#Time complexity O(n**2)---> worst case\n",
        "#O(n)---->best case"
      ],
      "metadata": {
        "id": "eEF4m_esSayG"
      },
      "execution_count": 7,
      "outputs": []
    },
    {
      "cell_type": "code",
      "source": [
        ""
      ],
      "metadata": {
        "id": "QLT-sXCSS2ZD"
      },
      "execution_count": null,
      "outputs": []
    }
  ]
}