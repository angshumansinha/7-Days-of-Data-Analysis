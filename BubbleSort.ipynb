{
  "nbformat": 4,
  "nbformat_minor": 0,
  "metadata": {
    "colab": {
      "name": "BubbleSort.ipynb",
      "provenance": [],
      "authorship_tag": "ABX9TyMY8HSeUc5/GoQcklPK4yA5",
      "include_colab_link": true
    },
    "kernelspec": {
      "name": "python3",
      "display_name": "Python 3"
    },
    "language_info": {
      "name": "python"
    }
  },
  "cells": [
    {
      "cell_type": "markdown",
      "metadata": {
        "id": "view-in-github",
        "colab_type": "text"
      },
      "source": [
        "<a href=\"https://colab.research.google.com/github/angshumansinha/7-Days-of-Data-Analysis/blob/main/BubbleSort.ipynb\" target=\"_parent\"><img src=\"https://colab.research.google.com/assets/colab-badge.svg\" alt=\"Open In Colab\"/></a>"
      ]
    },
    {
      "cell_type": "code",
      "execution_count": 19,
      "metadata": {
        "id": "QMbwR9SUkzsz"
      },
      "outputs": [],
      "source": [
        "\"\"\"\n",
        "Let's under stand the bubble sort algorithm\n",
        "\n",
        "Technique: Given an array, for each PASS, it does a COMPARISON with the adjacent element to return a complete sorted array in ascending order.\n",
        "\n",
        "PASS: a particular iteration of a loop\n",
        "COMPARISON: checking if prev value is greater then current value, if yes, perform swapping\n",
        "\n",
        "GENERAL RULE: say if we have n elements, we need n-1 passes and within each PASS we need n-1 COMPARISONS\n",
        "\n",
        "let's take an example i:denotes each pass , j:denotes each comparison\n",
        "\n",
        "\"\"\"\n",
        "class BubbleSort:\n",
        "  def __init__(self,array):\n",
        "    self.array=array\n",
        "    self.n=len(self.array)\n",
        "  \n",
        "  def normal_bbl_sort(self):\n",
        "    print(\"Unsorted Array \",self.array)\n",
        "    for i in range(0,self.n-1):\n",
        "      for j in range(0,self.n-1):\n",
        "        if self.array[j]>self.array[j+1]:\n",
        "          temp=self.array[j]\n",
        "          self.array[j]=self.array[j+1]\n",
        "          self.array[j+1]=temp\n",
        "    print(\"Sorted array \",self.array)\n",
        "  \n",
        "  def optimal_comp_bbl_sort(self): # at each pass, we can simply avoid the already sorted element and compare the rest and so with each pass, comparison count reduces\n",
        "    print(\"Unsorted Array \",self.array)\n",
        "    for i in range(0,self.n-1):\n",
        "      for j in range(0,self.n-1-i):\n",
        "        if self.array[j]>self.array[j+1]:\n",
        "          temp=self.array[j]\n",
        "          self.array[j]=self.array[j+1]\n",
        "          self.array[j+1]=temp\n",
        "    print(\"Sorted array \",self.array)\n",
        "  \n",
        "  def optimal_pass_comp_bbl_sort(self): # there are cases when at very less no of cases, the array already gets sorted we can avoid the no of passes\n",
        "    print(\"Unsorted Array \",self.array)\n",
        "    for i in range(0,self.n-1):\n",
        "      flag=0\n",
        "      for j in range(0,self.n-1-i):\n",
        "        if self.array[j]>self.array[j+1]:\n",
        "          temp=self.array[j]\n",
        "          self.array[j]=self.array[j+1]\n",
        "          self.array[j+1]=temp\n",
        "          flag=1 #denoting swapping is done\n",
        "      if flag==0:\n",
        "        print(\"Array already sorted\")\n",
        "        break\n",
        "    print(\"Sorted array \",self.array)\n",
        "\n",
        "  "
      ]
    },
    {
      "cell_type": "code",
      "source": [
        "sort=BubbleSort([15,16,6,8,5])"
      ],
      "metadata": {
        "id": "h44AdiVymojG"
      },
      "execution_count": 20,
      "outputs": []
    },
    {
      "cell_type": "code",
      "source": [
        "sort.normal_bbl_sort() #higher time complexity"
      ],
      "metadata": {
        "colab": {
          "base_uri": "https://localhost:8080/"
        },
        "id": "MtuwbMF3ols9",
        "outputId": "b5b821e5-1e9b-46c8-e239-9bff0ec99737"
      },
      "execution_count": 21,
      "outputs": [
        {
          "output_type": "stream",
          "name": "stdout",
          "text": [
            "Unsorted Array  [15, 16, 6, 8, 5]\n",
            "Sorted array  [5, 6, 8, 15, 16]\n"
          ]
        }
      ]
    },
    {
      "cell_type": "code",
      "source": [
        "sort=BubbleSort([15,16,6,8,5])"
      ],
      "metadata": {
        "id": "WysP8HMJonw7"
      },
      "execution_count": 22,
      "outputs": []
    },
    {
      "cell_type": "code",
      "source": [
        "sort.optimal_comp_bbl_sort()"
      ],
      "metadata": {
        "colab": {
          "base_uri": "https://localhost:8080/"
        },
        "id": "Gd3QmoNspQgc",
        "outputId": "5ccae06f-bae4-4944-edbe-af532014029b"
      },
      "execution_count": 23,
      "outputs": [
        {
          "output_type": "stream",
          "name": "stdout",
          "text": [
            "Unsorted Array  [15, 16, 6, 8, 5]\n",
            "Sorted array  [5, 6, 8, 15, 16]\n"
          ]
        }
      ]
    },
    {
      "cell_type": "code",
      "source": [
        "sort=BubbleSort([1,2,4,5,6])"
      ],
      "metadata": {
        "id": "81UW3HOypS4m"
      },
      "execution_count": 24,
      "outputs": []
    },
    {
      "cell_type": "code",
      "source": [
        "sort.optimal_pass_comp_bbl_sort()"
      ],
      "metadata": {
        "colab": {
          "base_uri": "https://localhost:8080/"
        },
        "id": "9IJTeZxtqMDH",
        "outputId": "d285edb6-6e6a-4e05-faf2-805dfc8ce8b4"
      },
      "execution_count": 25,
      "outputs": [
        {
          "output_type": "stream",
          "name": "stdout",
          "text": [
            "Unsorted Array  [1, 2, 4, 5, 6]\n",
            "Array already sorted\n",
            "Sorted array  [1, 2, 4, 5, 6]\n"
          ]
        }
      ]
    },
    {
      "cell_type": "code",
      "source": [
        "#TIme complexity\n",
        "#Best case : array already sorted: Pass loop runs just once for i=0 and Comparison loop n-1 times : O(n)\n",
        "#Worst case : Array in descending order : O(n**2)"
      ],
      "metadata": {
        "id": "ftXhdNQ1qVZ6"
      },
      "execution_count": 26,
      "outputs": []
    }
  ]
}