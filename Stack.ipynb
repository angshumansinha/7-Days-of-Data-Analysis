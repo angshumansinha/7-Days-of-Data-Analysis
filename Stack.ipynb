{
  "nbformat": 4,
  "nbformat_minor": 0,
  "metadata": {
    "colab": {
      "name": "Stack.ipynb",
      "provenance": [],
      "authorship_tag": "ABX9TyPET/h9I+ik8lDSQrBe3O3E",
      "include_colab_link": true
    },
    "kernelspec": {
      "name": "python3",
      "display_name": "Python 3"
    },
    "language_info": {
      "name": "python"
    }
  },
  "cells": [
    {
      "cell_type": "markdown",
      "metadata": {
        "id": "view-in-github",
        "colab_type": "text"
      },
      "source": [
        "<a href=\"https://colab.research.google.com/github/angshumansinha/7-Days-of-Data-Analysis/blob/main/Stack.ipynb\" target=\"_parent\"><img src=\"https://colab.research.google.com/assets/colab-badge.svg\" alt=\"Open In Colab\"/></a>"
      ]
    },
    {
      "cell_type": "code",
      "execution_count": 42,
      "metadata": {
        "id": "_th_DK2cXMu_"
      },
      "outputs": [],
      "source": [
        "# Stack implementation using arrays and linked list\n",
        "class Stack:\n",
        "  def __init__(self,size):\n",
        "    self.arr=[None]*size\n",
        "    self.size=size\n",
        "    self.top=-1\n",
        "\n",
        "  def push(self,data):\n",
        "    if self.top!=self.size-1:\n",
        "      self.top=self.top+1\n",
        "      self.arr[self.top]=data\n",
        "    else:\n",
        "      print(\"Over flow\")\n",
        "\n",
        "  def pop(self):\n",
        "    if self.top!=-1:\n",
        "      print(\"Popped element {}\".format(self.arr[self.top]))\n",
        "      self.top=self.top-1\n",
        "    else:\n",
        "        print(\"Under flow\")\n",
        "  \n",
        "  def view(self):\n",
        "    if self.top!=-1:\n",
        "      for x in range(0,self.top+1):\n",
        "        print(self.arr[x])\n",
        "    else:\n",
        "      print(\"Empty Stack\")\n"
      ]
    },
    {
      "cell_type": "code",
      "source": [
        "stack=Stack(5)"
      ],
      "metadata": {
        "id": "bDQrwHDdYozk"
      },
      "execution_count": 43,
      "outputs": []
    },
    {
      "cell_type": "code",
      "source": [
        "stack.push(9)"
      ],
      "metadata": {
        "id": "NmUr6l6hYuv5"
      },
      "execution_count": 44,
      "outputs": []
    },
    {
      "cell_type": "code",
      "source": [
        "stack.view()"
      ],
      "metadata": {
        "colab": {
          "base_uri": "https://localhost:8080/"
        },
        "id": "odMIA3AUYwyB",
        "outputId": "e90722b8-185c-4c8e-a0be-7fc9df5e7e23"
      },
      "execution_count": 45,
      "outputs": [
        {
          "output_type": "stream",
          "name": "stdout",
          "text": [
            "9\n"
          ]
        }
      ]
    },
    {
      "cell_type": "code",
      "source": [
        "stack.push(10)"
      ],
      "metadata": {
        "id": "n4JQCw7qYyxt"
      },
      "execution_count": 46,
      "outputs": []
    },
    {
      "cell_type": "code",
      "source": [
        "stack.push(19)"
      ],
      "metadata": {
        "id": "ScRu8R_hY9FL"
      },
      "execution_count": 47,
      "outputs": []
    },
    {
      "cell_type": "code",
      "source": [
        "stack.view()"
      ],
      "metadata": {
        "colab": {
          "base_uri": "https://localhost:8080/"
        },
        "id": "yBHGM_hHY_RM",
        "outputId": "623ec716-e87c-4243-99bb-0b44de0ff063"
      },
      "execution_count": 48,
      "outputs": [
        {
          "output_type": "stream",
          "name": "stdout",
          "text": [
            "9\n",
            "10\n",
            "19\n"
          ]
        }
      ]
    },
    {
      "cell_type": "code",
      "source": [
        "stack.pop()"
      ],
      "metadata": {
        "colab": {
          "base_uri": "https://localhost:8080/"
        },
        "id": "qdrpAOzeZA6z",
        "outputId": "655483a9-3f7b-421b-9ff7-14a443e48da3"
      },
      "execution_count": 49,
      "outputs": [
        {
          "output_type": "stream",
          "name": "stdout",
          "text": [
            "Popped element 19\n"
          ]
        }
      ]
    },
    {
      "cell_type": "code",
      "source": [
        "stack.view()"
      ],
      "metadata": {
        "colab": {
          "base_uri": "https://localhost:8080/"
        },
        "id": "7CooJn6OZV9k",
        "outputId": "747e7808-eecd-40c5-fad3-dc4e58b7c9b4"
      },
      "execution_count": 50,
      "outputs": [
        {
          "output_type": "stream",
          "name": "stdout",
          "text": [
            "9\n",
            "10\n"
          ]
        }
      ]
    },
    {
      "cell_type": "code",
      "source": [
        "stack.pop()"
      ],
      "metadata": {
        "colab": {
          "base_uri": "https://localhost:8080/"
        },
        "id": "OFdOgbNvZaAC",
        "outputId": "2eba9add-d8e6-46b5-d637-6bd67fa4b6c3"
      },
      "execution_count": 51,
      "outputs": [
        {
          "output_type": "stream",
          "name": "stdout",
          "text": [
            "Popped element 10\n"
          ]
        }
      ]
    },
    {
      "cell_type": "code",
      "source": [
        "stack.pop()"
      ],
      "metadata": {
        "colab": {
          "base_uri": "https://localhost:8080/"
        },
        "id": "QspOJOtNZokL",
        "outputId": "35eb293f-ddf8-4905-9bed-42e984a3a8f5"
      },
      "execution_count": 52,
      "outputs": [
        {
          "output_type": "stream",
          "name": "stdout",
          "text": [
            "Popped element 9\n"
          ]
        }
      ]
    },
    {
      "cell_type": "code",
      "source": [
        "stack.pop()"
      ],
      "metadata": {
        "colab": {
          "base_uri": "https://localhost:8080/"
        },
        "id": "o6kZkyNZZqeL",
        "outputId": "43f686d0-2d8f-42ee-c1eb-34f0b5a79be6"
      },
      "execution_count": 53,
      "outputs": [
        {
          "output_type": "stream",
          "name": "stdout",
          "text": [
            "Under flow\n"
          ]
        }
      ]
    },
    {
      "cell_type": "code",
      "source": [
        "stack.pop()"
      ],
      "metadata": {
        "colab": {
          "base_uri": "https://localhost:8080/"
        },
        "id": "Hpg834OxZsDE",
        "outputId": "1cf606e3-baaf-4ab8-d937-de129b0e78c3"
      },
      "execution_count": 54,
      "outputs": [
        {
          "output_type": "stream",
          "name": "stdout",
          "text": [
            "Under flow\n"
          ]
        }
      ]
    },
    {
      "cell_type": "code",
      "source": [
        "stack.push(19)"
      ],
      "metadata": {
        "id": "LDa2zRWEZt8u"
      },
      "execution_count": 55,
      "outputs": []
    },
    {
      "cell_type": "code",
      "source": [
        "stack.push(29)"
      ],
      "metadata": {
        "id": "9X8pCrHLaQ8O"
      },
      "execution_count": 56,
      "outputs": []
    },
    {
      "cell_type": "code",
      "source": [
        "stack.push(31)"
      ],
      "metadata": {
        "id": "7AEkywCKaSZs"
      },
      "execution_count": 57,
      "outputs": []
    },
    {
      "cell_type": "code",
      "source": [
        "stack.push(-90)"
      ],
      "metadata": {
        "id": "nVNs5dbGaUSZ"
      },
      "execution_count": 58,
      "outputs": []
    },
    {
      "cell_type": "code",
      "source": [
        "stack.push(87)"
      ],
      "metadata": {
        "id": "O3eJADEQaV8C"
      },
      "execution_count": 59,
      "outputs": []
    },
    {
      "cell_type": "code",
      "source": [
        "stack.push(177)"
      ],
      "metadata": {
        "colab": {
          "base_uri": "https://localhost:8080/"
        },
        "id": "i3XKAALTaXY8",
        "outputId": "d400805b-a48e-44b0-b173-4695583d55c2"
      },
      "execution_count": 60,
      "outputs": [
        {
          "output_type": "stream",
          "name": "stdout",
          "text": [
            "Over flow\n"
          ]
        }
      ]
    },
    {
      "cell_type": "code",
      "source": [
        "stack.view()"
      ],
      "metadata": {
        "colab": {
          "base_uri": "https://localhost:8080/"
        },
        "id": "0qMVqYZwaZYh",
        "outputId": "3ca134ab-2b76-4b3f-ce86-8c26a656f58c"
      },
      "execution_count": 61,
      "outputs": [
        {
          "output_type": "stream",
          "name": "stdout",
          "text": [
            "19\n",
            "29\n",
            "31\n",
            "-90\n",
            "87\n"
          ]
        }
      ]
    },
    {
      "cell_type": "code",
      "source": [
        "#drawback of stack implementation using array is that the size is fixed. Let's implement a stack now using a linked list"
      ],
      "metadata": {
        "id": "LtFU6AlUabzj"
      },
      "execution_count": 62,
      "outputs": []
    },
    {
      "cell_type": "code",
      "source": [
        "class Stack_ll:\n",
        "  def __init__(self):\n",
        "    self.head=None   # no need to mention size as ll is dynamic in size\n",
        "\n",
        "  def push(self,data): # insertion only at the beginning\n",
        "    #empty node\n",
        "    new_node=Stack_node(data)\n",
        "    new_node.next=self.head\n",
        "    self.head=new_node\n",
        "  \n",
        "  def pop(self): #pop only from the beginning\n",
        "    temp=self.head\n",
        "    if temp!=None:\n",
        "      print(\"Popped_Data \",temp.data)\n",
        "      self.head=temp.next\n",
        "      temp.next=None\n",
        "\n",
        "    else:\n",
        "      print(\"Empty Stack\")\n",
        "  \n",
        "  def view(self):\n",
        "    temp=self.head\n",
        "    if temp!=None:\n",
        "      while temp:\n",
        "        print(temp.data)\n",
        "        temp=temp.next\n",
        "      print(\"Top element \",self.head.data)\n",
        "    else:\n",
        "      print(\"Empty Stack\")\n",
        "\n",
        "\n",
        "\n",
        "class Stack_node:\n",
        "  def __init__(self,data):\n",
        "    self.next=None\n",
        "    self.data=data"
      ],
      "metadata": {
        "id": "srLB-pygapOx"
      },
      "execution_count": 83,
      "outputs": []
    },
    {
      "cell_type": "code",
      "source": [
        "node=Stack_node(10)"
      ],
      "metadata": {
        "id": "FhmdUbMigr8i"
      },
      "execution_count": 84,
      "outputs": []
    },
    {
      "cell_type": "code",
      "source": [
        "stack_ll=Stack_ll()\n",
        "stack_ll.head=node"
      ],
      "metadata": {
        "id": "wry-aVOygzTO"
      },
      "execution_count": 85,
      "outputs": []
    },
    {
      "cell_type": "code",
      "source": [
        "stack_ll.view()"
      ],
      "metadata": {
        "colab": {
          "base_uri": "https://localhost:8080/"
        },
        "id": "bfvgNcPFhCL-",
        "outputId": "b9f1de72-f075-4ad8-8f62-04865c19065a"
      },
      "execution_count": 86,
      "outputs": [
        {
          "output_type": "stream",
          "name": "stdout",
          "text": [
            "10\n",
            "Top element  10\n"
          ]
        }
      ]
    },
    {
      "cell_type": "code",
      "source": [
        "stack_ll.push(11)"
      ],
      "metadata": {
        "id": "G_m_S4mQhEO0"
      },
      "execution_count": 87,
      "outputs": []
    },
    {
      "cell_type": "code",
      "source": [
        "stack_ll.push(12)"
      ],
      "metadata": {
        "id": "H_POQe9ThMJN"
      },
      "execution_count": 88,
      "outputs": []
    },
    {
      "cell_type": "code",
      "source": [
        "stack_ll.view()"
      ],
      "metadata": {
        "colab": {
          "base_uri": "https://localhost:8080/"
        },
        "id": "1w-V78cghOo-",
        "outputId": "07cdb67e-eb46-4fa3-c491-9fcdf4b3deed"
      },
      "execution_count": 89,
      "outputs": [
        {
          "output_type": "stream",
          "name": "stdout",
          "text": [
            "12\n",
            "11\n",
            "10\n",
            "Top element  12\n"
          ]
        }
      ]
    },
    {
      "cell_type": "code",
      "source": [
        "stack_ll.pop()"
      ],
      "metadata": {
        "colab": {
          "base_uri": "https://localhost:8080/"
        },
        "id": "lTSJXI1phQVP",
        "outputId": "25b130cb-b061-45fc-eeff-d8e96b716363"
      },
      "execution_count": 90,
      "outputs": [
        {
          "output_type": "stream",
          "name": "stdout",
          "text": [
            "Popped_Data  12\n"
          ]
        }
      ]
    },
    {
      "cell_type": "code",
      "source": [
        "stack_ll.view()"
      ],
      "metadata": {
        "colab": {
          "base_uri": "https://localhost:8080/"
        },
        "id": "gjxKo3pmhVeI",
        "outputId": "89cf7499-e035-4e99-cae1-5969da8f6d6e"
      },
      "execution_count": 91,
      "outputs": [
        {
          "output_type": "stream",
          "name": "stdout",
          "text": [
            "11\n",
            "10\n",
            "Top element  11\n"
          ]
        }
      ]
    },
    {
      "cell_type": "code",
      "source": [
        "stack_ll.pop()"
      ],
      "metadata": {
        "colab": {
          "base_uri": "https://localhost:8080/"
        },
        "id": "JvPwVbmeidP8",
        "outputId": "cd7fcc4a-f7f5-44d5-8c00-76aff8cf3e0f"
      },
      "execution_count": 92,
      "outputs": [
        {
          "output_type": "stream",
          "name": "stdout",
          "text": [
            "Popped_Data  11\n"
          ]
        }
      ]
    },
    {
      "cell_type": "code",
      "source": [
        "stack_ll.view()"
      ],
      "metadata": {
        "colab": {
          "base_uri": "https://localhost:8080/"
        },
        "id": "mFtJ4LcGigRL",
        "outputId": "e9e8fe64-b61d-4293-ee6a-37e371bc0284"
      },
      "execution_count": 93,
      "outputs": [
        {
          "output_type": "stream",
          "name": "stdout",
          "text": [
            "10\n",
            "Top element  10\n"
          ]
        }
      ]
    },
    {
      "cell_type": "code",
      "source": [
        "stack_ll.pop()"
      ],
      "metadata": {
        "colab": {
          "base_uri": "https://localhost:8080/"
        },
        "id": "Cw1L-ISIih3J",
        "outputId": "9cc1df6c-c729-44e5-e325-860391912485"
      },
      "execution_count": 94,
      "outputs": [
        {
          "output_type": "stream",
          "name": "stdout",
          "text": [
            "Popped_Data  10\n"
          ]
        }
      ]
    },
    {
      "cell_type": "code",
      "source": [
        "stack_ll.view()"
      ],
      "metadata": {
        "colab": {
          "base_uri": "https://localhost:8080/"
        },
        "id": "VN7wKjWOijvt",
        "outputId": "c66cda93-5642-4f5a-a470-de36f1a7742f"
      },
      "execution_count": 95,
      "outputs": [
        {
          "output_type": "stream",
          "name": "stdout",
          "text": [
            "Empty Stack\n"
          ]
        }
      ]
    },
    {
      "cell_type": "code",
      "source": [
        "stack_ll.pop()"
      ],
      "metadata": {
        "colab": {
          "base_uri": "https://localhost:8080/"
        },
        "id": "4L8Dbz4Milb1",
        "outputId": "be1a6a31-c0d1-4d14-f089-c030844679e7"
      },
      "execution_count": 96,
      "outputs": [
        {
          "output_type": "stream",
          "name": "stdout",
          "text": [
            "Empty Stack\n"
          ]
        }
      ]
    },
    {
      "cell_type": "code",
      "source": [
        "stack_ll.push(10)"
      ],
      "metadata": {
        "id": "Yj6ED7aLinpr"
      },
      "execution_count": 97,
      "outputs": []
    },
    {
      "cell_type": "code",
      "source": [
        "stack_ll.view()"
      ],
      "metadata": {
        "colab": {
          "base_uri": "https://localhost:8080/"
        },
        "id": "-0Qaps2iip-u",
        "outputId": "80a8d9d6-e0b4-4cae-c385-c6660586253c"
      },
      "execution_count": 98,
      "outputs": [
        {
          "output_type": "stream",
          "name": "stdout",
          "text": [
            "10\n",
            "Top element  10\n"
          ]
        }
      ]
    }
  ]
}